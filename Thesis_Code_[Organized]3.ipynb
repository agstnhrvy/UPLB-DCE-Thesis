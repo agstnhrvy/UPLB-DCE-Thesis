{
  "nbformat": 4,
  "nbformat_minor": 0,
  "metadata": {
    "colab": {
      "provenance": [],
      "toc_visible": true,
      "authorship_tag": "ABX9TyMQzt5a0HXRWxL1RX4g+Y/S",
      "include_colab_link": true
    },
    "kernelspec": {
      "name": "python3",
      "display_name": "Python 3"
    },
    "language_info": {
      "name": "python"
    }
  },
  "cells": [
    {
      "cell_type": "markdown",
      "metadata": {
        "id": "view-in-github",
        "colab_type": "text"
      },
      "source": [
        "<a href=\"https://colab.research.google.com/github/agstnhrvy/UPLB-DCE-Thesis/blob/main/Thesis_Code_%5BOrganized%5D3.ipynb\" target=\"_parent\"><img src=\"https://colab.research.google.com/assets/colab-badge.svg\" alt=\"Open In Colab\"/></a>"
      ]
    },
    {
      "cell_type": "markdown",
      "source": [
        "# Importing Libraries\n"
      ],
      "metadata": {
        "id": "R7RO9561bN-f"
      }
    },
    {
      "cell_type": "code",
      "source": [
        "# Thesis Project\n",
        "# To properly install pyswmm and swmm-api to the Python file, select the python interpreter from the venv\\Scripts\\python.exe then install both libraries using \"pip install ...\"\n",
        "\n",
        "!pip install pyswmm\n",
        "!pip install swmm_api\n",
        "!pip install swmm5\n",
        "!pip install openpyxl\n",
        "import math\n",
        "import itertools\n",
        "import os, sys\n",
        "import swmm5\n",
        "from pyswmm import Simulation, Links\n",
        "from pyswmm.swmm5 import SWMMException\n",
        "from pyswmm.nodes import Nodes\n",
        "from swmm_api import SwmmInput, SwmmOutput, SwmmReport\n",
        "from swmm_api.input_file.section_labels import JUNCTIONS, CONDUITS\n",
        "from swmm_api.input_file.sections import Conduit\n",
        "from swmm.toolkit.shared_enum import LinkResult\n",
        "from google.colab import files\n",
        "import pandas as pd\n",
        "import re\n",
        "import copy"
      ],
      "metadata": {
        "id": "3JCNgyg4bR2J",
        "collapsed": true
      },
      "execution_count": null,
      "outputs": []
    },
    {
      "cell_type": "markdown",
      "source": [
        "# File Upload"
      ],
      "metadata": {
        "id": "41jhUVVTbUim"
      }
    },
    {
      "cell_type": "code",
      "source": [
        "uploaded = files.upload()\n",
        "\n",
        "inp = SwmmInput(\"Inlet_Drains_Model1.inp\")\n",
        "out = SwmmOutput(\"Inlet_Drains_Model1.out\")\n",
        "rpt = SwmmReport(\"Inlet_Drains_Model1.rpt\")\n",
        "available_sizes = uploaded[\"Available Sizes.txt\"]\n",
        "ground_slopes = uploaded[\"Ground_Slopes.xlsx\"]\n",
        "pipe_prices = uploaded[\"Pipe_Prices.xlsx\"]\n",
        "print(\"Uploaded files:\", os.listdir())\n",
        "conduits_df = inp[\"CONDUITS\"]\n",
        "print(conduits_df)"
      ],
      "metadata": {
        "id": "Zq6dPiGybZPd",
        "collapsed": true
      },
      "execution_count": null,
      "outputs": []
    },
    {
      "cell_type": "markdown",
      "source": [
        "# Boundary Parameters"
      ],
      "metadata": {
        "id": "aDGt-PtxbcIp"
      }
    },
    {
      "cell_type": "code",
      "source": [
        "peak_flow_dict = {}\n",
        "peak_flow_results =  {}\n",
        "peak_vel = {}\n",
        "adjust_pipe_size = {}\n",
        "pipe_geometry = {}\n",
        "conduit_ids = []\n",
        "link_length = {}\n",
        "in_offset = {}\n",
        "out_offset = {}\n",
        "vel_min = 0.8\n",
        "vel_max = 5\n",
        "geom1 = {}\n",
        "geom2 = {}\n",
        "geom3 = {}\n",
        "geom4 = {}\n",
        "trials = {}\n",
        "velocity = {}"
      ],
      "metadata": {
        "id": "Y4s_HHOGbcdk"
      },
      "execution_count": 4,
      "outputs": []
    },
    {
      "cell_type": "markdown",
      "source": [
        "# Data Frame"
      ],
      "metadata": {
        "id": "uzm6qT-_bopR"
      }
    },
    {
      "cell_type": "code",
      "source": [
        "conduits = inp['CONDUITS']\n",
        "xsections = inp['XSECTIONS']\n",
        "junctions_data = inp['JUNCTIONS']\n",
        "outfalls_data = inp['OUTFALLS']\n",
        "\n",
        "# Store results\n",
        "conduit_info = []"
      ],
      "metadata": {
        "id": "marNgPOObsTW"
      },
      "execution_count": 5,
      "outputs": []
    },
    {
      "cell_type": "markdown",
      "source": [
        "# Accessing Data Dictionary"
      ],
      "metadata": {
        "id": "r659Ig2csIHo"
      }
    },
    {
      "cell_type": "code",
      "source": [
        "for conduit_name, conduit_data in inp[\"CONDUITS\"].items():\n",
        "  conduit_dict = vars(conduit_data) # Access all data in Conduit\n",
        "  print (conduit_dict)\n",
        "\n",
        "print(xsections)  # Print the content of the xsections InpSection object\n",
        "for xsection_name, xsection_data in xsections.items():\n",
        "  print(xsection_data)  # Print the name of each parameter in the xsections section"
      ],
      "metadata": {
        "collapsed": true,
        "id": "LWYD9FfusMFM"
      },
      "execution_count": null,
      "outputs": []
    },
    {
      "cell_type": "markdown",
      "source": [
        "Test 1"
      ],
      "metadata": {
        "id": "7Blx_SJP1Gp9"
      }
    },
    {
      "cell_type": "code",
      "source": [
        "with Simulation(\"Inlet_Drains_Model1.inp\") as sim:\n",
        "    links = Links(sim)  # Create a Links object\n",
        "    for step in sim:\n",
        "      pass\n",
        "    for link in links:\n",
        "      conduit_name = link.linkid  # Get conduit name (link ID)\n",
        "      conduit_data = link.conduit_statistics  # The 'link' object itself holds the conduit data\n",
        "\n",
        "      peak_flow = conduit_data[\"peak_flow\"]\n",
        "\n",
        "      # # If you want to store it in a dictionary:\n",
        "      # peak_flow_dict = {}  # Initialize an empty dictionary if needed\n",
        "      # peak_flow_dict[conduit_name] = peak_flow\n",
        "      print(f\"Conduit Name: {conduit_name}\")\n",
        "      print(f\"Data: {conduit_data}\")\n",
        "      print(f\"Peak Flow: {peak_flow}\")  # Accessing a property of the conduit\n",
        "      # Access other properties like link.roughness, link.inlet_offset, etc."
      ],
      "metadata": {
        "id": "dZObmTaX1HkE"
      },
      "execution_count": null,
      "outputs": []
    },
    {
      "cell_type": "markdown",
      "source": [
        "# Data Gathering"
      ],
      "metadata": {
        "id": "3H5Avu-Dbu6x"
      }
    },
    {
      "cell_type": "code",
      "source": [
        "with Simulation(\"Inlet_Drains_Model1.inp\") as sim:\n",
        "    links = Links(sim)\n",
        "    for step in sim:\n",
        "      pass\n",
        "    for link in links:\n",
        "      conduit_name = link.linkid\n",
        "      conduit_data = link.conduit_statistics\n",
        "      peak_flow = conduit_data[\"peak_flow\"]\n",
        "\n",
        "      print(f\"Conduit Name: {conduit_name}\")\n",
        "      print(f\"Data: {peak_flow}\")\n",
        "\n",
        "for conduit_name, conduit_data in inp[\"CONDUITS\"].items():\n",
        "  # Access individual conduit properties using the appropriate keys\n",
        "  length = conduit_data.length  # Accessing the length property\n",
        "  in_offset = conduit_data.offset_upstream # parameter for inlet offset\n",
        "  out_offset = conduit_data.offset_downstream # parameter for outlet offset\n",
        "\n",
        "  for xsection_name, xsection_data in xsections.items():\n",
        "    name = xsection_name\n",
        "    shape = xsection_data.shape\n",
        "    geom1 = xsection_data.height # height is geom1 for most shapes\n",
        "    geom2 = xsection_data.parameter_2 # parameter_2 is geom2 for most shapes\n",
        "    geom3 = xsection_data.parameter_3 # parameter_3 is geom3 for most shapes\n",
        "    geom4 = xsection_data.parameter_4 # parameter_4 is geom4 for most shapes\n",
        "    # To get the idea of Geom 1 to Geom 4, see the guide attached in the Code Documentation in Google Docs\n",
        "\n",
        "    print (f\"Name: {name}\")\n",
        "    print (f\"Length: {length} m\")\n",
        "    print (f\"Shape: {shape}\")\n",
        "    print (f\"Geometry Parameters: {geom1} m, {geom2} m, {geom3} m, {geom4} m\")\n",
        "    print (f\"Inlet Offset: {in_offset} m\")\n",
        "    print (f\"Outlet Offset: {out_offset} m\")\n",
        "    print (f\"\")"
      ],
      "metadata": {
        "id": "3e_9tT7obxg7",
        "collapsed": true
      },
      "execution_count": null,
      "outputs": []
    },
    {
      "cell_type": "markdown",
      "source": [
        "# Arrange Conduits based on Pipe Flow\n"
      ],
      "metadata": {
        "id": "41iNAWpA5_Gv"
      }
    },
    {
      "cell_type": "code",
      "source": [
        "# Get network topology\n",
        "conduit_connections = {}\n",
        "for conduit_name, conduit_data in inp['CONDUITS'].items():\n",
        "    conduit_connections[conduit_name] = {\n",
        "        'upstream': conduit_data.from_node,\n",
        "        'downstream': conduit_data.to_node\n",
        "    }\n",
        "\n",
        "# Get all outfall node names from the SWMM input file\n",
        "outfall_node_names = list(inp['OUTFALLS'].keys())\n",
        "\n",
        "def is_outfall_node(node):\n",
        "    \"\"\"Checks if a node is an outfall node.\"\"\"\n",
        "    return node in outfall_node_names  # Direct comparison with outfall node names\n",
        "\n",
        "def trace_upstream_flow(start_node, path=None):\n",
        "    \"\"\"Traces the flow path upstream from a given node, including junctions.\"\"\"\n",
        "    if path is None:\n",
        "        path = []\n",
        "\n",
        "    path.append(start_node)  # Add the current node (junction or outfall) to the path\n",
        "\n",
        "    # Find conduits connected to the current node as the downstream\n",
        "    connected_conduits = [\n",
        "        conduit_name\n",
        "        for conduit_name, data in conduit_connections.items()\n",
        "        if data['downstream'] == start_node\n",
        "    ]\n",
        "\n",
        "    # If no upstream conduits are found, it's the outermost junction\n",
        "    if not connected_conduits:\n",
        "        return path  # Return the path including the outermost junction\n",
        "\n",
        "    # Trace upstream for each connected conduit\n",
        "    for conduit_name in connected_conduits:\n",
        "        upstream_node = conduit_connections[conduit_name]['upstream']\n",
        "        new_path = trace_upstream_flow(upstream_node, path + [conduit_name])  # Include conduit in the path\n",
        "        if new_path:\n",
        "            return new_path\n",
        "\n",
        "    return None  # Return None if no path is found (should not happen in a well-defined network)\n",
        "\n",
        "\n",
        "flow_paths = {}\n",
        "for outfall_node_name in outfall_node_names:\n",
        "    flow_path = trace_upstream_flow(outfall_node_name)\n",
        "    flow_paths[outfall_node_name] = flow_path\n",
        "\n",
        "# Show results\n",
        "for outfall_node, flow_path in flow_paths.items():\n",
        "    flow_path.reverse() # Reverse the flow path list\n",
        "    print(f\"Flow Path for {outfall_node}: {flow_path}\")\n",
        "\n",
        "    # Separate conduits and junctions for clearer output (optional)\n",
        "    conduits = [item for item in flow_path if item in conduit_connections]\n",
        "    junctions = [item for item in flow_path if item not in conduit_connections]\n",
        "    print(f\"Sorted Conduits for {outfall_node}: {conduits}\")\n",
        "    print(f\"Junctions in Path: {junctions}\")"
      ],
      "metadata": {
        "collapsed": true,
        "id": "fmjRANRJ5-y1"
      },
      "execution_count": null,
      "outputs": []
    },
    {
      "cell_type": "markdown",
      "source": [
        "# Identify the Invert Elevations of the Conduits"
      ],
      "metadata": {
        "id": "2Ls3loFLBELR"
      }
    },
    {
      "cell_type": "code",
      "source": [
        "conduit_info = []\n",
        "for conduit_name, conduit_data in inp['CONDUITS'].items():\n",
        "    upstream_junction = conduit_data.from_node\n",
        "    downstream_junction = conduit_data.to_node\n",
        "\n",
        "    upstream_invert = junctions_data[upstream_junction].elevation\n",
        "\n",
        "    # Check if downstream node is an outfall\n",
        "    if downstream_junction in outfalls_data:\n",
        "        downstream_invert = outfalls_data[downstream_junction].elevation  # Get elevation from outfalls_data\n",
        "    elif downstream_junction in junctions_data:\n",
        "        downstream_invert = junctions_data[downstream_junction].elevation  # Get elevation from junctions_data if it's a junction\n",
        "    else:\n",
        "        print(f\"Warning: Downstream node '{downstream_junction}' not found in junctions or outfalls data.\")\n",
        "        downstream_invert = None  # or some default value\n",
        "\n",
        "    length = conduit_data.length\n",
        "\n",
        "    if downstream_invert is not None:\n",
        "        slope = (upstream_invert - downstream_invert) / length\n",
        "    else:\n",
        "        slope = None\n",
        "    # Input all data gathered and solve in a DataFrame\n",
        "    conduit_info.append([conduit_name, upstream_junction, upstream_invert, downstream_junction, downstream_invert, length, slope])\n",
        "\n",
        "    print(f\"Conduit: {conduit_name}; From: {upstream_junction} To: {downstream_junction}\")\n",
        "    print(f\"Upstream Invert Elevation: {upstream_invert} m\")\n",
        "    print(f\"Downstream Invert Elevation: {downstream_invert} m\")\n",
        "    print(f\"Slope: {slope}\")\n",
        "\n",
        "# Exporting DataFrame as an .xlsx File\n",
        "conduit_df = pd.DataFrame(conduit_info, columns=['Conduit', 'From Node', 'Upstream Invert', 'To Node', 'Downstream Invert', 'Length', 'Slope'])\n",
        "\n",
        "conduit_df.to_excel(\"conduit_analysis_data.xlsx\", index=False)\n",
        "\n"
      ],
      "metadata": {
        "collapsed": true,
        "id": "xkmxUOlj9bpT"
      },
      "execution_count": null,
      "outputs": []
    },
    {
      "cell_type": "markdown",
      "source": [
        "Continuity Equation"
      ],
      "metadata": {
        "id": "KcdHEuAr6TGn"
      }
    },
    {
      "cell_type": "code",
      "source": [
        "# Function for adjusting Pipe Sizes\n",
        "def adjust_pipe_size (peak_flow, peak_vel):\n",
        "    Area = peak_flow / peak_vel\n",
        "    new_diameter = math.sqrt( Area / (0.25 * math.pi))\n",
        "\n",
        "    pass"
      ],
      "metadata": {
        "id": "9XYKajux6YlC"
      },
      "execution_count": null,
      "outputs": []
    },
    {
      "cell_type": "markdown",
      "source": [
        "# Function: Identifying Peak Flow Rates"
      ],
      "metadata": {
        "id": "k8fzO78NBKXH"
      }
    },
    {
      "cell_type": "code",
      "source": [
        "def peak_flow_solve(inp, conduit_name):\n",
        "  with Simulation(inp) as sim:\n",
        "      links = Links(sim)\n",
        "      for step in sim:\n",
        "          pass\n",
        "\n",
        "      # Iterate through links to find the specific conduit\n",
        "      for link in links:\n",
        "          if link.linkid == conduit_name:\n",
        "              conduit_data = link.conduit_statistics\n",
        "              peak_flow = conduit_data.get(\"peak_flow\")  # Use get() to handle missing keys\n",
        "              if peak_flow is not None and peak_flow != 0.0:\n",
        "                  return float(peak_flow)  # Convert to float if found\n",
        "              else:\n",
        "                  return 0.0  # Or handle the missing peak_flow case differently\n",
        "\n",
        "      # If the conduit is not found\n",
        "      return 0.0  # Or handle the missing conduit case differently"
      ],
      "metadata": {
        "id": "ZDNnieVBAdj2"
      },
      "execution_count": 10,
      "outputs": []
    },
    {
      "cell_type": "markdown",
      "source": [
        "Test 1"
      ],
      "metadata": {
        "id": "6pRty0NnAbw4"
      }
    },
    {
      "cell_type": "code",
      "source": [
        "def peak_flow(inp_file_or_object):\n",
        "    if isinstance(inp_file_or_object, str):\n",
        "        inp_file = inp_file_or_object  # Use the file path directly\n",
        "    elif isinstance(inp_file_or_object, SwmmInput):\n",
        "        # If it's a SwmmInput object, write it to a temporary file\n",
        "        temp_file_name = \"temp_input.inp\"\n",
        "        inp_file_or_object.write_file(temp_file_name)\n",
        "        inp_file = temp_file_name  # Use the temporary file path\n",
        "    else:\n",
        "        raise ValueError(\"Input must be a file path string or a SwmmInput object\")\n",
        "\n",
        "    with Simulation(inp_file) as sim:\n",
        "        for step in sim:\n",
        "            pass\n",
        "\n",
        "        peak_flow_results = {}\n",
        "        # Assuming 'inp_file_or_object' has an attribute to access CONDUITS data\n",
        "        # If not, adjust this part to access the conduit data correctly\n",
        "        for conduit_name, conduit_data in inp_file_or_object[\"CONDUITS\"].items():\n",
        "            peak_flow_results[conduit_name] = conduit_data.flow_max\n",
        "\n",
        "    # If a temporary file was created, delete it along with its outputs\n",
        "    if isinstance(inp_file_or_object, SwmmInput):\n",
        "        os.remove(temp_file_name)\n",
        "        os.remove(\"temp_input.out\") # Delete temporary output file\n",
        "        os.remove(\"temp_input.rpt\") # Delete temporary report file\n",
        "\n",
        "    return peak_flow"
      ],
      "metadata": {
        "id": "BbSmwJdlWPux"
      },
      "execution_count": null,
      "outputs": []
    },
    {
      "cell_type": "markdown",
      "source": [
        "# Function: Identifying Suitable Pipe Sizes"
      ],
      "metadata": {
        "id": "xPA-o0E4BPBM"
      }
    },
    {
      "cell_type": "code",
      "source": [
        "def find_suitable_sizes(conduit_name, available_sizes, peak_flow):\n",
        "  if inp[\"XSECTIONS\"][conduit_name].shape == \"CIRCULAR\":\n",
        "    original_size = inp[\"XSECTIONS\"][conduit_name].height  # Adjust based on your inp structure\n",
        "\n",
        "    if peak_flow == 0:\n",
        "      return [original_size]  # Return original size as the only suitable size\n",
        "\n",
        "    suitable_sizes = []\n",
        "    with open(available_sizes) as file:\n",
        "      for line in file:\n",
        "        size = float(line.strip())\n",
        "        # Changed '^' to '**' for exponentiation\n",
        "        if peak_flow != 0:  # Add a check for peak_flow\n",
        "            velocity = peak_flow / (math.pi * size**2 * 0.25)\n",
        "            if vel_min <= velocity <= vel_max:\n",
        "                suitable_sizes.append(size)\n",
        "\n",
        "    return suitable_sizes\n",
        "\n",
        "  else:\n",
        "    original_size = inp[\"XSECTIONS\"][conduit_name].height\n",
        "    return [original_size]"
      ],
      "metadata": {
        "id": "X4qjv3q_QjVb"
      },
      "execution_count": 11,
      "outputs": []
    },
    {
      "cell_type": "markdown",
      "source": [
        "# Function: Construction Cost"
      ],
      "metadata": {
        "id": "Fdlg-EGYBShP"
      }
    },
    {
      "cell_type": "code",
      "source": [
        "# Function for the Computation of Construction Costs\n",
        "def construction_costs (unit_cost, length, size):\n",
        "  pass"
      ],
      "metadata": {
        "id": "6L2XHSEYBFe2"
      },
      "execution_count": null,
      "outputs": []
    },
    {
      "cell_type": "markdown",
      "source": [
        "# Function: Identifying the Largest Pipe Size and Minimum Slope"
      ],
      "metadata": {
        "id": "KCFwCMVWBYm4"
      }
    },
    {
      "cell_type": "code",
      "source": [
        "# Identify the largest pipe size available and the minimum slope possible\n",
        "def largest_size_available(available_sizes):\n",
        "  largest_size = 0.0\n",
        "  with open(available_sizes) as file:\n",
        "    for line in file:\n",
        "      try:\n",
        "        size = float(line.strip())\n",
        "        if size > largest_size:\n",
        "          largest_size = size\n",
        "      except ValueError:\n",
        "        print (f\"Skipping Invalid Line: {line.strip()}\")\n",
        "  return largest_size\n",
        "\n",
        "available_sizes = \"Available Sizes.txt\"\n",
        "largest_size = largest_size_available(available_sizes)\n",
        "print(f\"Largest Pipe Size: {largest_size} m\")"
      ],
      "metadata": {
        "id": "tk2GjwjS6jX3",
        "collapsed": true
      },
      "execution_count": null,
      "outputs": []
    },
    {
      "cell_type": "markdown",
      "source": [
        "# Function: Solving for the Max Hydraulic Radius"
      ],
      "metadata": {
        "id": "ERxTYwJO9zJ3"
      }
    },
    {
      "cell_type": "code",
      "source": [
        "def get_max_hydraulic_radius(inp, conduit_name):\n",
        "\n",
        "    with Simulation(inp) as sim:\n",
        "        links = Links(sim)\n",
        "        max_hydraulic_radius = 0.0  # Initialize max hydraulic radius\n",
        "\n",
        "        for step in sim:\n",
        "            # Iterate through links to find the specific conduit\n",
        "            for link in links:\n",
        "                if link.linkid == conduit_name:\n",
        "                    # Get the flow and depth for the current link and timestep\n",
        "                    flow = link.flow\n",
        "                    depth = link.depth\n",
        "\n",
        "                    # Calculate the hydraulic radius (R = A/P)\n",
        "                    # Assume circular pipe for this example\n",
        "                    if inp[\"XSECTIONS\"][conduit_name].shape == \"CIRCULAR\":\n",
        "                        diameter = inp[\"XSECTIONS\"][conduit_name].height\n",
        "\n",
        "                        # Calculate area and wetted perimeter based on depth\n",
        "                        if depth >= diameter:  # Full flow\n",
        "                            area = math.pi * (diameter / 2)**2\n",
        "                            wetted_perimeter = math.pi * diameter\n",
        "                        else:  # Partial flow\n",
        "                            theta = 2 * math.acos(1 - (2 * depth / diameter))\n",
        "                            area = (diameter**2 / 8) * (theta - math.sin(theta))\n",
        "                            wetted_perimeter = diameter * theta / 2\n",
        "\n",
        "                        hydraulic_radius = area / wetted_perimeter\n",
        "\n",
        "                        # Update max_hydraulic_radius if current value is larger\n",
        "                        max_hydraulic_radius = max(max_hydraulic_radius, hydraulic_radius)\n",
        "\n",
        "                    else:\n",
        "                        # Handle other cross-section shapes if needed\n",
        "                        pass\n",
        "                    break  # Exit the inner loop once the conduit is found\n",
        "\n",
        "    return max_hydraulic_radius"
      ],
      "metadata": {
        "id": "V0nfs7yu94hq"
      },
      "execution_count": 14,
      "outputs": []
    },
    {
      "cell_type": "markdown",
      "source": [
        "# Function: Manning's Equation"
      ],
      "metadata": {
        "id": "1DPR_wdb_D_1"
      }
    },
    {
      "cell_type": "code",
      "source": [
        "def adjust_slope_with_mannings(input, conduit_name, new_diameter, mannings_n):\n",
        "    \"\"\"\n",
        "    Adjusts the slope of a conduit in a SWMM input file based on a new diameter\n",
        "    using Manning's equation.\n",
        "\n",
        "    Args:\n",
        "        input_file (str): Path to the SWMM input file (.inp).\n",
        "        conduit_name (str): Name of the conduit to adjust the slope for.\n",
        "        new_diameter (float): The new diameter of the conduit.\n",
        "        mannings_n (float, optional): Manning's roughness coefficient. Defaults to 0.013.\n",
        "\n",
        "    Returns:\n",
        "        SwmmInput: The modified SwmmInput object with the adjusted slope.\n",
        "    \"\"\"\n",
        "\n",
        "    # Load the input file using SwmmInput\n",
        "    modified_inp = SwmmInput(input_file)\n",
        "\n",
        "    # Get peak flow rate (Q) for the conduit - you'll need to adapt this part\n",
        "    # based on how you are getting peak flow rates in your code\n",
        "    # peak_flow = peak_flow_solve(input_file, conduit_name) # or use your similar function\n",
        "    # peak_flow = get_peak_flow(modified_inp, conduit_name)\n",
        "    # peak_flow = current_peak_flows[conduit_name]\n",
        "\n",
        "    # Calculate cross-sectional area and hydraulic radius for the new diameter\n",
        "    area = math.pi * (new_diameter / 2)**2\n",
        "    hydraulic_radius = (new_diameter / 2) / 2  # Assuming full flow for now\n",
        "\n",
        "    # Calculate the new slope (S) using Manning's equation\n",
        "    new_slope = (peak_flow * mannings_n / (area * hydraulic_radius**(2/3)))**2\n",
        "\n",
        "    # Return the modified SwmmInput object\n",
        "    return new_slope"
      ],
      "metadata": {
        "id": "T9GTXrqE_Hvf"
      },
      "execution_count": 16,
      "outputs": []
    },
    {
      "cell_type": "markdown",
      "source": [
        "# Function: Identifying Slopes"
      ],
      "metadata": {
        "id": "kdnW-H9E2ku0"
      }
    },
    {
      "cell_type": "code",
      "source": [
        "def adjusting_slopes(modified_inp, conduit_name, pipe_size, is_last_conduit):\n",
        "    \"\"\"\n",
        "    Adjusts invert elevations (slopes) of conduits.\n",
        "\n",
        "    Args:\n",
        "        modified_inp (SwmmInput): The modified SwmmInput object.\n",
        "        conduit_name (str): Name of the conduit.\n",
        "        pipe_size (float): The optimized pipe size for the conduit.\n",
        "        is_last_conduit (bool): True if the conduit is the last one before the outfall, False otherwise.\n",
        "    \"\"\"\n",
        "\n",
        "    # Get upstream and downstream junction names for the conduit\n",
        "    upstream_junction = modified_inp[\"CONDUITS\"][conduit_name].from_node\n",
        "    downstream_junction = modified_inp[\"CONDUITS\"][conduit_name].to_node\n",
        "\n",
        "    # Handle the last conduit differently\n",
        "    if is_last_conduit:\n",
        "        # Use original downstream elevation from OUTFALLS section\n",
        "        new_downstream_elevation = modified_inp[\"OUTFALLS\"][downstream_junction].elevation\n",
        "    else:\n",
        "        # Otherwise, get downstream elevation from JUNCTIONS section\n",
        "        new_downstream_elevation = modified_inp[\"JUNCTIONS\"][downstream_junction].elevation\n",
        "\n",
        "    # Calculate the new upstream invert elevation using Manning's equation and the optimized size\n",
        "    new_slope = adjust_slope_with_mannings(modified_inp, conduit_name, pipe_size)\n",
        "    conduit_length = modified_inp[\"CONDUITS\"][conduit_name].length\n",
        "    new_upstream_elevation = new_downstream_elevation + (new_slope * conduit_length)\n",
        "\n",
        "    return new_upstream_elevation"
      ],
      "metadata": {
        "id": "KqbCF2bz2tmS"
      },
      "execution_count": 18,
      "outputs": []
    },
    {
      "cell_type": "markdown",
      "source": [
        "Optimization of Pipe Sizes and Slopes"
      ],
      "metadata": {
        "id": "aI4uCS5FBOKb"
      }
    },
    {
      "cell_type": "markdown",
      "source": [
        "Optimization Test 1"
      ],
      "metadata": {
        "id": "7AqQil7bH-uP"
      }
    },
    {
      "cell_type": "code",
      "source": [
        "# Get initial peak flow rates (using your peak_flow_rates function or similar)\n",
        "initial_peak_flows = peak_flow(rpt)  # Replace with your actual function call\n",
        "\n",
        "# Define velocity constraints\n",
        "vel_min = 0.8\n",
        "vel_max = 5\n",
        "\n",
        "# Function to find suitable sizes for a given conduit and peak flow\n",
        "def find_suitable_sizes(conduit_name, peak_flow):\n",
        "    suitable_sizes = []\n",
        "    with open(\"Available Sizes.txt\") as file:  # Assuming your available sizes are in this file\n",
        "        for line in file:\n",
        "            size = float(line.strip())\n",
        "            velocity = peak_flow / (math.pi * size**2 * 0.25)\n",
        "            if vel_min <= velocity <= vel_max:\n",
        "                suitable_sizes.append(size)\n",
        "    return suitable_sizes\n",
        "\n",
        "# Optimization loop\n",
        "for outfall_node, flow_path in flow_paths.items():\n",
        "    conduits_in_path = [item for item in flow_path if item in conduit_connections]\n",
        "\n",
        "    # Optimize starting pipes simultaneously\n",
        "    starting_pipes = [conduits_in_path[0]]  # Get the first conduit in the path\n",
        "\n",
        "    suitable_sizes_per_pipe = {pipe: find_suitable_sizes(pipe, initial_peak_flows[pipe]) for pipe in starting_pipes}\n",
        "    all_size_combinations = list(itertools.product(*[suitable_sizes_per_pipe[pipe] for pipe in starting_pipes]))\n",
        "\n",
        "    for size_combination in all_size_combinations:\n",
        "        modified_inp = inp.copy()\n",
        "\n",
        "        # Modify pipe sizes for all starting pipes\n",
        "        for i, pipe in enumerate(starting_pipes):\n",
        "            modified_inp[\"CONDUITS\"][pipe].height = size_combination[i]\n",
        "\n",
        "        # Write modified input file and run simulation\n",
        "        modified_inp.write_file(\"modified_input.inp\")\n",
        "        with Simulation(\"modified_input.inp\") as sim:\n",
        "            for step in sim:\n",
        "                pass\n",
        "\n",
        "        # Get updated peak flow rates for next conduits in the series\n",
        "        # ... (use rpt object to get peak flow rates for downstream conduits) ...\n",
        "\n",
        "        # Iterate downstream and optimize remaining conduits\n",
        "        # ... (use similar logic as for starting pipes, but with updated peak flow rates) ..."
      ],
      "metadata": {
        "id": "H5dnPXkmIAts"
      },
      "execution_count": null,
      "outputs": []
    },
    {
      "cell_type": "markdown",
      "source": [
        "Optimization Test 2"
      ],
      "metadata": {
        "id": "KDTvzr8HS1v4"
      }
    },
    {
      "cell_type": "code",
      "source": [
        "# suitable_sizes = find_suitable_sizes(conduit_name, available_sizes, peak_flow)\n",
        "\n",
        "# Optimization loop\n",
        "# Get all starting pipes from all flow paths\n",
        "all_starting_pipes = []\n",
        "for outfall_node, flow_path in flow_paths.items():\n",
        "    conduits_in_path = [item for item in flow_path if item in conduit_connections]\n",
        "    all_starting_pipes.append(conduits_in_path[0])\n",
        "\n",
        "# Run initial simulation to get initial peak flows\n",
        "initial_peak_flows = peak_flow(\"Inlet_Drains_Model1.inp\")\n",
        "\n",
        "# Get suitable sizes for all starting pipes\n",
        "suitable_sizes_per_pipe = {\n",
        "    pipe: find_suitable_sizes(pipe, initial_peak_flows[pipe])\n",
        "    for pipe in all_starting_pipes\n",
        "}\n",
        "\n",
        "# Generate all size combinations for all starting pipes\n",
        "all_size_combinations = list(itertools.product(*[suitable_sizes_per_pipe[pipe] for pipe in all_starting_pipes]))\n",
        "\n",
        "# Optimization for all starting pipes simultaneously\n",
        "for size_combination in all_size_combinations:\n",
        "    modified_inp = copy.deepcopy(inp)\n",
        "\n",
        "    # Modify pipe sizes for all starting pipes\n",
        "    for i, pipe in enumerate(all_starting_pipes):\n",
        "        modified_inp[\"CONDUITS\"][pipe].height = size_combination[i]\n",
        "\n",
        "    # Save modified inp to a separate file\n",
        "    file_name = f\"modified_input_{'_'.join(map(str, size_combination))}.inp\"\n",
        "    modified_inp.write_file(file_name)\n",
        "\n",
        "    # Run simulation for the saved inp file\n",
        "    updated_peak_flows = peak_flow(file_name)\n",
        "\n",
        "    # ... (use updated_peak_flows to get peak flow rates for downstream conduits) ...\n",
        "\n",
        "    # Iterate downstream and optimize remaining conduits\n",
        "    # ... (use similar logic as for starting pipes, but with updated peak flow rates) ...\n"
      ],
      "metadata": {
        "id": "UCDviX21S3TT"
      },
      "execution_count": null,
      "outputs": []
    },
    {
      "cell_type": "markdown",
      "source": [
        "Optimization Test 3"
      ],
      "metadata": {
        "id": "E6Bo1bQgYmph"
      }
    },
    {
      "cell_type": "code",
      "source": [
        "# Optimization loop\n",
        "for outfall_node, flow_path in flow_paths.items():\n",
        "    conduits_in_path = [item for item in flow_path if item in conduit_connections]\n",
        "\n",
        "    # --- Start with initial simulation ---\n",
        "    current_peak_flows = peak_flow(inp)  # Assuming initial input file name\n",
        "    modified_inp = copy.deepcopy(inp)\n",
        "\n",
        "    # --- Iterate through conduits in the path ---\n",
        "    for i, conduit_name in enumerate(conduits_in_path):\n",
        "        suitable_sizes = find_suitable_sizes(conduit_name, available_sizes, current_peak_flows[conduit_name])\n",
        "\n",
        "        # --- Try each suitable size for the current conduit ---\n",
        "        for size in suitable_sizes:\n",
        "            modified_inp[\"CONDUITS\"][conduit_name].height = size\n",
        "\n",
        "            # Save modified inp to a separate file\n",
        "            file_name = f\"modified_input_{conduit_name}_{size}.inp\"\n",
        "            modified_inp.write_file(file_name)\n",
        "\n",
        "            # Run simulation for the saved inp file\n",
        "            # current_peak_flows = peak_flow(file_name)  # Update peak flows for next conduit\n",
        "            # Use the SwmmInput object created from the modified file\n",
        "            updated_inp = SwmmInput(file_name)  # Create SwmmInput object for the modified file\n",
        "            current_peak_flows = peak_flow(updated_inp)  # Update peak flows\n",
        "\n",
        "            # ... (You can add logic here to compare results or store data) ...\n",
        "\n",
        "        # --- After trying all sizes for current conduit, move to the next ---\n",
        "\n",
        "    # --- After processing all conduits in the path, move to the next flow path ---"
      ],
      "metadata": {
        "id": "3XZmtH-hYoG0"
      },
      "execution_count": null,
      "outputs": []
    },
    {
      "cell_type": "markdown",
      "source": [
        "Optimization Test 4"
      ],
      "metadata": {
        "id": "du76TZw0bx1e"
      }
    },
    {
      "cell_type": "code",
      "source": [
        "for conduit_name, conduit_data in inp[\"CONDUITS\"].items():\n",
        "    conduit_data.height = largest_size\n",
        "\n",
        "# Saving data before Simulation\n",
        "inp.write_file(\"Modified_Inlet_Drains_Model1.inp\")\n",
        "\n",
        "# Get all starting pipes from all flow paths\n",
        "all_starting_pipes = []\n",
        "for outfall_node, flow_path in flow_paths.items():\n",
        "    conduits_in_path = [item for item in flow_path if item in conduit_connections]\n",
        "    all_starting_pipes.append(conduits_in_path[0])\n",
        "\n",
        "# Run initial simulation to get initial peak flows\n",
        "# Changed 'peak_flow' to its original function name\n",
        "initial_peak_flows = peak_flow(inp) # or use whatever name you originally called your peak flow rates function\n",
        "\n",
        "# Get suitable sizes for all starting pipes\n",
        "suitable_sizes_per_pipe = {\n",
        "    pipe: find_suitable_sizes(pipe, available_sizes, initial_peak_flows[pipe])\n",
        "    for pipe in all_starting_pipes\n",
        "}\n",
        "\n",
        "# Generate all size combinations for all starting pipes\n",
        "all_size_combinations = list(itertools.product(*[suitable_sizes_per_pipe[pipe] for pipe in all_starting_pipes]))\n",
        "print(\"All size combinations:\", all_size_combinations)\n",
        "\n",
        "# Optimization loop for each size combination\n",
        "for size_combination in all_size_combinations:\n",
        "    modified_inp = copy.deepcopy(inp)\n",
        "\n",
        "    # Modify pipe sizes for all starting pipes\n",
        "    for i, pipe in enumerate(all_starting_pipes):\n",
        "        modified_inp[\"CONDUITS\"][pipe].height = size_combination[i]\n",
        "\n",
        "    # --- Iterate downstream and optimize remaining conduits ---\n",
        "    current_peak_flows = peak_flow(modified_inp)  # Get peak flows for the modified input\n",
        "\n",
        "    for outfall_node, flow_path in flow_paths.items():\n",
        "        conduits_in_path = [item for item in flow_path if item in conduit_connections]\n",
        "\n",
        "        for i, conduit_name in enumerate(conduits_in_path):\n",
        "            # Skip starting pipes as they are already set\n",
        "            if conduit_name in all_starting_pipes:\n",
        "                continue\n",
        "\n",
        "            suitable_sizes = find_suitable_sizes(conduit_name, current_peak_flows[conduit_name])\n",
        "\n",
        "            # Find best size for current conduit based on cost (or other criteria)\n",
        "            best_size_for_conduit = suitable_sizes[0]  # You might need a more sophisticated cost function here\n",
        "\n",
        "            # Update the modified input with the best size\n",
        "            modified_inp[\"CONDUITS\"][conduit_name].height = best_size_for_conduit\n",
        "\n",
        "            current_peak_flows = peak_flow(modified_inp)  # Update peak flows for next conduit\n",
        "\n",
        "    # Save the fully optimized input to a separate file\n",
        "    file_name = f\"optimized_input_{'_'.join(map(str, size_combination))}.inp\"\n",
        "    modified_inp.write_file(file_name)\n",
        "    print(f\"Optimized input file saved as {file_name}\")"
      ],
      "metadata": {
        "id": "RFA3FZ0xb0xE"
      },
      "execution_count": null,
      "outputs": []
    },
    {
      "cell_type": "markdown",
      "source": [
        "# Step 1: Initialize All Pipe Sizes and Slopes"
      ],
      "metadata": {
        "id": "TiTw81UCBgdJ"
      }
    },
    {
      "cell_type": "code",
      "source": [
        "for conduit_name, conduit_data in inp[\"CONDUITS\"].items():\n",
        "    modified_inp = copy.deepcopy(inp)\n",
        "    for xsection_name, xsection_data in xsections.items():\n",
        "      # Get the xsection name associated with the current conduit\n",
        "      # The attribute is called 'xsection' and not 'xsection_name'\n",
        "      conduit_id = xsection_name\n",
        "\n",
        "      # Modify the xsection data in the 'XSECTIONS' section\n",
        "      xsection_data = modified_inp[\"XSECTIONS\"][xsection_name]\n",
        "      if callable(largest_size_available):\n",
        "        conduit_size = largest_size_available(available_sizes)\n",
        "      else:\n",
        "        conduit_size = largest_size_available\n",
        "\n",
        "      if xsection_data.shape == \"CIRCULAR\":\n",
        "        xsection_data.height = conduit_size\n",
        "      else:\n",
        "        pass\n",
        "\n",
        "      print(f\"Name: {conduit_id}\")\n",
        "      print(f\"Shape: {xsection_data.shape}\")\n",
        "      print(f\"Conduit Height: {xsection_data.height}\")\n",
        "      print(f\"\")\n",
        "      # Create a unique filename to avoid overwriting\n",
        "\n",
        "file_name = f\"Modified_Model1.inp\"\n",
        "modified_inp.write_file(file_name)\n"
      ],
      "metadata": {
        "id": "W7FUVSR9CI43",
        "collapsed": true
      },
      "execution_count": null,
      "outputs": []
    },
    {
      "cell_type": "markdown",
      "source": [
        "# Step 2: Optimize Pipe Sizes"
      ],
      "metadata": {
        "id": "cdwJRMvhBkdi"
      }
    },
    {
      "cell_type": "markdown",
      "source": [
        "Starting Pipe Size Optimization"
      ],
      "metadata": {
        "id": "t2IgzvzeYjyS"
      }
    },
    {
      "cell_type": "code",
      "source": [
        "# Get all starting pipes from all flow paths\n",
        "all_starting_pipes = []\n",
        "for outfall_node, flow_path in flow_paths.items():\n",
        "    conduits_in_path = [item for item in flow_path if item in conduit_connections]\n",
        "    all_starting_pipes.append(conduits_in_path[0])\n",
        "\n",
        "# Create a dictionary to store initial peak flows for each conduit\n",
        "initial_peak_flows = {}\n",
        "for conduit_name in all_starting_pipes:  # or inp['CONDUITS'] to check all\n",
        "    peak_flow_value = peak_flow_solve(\"Modified_Model1.inp\", conduit_name)\n",
        "    initial_peak_flows[conduit_name] = peak_flow_value\n",
        "    print(initial_peak_flows)\n",
        "\n",
        "# Get suitable sizes for all starting pipes\n",
        "suitable_sizes_per_pipe = {\n",
        "    conduit_name: find_suitable_sizes(conduit_name, available_sizes, initial_peak_flows[conduit_name])\n",
        "    for conduit_name in all_starting_pipes\n",
        "}\n",
        "print(suitable_sizes_per_pipe)\n",
        "\n",
        "# Generate all size combinations for all starting pipes\n",
        "all_size_combinations = list(itertools.product(*[suitable_sizes_per_pipe[pipe] for pipe in all_starting_pipes]))\n",
        "\n",
        "# Optimization loop for each size combination\n",
        "for size_combination in all_size_combinations:\n",
        "    modified_inp = copy.deepcopy(inp)\n",
        "\n",
        "    # Modify pipe sizes for all starting pipes\n",
        "    for i, pipe in enumerate(all_starting_pipes):\n",
        "        # Find the xsection name associated with the pipe\n",
        "        xsection_name = None\n",
        "        for xs_name, xs_data in xsections.items():\n",
        "            if xs_data.link == pipe:\n",
        "                xsection_name = xs_name\n",
        "                break\n",
        "\n",
        "    if xsection_name is not None:\n",
        "        modified_inp[\"XSECTIONS\"][xsection_name].height = size_combination[i]\n",
        "\n",
        "    # *** Add this section to save the modified input file ***\n",
        "    file_name = f\"modified_input_starting_pipes_{'_'.join(map(str, size_combination))}.inp\"\n",
        "    modified_inp.write_file(file_name)\n",
        "    print(f\"Modified input file saved as {file_name}\")\n",
        "\n",
        "\n",
        "# #Iterate through all conduits, not just starting pipes\n",
        "# for xsection_name, xsection_data in xsections.items():\n",
        "#     pipe_name = xsection_name\n",
        "#     flow = peak_flow_solve(\"Modified_Model1.inp\", pipe_name)\n",
        "#     print(f\"Pipe Name: {pipe_name}\")\n",
        "#     print(f\"Flow: {flow}\")\n",
        "#     print(f\"\")\n",
        "\n",
        "    # # Check if flow is not None before proceeding\n",
        "    # if flow is not None:\n",
        "    #     suitable_sizes = find_suitable_sizes(pipe_name, available_sizes, flow)\n",
        "    #     # ... (Rest of your logic to use suitable_sizes) ...\n",
        "    # else:\n",
        "    #     print(f\"Warning: Could not get peak flow for conduit {conduit_name}. Skipping.\")"
      ],
      "metadata": {
        "id": "-MtbVb-w7FuL",
        "collapsed": true
      },
      "execution_count": null,
      "outputs": []
    },
    {
      "cell_type": "markdown",
      "source": [
        "Downstream Optimization"
      ],
      "metadata": {
        "id": "pp_5p5Z9WcmB"
      }
    },
    {
      "cell_type": "code",
      "source": [
        "# Optimization loop for each size combination\n",
        "for size_combination in all_size_combinations:\n",
        "    modified_inp = copy.deepcopy(inp)\n",
        "\n",
        "    # Modify pipe sizes for all starting pipes\n",
        "    for i, pipe in enumerate(all_starting_pipes):\n",
        "        # Find the xsection name associated with the pipe\n",
        "        xsection_name = None\n",
        "        for xs_name, xs_data in xsections.items():\n",
        "            if xs_data.link == pipe:\n",
        "                xsection_name = xs_name\n",
        "                break\n",
        "\n",
        "        if xsection_name is not None:\n",
        "            modified_inp[\"XSECTIONS\"][xsection_name].height = size_combination[i]\n",
        "\n",
        "    # --- Iterate downstream and optimize remaining conduits ---\n",
        "    # Get initial peak flows for this combination using the original peak_flow_solve function\n",
        "    current_peak_flows = {}\n",
        "    for conduit_name, _ in modified_inp[\"CONDUITS\"].items():\n",
        "        # Create a temporary input file\n",
        "        temp_file_name = f\"temp_input_{conduit_name}.inp\"\n",
        "        modified_inp.write_file(temp_file_name)\n",
        "\n",
        "        # Call peak_flow_solve with the temporary file\n",
        "        peak_flow_value = peak_flow_solve(temp_file_name, conduit_name)\n",
        "\n",
        "        # Remove the temporary file\n",
        "        os.remove(temp_file_name)\n",
        "        os.remove(temp_file_name.replace(\".inp\", \".out\"))\n",
        "        os.remove(temp_file_name.replace(\".inp\", \".rpt\"))\n",
        "\n",
        "        current_peak_flows[conduit_name] = peak_flow_value\n",
        "\n",
        "\n",
        "    for outfall_node, flow_path in flow_paths.items():\n",
        "        conduits_in_path = [item for item in flow_path if item in conduit_connections]\n",
        "\n",
        "        for i, conduit_name in enumerate(conduits_in_path):\n",
        "            # Skip starting pipes as they are already set\n",
        "            if conduit_name in all_starting_pipes:\n",
        "                continue\n",
        "\n",
        "            suitable_sizes = find_suitable_sizes(conduit_name, available_sizes, current_peak_flows[conduit_name])\n",
        "\n",
        "            # Find best size for current conduit (consider cost or other criteria)\n",
        "            best_size_for_conduit = suitable_sizes[0]  # Placeholder, replace with your logic\n",
        "\n",
        "            # Find the xsection name associated with the conduit\n",
        "            xsection_name = None\n",
        "            for xs_name, xs_data in xsections.items():\n",
        "                if xs_data.link == conduit_name:\n",
        "                    xsection_name = xs_name\n",
        "                    break\n",
        "\n",
        "            # Update the modified input with the best size\n",
        "            if xsection_name is not None:\n",
        "                modified_inp[\"XSECTIONS\"][xsection_name].height = best_size_for_conduit\n",
        "\n",
        "            # Update peak flows for the next conduit in the path\n",
        "            # Get updated peak flows using the original peak_flow_solve function\n",
        "            current_peak_flows = {}\n",
        "            for conduit_name, _ in modified_inp[\"CONDUITS\"].items():\n",
        "                # Create a temporary input file\n",
        "                temp_file_name = f\"temp_input_{conduit_name}.inp\"\n",
        "                modified_inp.write_file(temp_file_name)\n",
        "\n",
        "                # Call peak_flow_solve with the temporary file\n",
        "                peak_flow_value = peak_flow_solve(temp_file_name, conduit_name)\n",
        "\n",
        "                # Remove the temporary file\n",
        "                os.remove(temp_file_name)\n",
        "                os.remove(temp_file_name.replace(\".inp\", \".out\"))\n",
        "                os.remove(temp_file_name.replace(\".inp\", \".rpt\"))\n",
        "\n",
        "                current_peak_flows[conduit_name] = peak_flow_value\n",
        "\n",
        "    # Save the fully optimized input to a separate file with a unique name\n",
        "    file_name = f\"optimized_input_starting_pipes_{'_'.join(map(str, size_combination))}_downstream.inp\"\n",
        "    modified_inp.write_file(file_name)\n",
        "    print(f\"Optimized input file saved as {file_name}\")"
      ],
      "metadata": {
        "id": "KSLtFRo4Wfy5"
      },
      "execution_count": null,
      "outputs": []
    },
    {
      "cell_type": "markdown",
      "source": [
        "# Step 3: Adjust Pipe Slopes Based on Adjusted Pipe Sizes"
      ],
      "metadata": {
        "id": "40pM9YyyolCJ"
      }
    },
    {
      "cell_type": "code",
      "source": [
        "# Get a list of all optimized input files from Step 2\n",
        "optimized_input_files = [\n",
        "    f for f in os.listdir()\n",
        "    if re.match(r\"optimized_input_starting_pipes_(\\d+\\.?\\d*)+_downstream\\.inp\", f)\n",
        "]\n",
        "\n",
        "# Iterate through each optimized input file\n",
        "for input_file in optimized_input_files:\n",
        "    # Load the input file using SwmmInput\n",
        "    modified_inp = SwmmInput(input_file)\n",
        "\n",
        "    for outfall_node, flow_path in flow_paths.items():\n",
        "        conduits_in_path = [item for item in flow_path if item in conduit_connections]\n",
        "\n",
        "        # Process conduits in reverse order (from last to first)\n",
        "        current_downstream_elevation = None  # Initialize for the first (last) conduit\n",
        "\n",
        "        for i, conduit_name in enumerate(reversed(conduits_in_path)):\n",
        "            # Get optimized size\n",
        "            optimized_size = modified_inp[\"XSECTIONS\"][xsection_name].height\n",
        "\n",
        "            # Get upstream and downstream junction names\n",
        "            upstream_junction = modified_inp[\"CONDUITS\"][conduit_name].from_node\n",
        "            downstream_junction = modified_inp[\"CONDUITS\"][conduit_name].to_node\n",
        "            roughness = modified_inp[\"CONDUITS\"][conduit_name].roughness\n",
        "            # If it's the last conduit, use original downstream elevation from OUTFALLS\n",
        "            if i == 0:  # i = 0 for the last conduit in reversed order\n",
        "                current_downstream_elevation = modified_inp[\"OUTFALLS\"][downstream_junction].elevation\n",
        "\n",
        "            # Otherwise, use the upstream elevation of the previous conduit\n",
        "            # as the current downstream elevation\n",
        "\n",
        "\n",
        "            # Calculate new slope using Manning's equation and max hydraulic radius\n",
        "            new_slope = adjust_slope_with_mannings(modified_inp, conduit_name, optimized_size, roughness)\n",
        "\n",
        "            # Calculate new upstream elevation\n",
        "            new_upstream_elevation = current_downstream_elevation + (new_slope * modified_inp[\"CONDUITS\"][conduit_name].length)\n",
        "\n",
        "            # Update upstream junction elevation\n",
        "            modified_inp[\"JUNCTIONS\"][upstream_junction].elevation = new_upstream_elevation\n",
        "\n",
        "            # Update current_downstream_elevation for the next conduit in the loop\n",
        "            current_downstream_elevation = new_upstream_elevation\n",
        "\n",
        "    # Save the modified input file with a new name\n",
        "    modified_inp.write_file(f\"adjusted_{input_file}\")\n",
        "    print(f\"Adjusted slopes/inverts for {input_file} and saved as adjusted_{input_file}\")"
      ],
      "metadata": {
        "id": "9ncha6b11jfR"
      },
      "execution_count": null,
      "outputs": []
    },
    {
      "cell_type": "markdown",
      "source": [
        "# Step 4: Optimize Pipe Slopes"
      ],
      "metadata": {
        "id": "DirCMCE06CmK"
      }
    },
    {
      "cell_type": "code",
      "source": [
        "# Define maximum and minimum allowable slopes (adjust values as needed)\n",
        "max_slope = 0.02  # Maximum allowable slope\n",
        "min_slope = 0.001  # Minimum allowable slope\n",
        "\n",
        "# Load ground slope data from \"Ground Slopes.xlsx\"\n",
        "ground_slopes_df = pd.read_excel(\"Ground_Slopes.xlsx\")\n",
        "\n",
        "# Get a list of all adjusted input files from Step 3\n",
        "adjusted_input_files = [f for f in os.listdir() if f.startswith(\"adjusted_optimized_input_starting_pipes_\")]\n",
        "\n",
        "# Iterate through each adjusted input file\n",
        "for input_file in adjusted_input_files:\n",
        "    # Load the input file using SwmmInput\n",
        "    modified_inp = SwmmInput(input_file)\n",
        "\n",
        "    for outfall_node, flow_path in flow_paths.items():\n",
        "        conduits_in_path = [item for item in flow_path if item in conduit_connections]\n",
        "\n",
        "        # Process conduits in reverse order (from last to first)\n",
        "        for i, conduit_name in enumerate(reversed(conduits_in_path)):\n",
        "            # Get ground slope data for the current conduit\n",
        "            ground_slope_data = ground_slopes_df[ground_slopes_df[\"Conduits\"] == conduit_name].iloc[0]\n",
        "            ground_slope = (ground_slope_data[\"To Node Elevation\"] - ground_slope_data[\"From Node Elevation\"]) / ground_slope_data[\"Length\"]\n",
        "\n",
        "            # Get upstream and downstream junction names\n",
        "            upstream_junction = modified_inp[\"CONDUITS\"][conduit_name].from_node\n",
        "            downstream_junction = modified_inp[\"CONDUITS\"][conduit_name].to_node\n",
        "\n",
        "            # Apply slope adjustment logic\n",
        "            if ground_slope >= 0:\n",
        "                if ground_slope <= max_slope:\n",
        "                    final_slope = ground_slope  # Use ground slope if within limits\n",
        "                else:\n",
        "                    final_slope = max_slope  # Use max slope if ground slope is too steep\n",
        "            else:\n",
        "                final_slope = min_slope  # Use min slope if ground slope is negative\n",
        "\n",
        "            # If it's the last conduit, use original downstream elevation from OUTFALLS\n",
        "            if i == 0:\n",
        "                downstream_elevation = modified_inp[\"OUTFALLS\"][downstream_junction].elevation\n",
        "            else:\n",
        "                downstream_elevation = modified_inp[\"JUNCTIONS\"][downstream_junction].elevation\n",
        "\n",
        "            # Calculate new upstream elevation based on final slope\n",
        "            upstream_elevation = downstream_elevation + (final_slope * modified_inp[\"CONDUITS\"][conduit_name].length)\n",
        "\n",
        "            # Update upstream junction elevation in the modified inp file\n",
        "            modified_inp[\"JUNCTIONS\"][upstream_junction].elevation = upstream_elevation\n",
        "\n",
        "    # Save the modified input file with a new name\n",
        "    modified_inp.write_file(f\"slope_optimized_{input_file}\")\n",
        "    print(f\"Slopes optimized for {input_file} and saved as slope_optimized_{input_file}\")"
      ],
      "metadata": {
        "id": "s7LFEU_AV5o3"
      },
      "execution_count": null,
      "outputs": []
    },
    {
      "cell_type": "markdown",
      "source": [
        "# Step 5: Solving for Construction Costs"
      ],
      "metadata": {
        "id": "e5Jr5hVfZmRs"
      }
    },
    {
      "cell_type": "code",
      "source": [
        "# Load pipe prices data (assuming the file is named \"pipe_prices.xlsx\")\n",
        "pipe_prices_df = pd.read_excel(\"Pipe_Prices.xlsx\")\n",
        "\n",
        "# Get a list of all slope-optimized input files from Step 4\n",
        "slope_optimized_files = [f for f in os.listdir() if f.startswith(\"slope_optimized_\")]\n",
        "\n",
        "# Initialize variables to store the least cost and corresponding file name\n",
        "least_cost = float('inf')  # Initialize with a very large value\n",
        "least_cost_file = None\n",
        "\n",
        "# Iterate through each slope-optimized input file\n",
        "for input_file in slope_optimized_files:\n",
        "    # Load the input file using SwmmInput\n",
        "    modified_inp = SwmmInput(input_file)\n",
        "\n",
        "    total_cost = 0  # Initialize total cost for this input file\n",
        "\n",
        "    # Iterate through conduits in the input file\n",
        "    for conduit_name, conduit_data in modified_inp[\"CONDUITS\"].items():\n",
        "        # Get conduit diameter (assuming it's stored in the 'height' attribute)\n",
        "        diameter = conduit_data.height\n",
        "\n",
        "        # Get conduit length\n",
        "        length = conduit_data.length\n",
        "\n",
        "        # Get pipe price per length for the current diameter from the pipe_prices_df\n",
        "        price_per_length = pipe_prices_df[pipe_prices_df[\"Diameter\"] == diameter][\"Price per Length\"].values[0]\n",
        "\n",
        "        # Calculate cost for this conduit and add to total cost\n",
        "        conduit_cost = price_per_length * length\n",
        "        total_cost += conduit_cost\n",
        "\n",
        "        # Check if this file has the least cost so far\n",
        "        if total_cost < least_cost:\n",
        "          least_cost = total_cost\n",
        "          least_cost_file = input_file\n",
        "    # Print total cost for this input file\n",
        "    print(f\"Total construction cost for {input_file}: {total_cost}\")\n",
        "\n",
        "# Print the file with the least cost\n",
        "print(f\"\\nFile with the least construction cost: {least_cost_file} (Cost: {least_cost})\")"
      ],
      "metadata": {
        "id": "u6yKDTsqZrLM"
      },
      "execution_count": null,
      "outputs": []
    }
  ]
}