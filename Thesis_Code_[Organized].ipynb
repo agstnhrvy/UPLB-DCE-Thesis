{
  "nbformat": 4,
  "nbformat_minor": 0,
  "metadata": {
    "colab": {
      "provenance": [],
      "authorship_tag": "ABX9TyO0pCW5PxSyP1+xH5+cqcaO",
      "include_colab_link": true
    },
    "kernelspec": {
      "name": "python3",
      "display_name": "Python 3"
    },
    "language_info": {
      "name": "python"
    }
  },
  "cells": [
    {
      "cell_type": "markdown",
      "metadata": {
        "id": "view-in-github",
        "colab_type": "text"
      },
      "source": [
        "<a href=\"https://colab.research.google.com/github/agstnhrvy/UPLB-DCE-Thesis/blob/main/Thesis_Code_%5BOrganized%5D.ipynb\" target=\"_parent\"><img src=\"https://colab.research.google.com/assets/colab-badge.svg\" alt=\"Open In Colab\"/></a>"
      ]
    },
    {
      "cell_type": "markdown",
      "source": [
        "# Importing Libraries\n"
      ],
      "metadata": {
        "id": "R7RO9561bN-f"
      }
    },
    {
      "cell_type": "code",
      "source": [
        "# Thesis Project\n",
        "# To properly install pyswmm and swmm-api to the Python file, select the python interpreter from the venv\\Scripts\\python.exe then install both libraries using \"pip install ...\"\n",
        "\n",
        "!pip install pyswmm\n",
        "!pip install swmm_api\n",
        "!pip install swmm5\n",
        "import math\n",
        "import os, sys\n",
        "import swmm5\n",
        "from pyswmm import Simulation, Links\n",
        "from pyswmm.swmm5 import SWMMException\n",
        "from pyswmm.nodes import Nodes\n",
        "from swmm_api import SwmmInput, SwmmOutput, SwmmReport\n",
        "from swmm_api.input_file.section_labels import JUNCTIONS, CONDUITS\n",
        "from swmm_api.input_file.sections import Conduit\n",
        "from swmm.toolkit.shared_enum import LinkResult\n",
        "from google.colab import files\n",
        "import pandas as pd"
      ],
      "metadata": {
        "colab": {
          "base_uri": "https://localhost:8080/"
        },
        "id": "3JCNgyg4bR2J",
        "outputId": "f56a3d11-ea0e-4551-eb01-addd237c1490",
        "collapsed": true
      },
      "execution_count": null,
      "outputs": [
        {
          "output_type": "stream",
          "name": "stdout",
          "text": [
            "Collecting pyswmm\n",
            "  Downloading pyswmm-2.0.1-py3-none-any.whl.metadata (8.0 kB)\n",
            "Collecting swmm-toolkit>=0.9.0 (from pyswmm)\n",
            "  Downloading swmm_toolkit-0.15.5-cp311-cp311-manylinux_2_17_x86_64.manylinux2014_x86_64.whl.metadata (1.9 kB)\n",
            "Collecting julian>=0.14 (from pyswmm)\n",
            "  Downloading julian-0.14.zip (2.8 kB)\n",
            "  Preparing metadata (setup.py) ... \u001b[?25l\u001b[?25hdone\n",
            "Collecting aenum>=3.1.11 (from pyswmm)\n",
            "  Downloading aenum-3.1.15-py3-none-any.whl.metadata (3.7 kB)\n",
            "Requirement already satisfied: packaging in /usr/local/lib/python3.11/dist-packages (from pyswmm) (24.2)\n",
            "  Downloading aenum-3.1.11-py3-none-any.whl.metadata (3.7 kB)\n",
            "Downloading pyswmm-2.0.1-py3-none-any.whl (111 kB)\n",
            "\u001b[2K   \u001b[90m━━━━━━━━━━━━━━━━━━━━━━━━━━━━━━━━━━━━━━━━\u001b[0m \u001b[32m111.8/111.8 kB\u001b[0m \u001b[31m9.9 MB/s\u001b[0m eta \u001b[36m0:00:00\u001b[0m\n",
            "\u001b[?25hDownloading swmm_toolkit-0.15.5-cp311-cp311-manylinux_2_17_x86_64.manylinux2014_x86_64.whl (489 kB)\n",
            "\u001b[2K   \u001b[90m━━━━━━━━━━━━━━━━━━━━━━━━━━━━━━━━━━━━━━━━\u001b[0m \u001b[32m489.1/489.1 kB\u001b[0m \u001b[31m38.5 MB/s\u001b[0m eta \u001b[36m0:00:00\u001b[0m\n",
            "\u001b[?25hDownloading aenum-3.1.11-py3-none-any.whl (131 kB)\n",
            "\u001b[2K   \u001b[90m━━━━━━━━━━━━━━━━━━━━━━━━━━━━━━━━━━━━━━━━\u001b[0m \u001b[32m131.5/131.5 kB\u001b[0m \u001b[31m12.6 MB/s\u001b[0m eta \u001b[36m0:00:00\u001b[0m\n",
            "\u001b[?25hBuilding wheels for collected packages: julian\n",
            "  Building wheel for julian (setup.py) ... \u001b[?25l\u001b[?25hdone\n",
            "  Created wheel for julian: filename=julian-0.14-py3-none-any.whl size=2613 sha256=630b3f0f2c045ce46e4d0ecd28b13cf45b83af3da94c9d72c62940ba208701ef\n",
            "  Stored in directory: /root/.cache/pip/wheels/7c/c2/d4/08f8020a07dccace466111e011f3f38361cf57724f8e1f70bc\n",
            "Successfully built julian\n",
            "Installing collected packages: julian, aenum, swmm-toolkit, pyswmm\n",
            "Successfully installed aenum-3.1.11 julian-0.14 pyswmm-2.0.1 swmm-toolkit-0.15.5\n",
            "Collecting swmm_api\n",
            "  Downloading swmm_api-0.4.66-py3-none-any.whl.metadata (25 kB)\n",
            "Requirement already satisfied: pandas in /usr/local/lib/python3.11/dist-packages (from swmm_api) (2.2.2)\n",
            "Requirement already satisfied: tqdm in /usr/local/lib/python3.11/dist-packages (from swmm_api) (4.67.1)\n",
            "Requirement already satisfied: packaging in /usr/local/lib/python3.11/dist-packages (from swmm_api) (24.2)\n",
            "Requirement already satisfied: numpy>=1.23.2 in /usr/local/lib/python3.11/dist-packages (from pandas->swmm_api) (2.0.2)\n",
            "Requirement already satisfied: python-dateutil>=2.8.2 in /usr/local/lib/python3.11/dist-packages (from pandas->swmm_api) (2.8.2)\n",
            "Requirement already satisfied: pytz>=2020.1 in /usr/local/lib/python3.11/dist-packages (from pandas->swmm_api) (2025.2)\n",
            "Requirement already satisfied: tzdata>=2022.7 in /usr/local/lib/python3.11/dist-packages (from pandas->swmm_api) (2025.2)\n",
            "Requirement already satisfied: six>=1.5 in /usr/local/lib/python3.11/dist-packages (from python-dateutil>=2.8.2->pandas->swmm_api) (1.17.0)\n",
            "Downloading swmm_api-0.4.66-py3-none-any.whl (297 kB)\n",
            "\u001b[2K   \u001b[90m━━━━━━━━━━━━━━━━━━━━━━━━━━━━━━━━━━━━━━━━\u001b[0m \u001b[32m297.9/297.9 kB\u001b[0m \u001b[31m19.8 MB/s\u001b[0m eta \u001b[36m0:00:00\u001b[0m\n",
            "\u001b[?25hInstalling collected packages: swmm_api\n",
            "Successfully installed swmm_api-0.4.66\n",
            "Collecting swmm5\n",
            "  Downloading SWMM5-5.2.4.tar.gz (528 kB)\n",
            "\u001b[2K     \u001b[90m━━━━━━━━━━━━━━━━━━━━━━━━━━━━━━━━━━━━━━\u001b[0m \u001b[32m528.8/528.8 kB\u001b[0m \u001b[31m27.0 MB/s\u001b[0m eta \u001b[36m0:00:00\u001b[0m\n",
            "\u001b[?25h  Installing build dependencies ... \u001b[?25l\u001b[?25hdone\n",
            "  Getting requirements to build wheel ... \u001b[?25l\u001b[?25hdone\n",
            "  Preparing metadata (pyproject.toml) ... \u001b[?25l\u001b[?25hdone\n",
            "Building wheels for collected packages: swmm5\n",
            "  Building wheel for swmm5 (pyproject.toml) ... \u001b[?25l\u001b[?25hdone\n",
            "  Created wheel for swmm5: filename=swmm5-5.2.4-cp311-cp311-linux_x86_64.whl size=981440 sha256=d37a80860f12890f851a4b27860f98c53346d3d371aac6d51e3979d8baab81e4\n",
            "  Stored in directory: /root/.cache/pip/wheels/8c/20/a2/b6d5da2ea4109c3657c110674712c3ba6cb865272d837579bc\n",
            "Successfully built swmm5\n",
            "Installing collected packages: swmm5\n",
            "Successfully installed swmm5-5.2.4\n"
          ]
        }
      ]
    },
    {
      "cell_type": "markdown",
      "source": [
        "# File Upload"
      ],
      "metadata": {
        "id": "41jhUVVTbUim"
      }
    },
    {
      "cell_type": "code",
      "source": [
        "uploaded = files.upload()\n",
        "\n",
        "inp = SwmmInput(\"Inlet_Drains_Model1.inp\")\n",
        "out = SwmmOutput(\"Inlet_Drains_Model1.out\")\n",
        "rpt = SwmmReport(\"Inlet_Drains_Model1.rpt\")\n",
        "available_sizes = files.upload(\"Available Sizes.txt\")\n",
        "print(\"Uploaded files:\", os.listdir())\n",
        "conduits_df = inp[\"CONDUITS\"]\n",
        "print(conduits_df)"
      ],
      "metadata": {
        "colab": {
          "base_uri": "https://localhost:8080/",
          "height": 150
        },
        "id": "Zq6dPiGybZPd",
        "outputId": "3a8a8716-b83b-428c-9873-6ca7892ad661",
        "collapsed": true
      },
      "execution_count": null,
      "outputs": [
        {
          "output_type": "display_data",
          "data": {
            "text/plain": [
              "<IPython.core.display.HTML object>"
            ],
            "text/html": [
              "\n",
              "     <input type=\"file\" id=\"files-acfa87ad-37c7-439f-b31f-dd1500aefd02\" name=\"files[]\" multiple disabled\n",
              "        style=\"border:none\" />\n",
              "     <output id=\"result-acfa87ad-37c7-439f-b31f-dd1500aefd02\">\n",
              "      Upload widget is only available when the cell has been executed in the\n",
              "      current browser session. Please rerun this cell to enable.\n",
              "      </output>\n",
              "      <script>// Copyright 2017 Google LLC\n",
              "//\n",
              "// Licensed under the Apache License, Version 2.0 (the \"License\");\n",
              "// you may not use this file except in compliance with the License.\n",
              "// You may obtain a copy of the License at\n",
              "//\n",
              "//      http://www.apache.org/licenses/LICENSE-2.0\n",
              "//\n",
              "// Unless required by applicable law or agreed to in writing, software\n",
              "// distributed under the License is distributed on an \"AS IS\" BASIS,\n",
              "// WITHOUT WARRANTIES OR CONDITIONS OF ANY KIND, either express or implied.\n",
              "// See the License for the specific language governing permissions and\n",
              "// limitations under the License.\n",
              "\n",
              "/**\n",
              " * @fileoverview Helpers for google.colab Python module.\n",
              " */\n",
              "(function(scope) {\n",
              "function span(text, styleAttributes = {}) {\n",
              "  const element = document.createElement('span');\n",
              "  element.textContent = text;\n",
              "  for (const key of Object.keys(styleAttributes)) {\n",
              "    element.style[key] = styleAttributes[key];\n",
              "  }\n",
              "  return element;\n",
              "}\n",
              "\n",
              "// Max number of bytes which will be uploaded at a time.\n",
              "const MAX_PAYLOAD_SIZE = 100 * 1024;\n",
              "\n",
              "function _uploadFiles(inputId, outputId) {\n",
              "  const steps = uploadFilesStep(inputId, outputId);\n",
              "  const outputElement = document.getElementById(outputId);\n",
              "  // Cache steps on the outputElement to make it available for the next call\n",
              "  // to uploadFilesContinue from Python.\n",
              "  outputElement.steps = steps;\n",
              "\n",
              "  return _uploadFilesContinue(outputId);\n",
              "}\n",
              "\n",
              "// This is roughly an async generator (not supported in the browser yet),\n",
              "// where there are multiple asynchronous steps and the Python side is going\n",
              "// to poll for completion of each step.\n",
              "// This uses a Promise to block the python side on completion of each step,\n",
              "// then passes the result of the previous step as the input to the next step.\n",
              "function _uploadFilesContinue(outputId) {\n",
              "  const outputElement = document.getElementById(outputId);\n",
              "  const steps = outputElement.steps;\n",
              "\n",
              "  const next = steps.next(outputElement.lastPromiseValue);\n",
              "  return Promise.resolve(next.value.promise).then((value) => {\n",
              "    // Cache the last promise value to make it available to the next\n",
              "    // step of the generator.\n",
              "    outputElement.lastPromiseValue = value;\n",
              "    return next.value.response;\n",
              "  });\n",
              "}\n",
              "\n",
              "/**\n",
              " * Generator function which is called between each async step of the upload\n",
              " * process.\n",
              " * @param {string} inputId Element ID of the input file picker element.\n",
              " * @param {string} outputId Element ID of the output display.\n",
              " * @return {!Iterable<!Object>} Iterable of next steps.\n",
              " */\n",
              "function* uploadFilesStep(inputId, outputId) {\n",
              "  const inputElement = document.getElementById(inputId);\n",
              "  inputElement.disabled = false;\n",
              "\n",
              "  const outputElement = document.getElementById(outputId);\n",
              "  outputElement.innerHTML = '';\n",
              "\n",
              "  const pickedPromise = new Promise((resolve) => {\n",
              "    inputElement.addEventListener('change', (e) => {\n",
              "      resolve(e.target.files);\n",
              "    });\n",
              "  });\n",
              "\n",
              "  const cancel = document.createElement('button');\n",
              "  inputElement.parentElement.appendChild(cancel);\n",
              "  cancel.textContent = 'Cancel upload';\n",
              "  const cancelPromise = new Promise((resolve) => {\n",
              "    cancel.onclick = () => {\n",
              "      resolve(null);\n",
              "    };\n",
              "  });\n",
              "\n",
              "  // Wait for the user to pick the files.\n",
              "  const files = yield {\n",
              "    promise: Promise.race([pickedPromise, cancelPromise]),\n",
              "    response: {\n",
              "      action: 'starting',\n",
              "    }\n",
              "  };\n",
              "\n",
              "  cancel.remove();\n",
              "\n",
              "  // Disable the input element since further picks are not allowed.\n",
              "  inputElement.disabled = true;\n",
              "\n",
              "  if (!files) {\n",
              "    return {\n",
              "      response: {\n",
              "        action: 'complete',\n",
              "      }\n",
              "    };\n",
              "  }\n",
              "\n",
              "  for (const file of files) {\n",
              "    const li = document.createElement('li');\n",
              "    li.append(span(file.name, {fontWeight: 'bold'}));\n",
              "    li.append(span(\n",
              "        `(${file.type || 'n/a'}) - ${file.size} bytes, ` +\n",
              "        `last modified: ${\n",
              "            file.lastModifiedDate ? file.lastModifiedDate.toLocaleDateString() :\n",
              "                                    'n/a'} - `));\n",
              "    const percent = span('0% done');\n",
              "    li.appendChild(percent);\n",
              "\n",
              "    outputElement.appendChild(li);\n",
              "\n",
              "    const fileDataPromise = new Promise((resolve) => {\n",
              "      const reader = new FileReader();\n",
              "      reader.onload = (e) => {\n",
              "        resolve(e.target.result);\n",
              "      };\n",
              "      reader.readAsArrayBuffer(file);\n",
              "    });\n",
              "    // Wait for the data to be ready.\n",
              "    let fileData = yield {\n",
              "      promise: fileDataPromise,\n",
              "      response: {\n",
              "        action: 'continue',\n",
              "      }\n",
              "    };\n",
              "\n",
              "    // Use a chunked sending to avoid message size limits. See b/62115660.\n",
              "    let position = 0;\n",
              "    do {\n",
              "      const length = Math.min(fileData.byteLength - position, MAX_PAYLOAD_SIZE);\n",
              "      const chunk = new Uint8Array(fileData, position, length);\n",
              "      position += length;\n",
              "\n",
              "      const base64 = btoa(String.fromCharCode.apply(null, chunk));\n",
              "      yield {\n",
              "        response: {\n",
              "          action: 'append',\n",
              "          file: file.name,\n",
              "          data: base64,\n",
              "        },\n",
              "      };\n",
              "\n",
              "      let percentDone = fileData.byteLength === 0 ?\n",
              "          100 :\n",
              "          Math.round((position / fileData.byteLength) * 100);\n",
              "      percent.textContent = `${percentDone}% done`;\n",
              "\n",
              "    } while (position < fileData.byteLength);\n",
              "  }\n",
              "\n",
              "  // All done.\n",
              "  yield {\n",
              "    response: {\n",
              "      action: 'complete',\n",
              "    }\n",
              "  };\n",
              "}\n",
              "\n",
              "scope.google = scope.google || {};\n",
              "scope.google.colab = scope.google.colab || {};\n",
              "scope.google.colab._files = {\n",
              "  _uploadFiles,\n",
              "  _uploadFilesContinue,\n",
              "};\n",
              "})(self);\n",
              "</script> "
            ]
          },
          "metadata": {}
        },
        {
          "output_type": "stream",
          "name": "stdout",
          "text": [
            "Saving Available Sizes.txt to Available Sizes (1).txt\n"
          ]
        },
        {
          "output_type": "display_data",
          "data": {
            "text/plain": [
              "<IPython.core.display.HTML object>"
            ],
            "text/html": [
              "\n",
              "     <input type=\"file\" id=\"files-ce770cef-a800-4fb9-8345-2e265e148ff0\" name=\"files[]\" multiple disabled\n",
              "        style=\"border:none\" />\n",
              "     <output id=\"result-ce770cef-a800-4fb9-8345-2e265e148ff0\">\n",
              "      Upload widget is only available when the cell has been executed in the\n",
              "      current browser session. Please rerun this cell to enable.\n",
              "      </output>\n",
              "      <script>// Copyright 2017 Google LLC\n",
              "//\n",
              "// Licensed under the Apache License, Version 2.0 (the \"License\");\n",
              "// you may not use this file except in compliance with the License.\n",
              "// You may obtain a copy of the License at\n",
              "//\n",
              "//      http://www.apache.org/licenses/LICENSE-2.0\n",
              "//\n",
              "// Unless required by applicable law or agreed to in writing, software\n",
              "// distributed under the License is distributed on an \"AS IS\" BASIS,\n",
              "// WITHOUT WARRANTIES OR CONDITIONS OF ANY KIND, either express or implied.\n",
              "// See the License for the specific language governing permissions and\n",
              "// limitations under the License.\n",
              "\n",
              "/**\n",
              " * @fileoverview Helpers for google.colab Python module.\n",
              " */\n",
              "(function(scope) {\n",
              "function span(text, styleAttributes = {}) {\n",
              "  const element = document.createElement('span');\n",
              "  element.textContent = text;\n",
              "  for (const key of Object.keys(styleAttributes)) {\n",
              "    element.style[key] = styleAttributes[key];\n",
              "  }\n",
              "  return element;\n",
              "}\n",
              "\n",
              "// Max number of bytes which will be uploaded at a time.\n",
              "const MAX_PAYLOAD_SIZE = 100 * 1024;\n",
              "\n",
              "function _uploadFiles(inputId, outputId) {\n",
              "  const steps = uploadFilesStep(inputId, outputId);\n",
              "  const outputElement = document.getElementById(outputId);\n",
              "  // Cache steps on the outputElement to make it available for the next call\n",
              "  // to uploadFilesContinue from Python.\n",
              "  outputElement.steps = steps;\n",
              "\n",
              "  return _uploadFilesContinue(outputId);\n",
              "}\n",
              "\n",
              "// This is roughly an async generator (not supported in the browser yet),\n",
              "// where there are multiple asynchronous steps and the Python side is going\n",
              "// to poll for completion of each step.\n",
              "// This uses a Promise to block the python side on completion of each step,\n",
              "// then passes the result of the previous step as the input to the next step.\n",
              "function _uploadFilesContinue(outputId) {\n",
              "  const outputElement = document.getElementById(outputId);\n",
              "  const steps = outputElement.steps;\n",
              "\n",
              "  const next = steps.next(outputElement.lastPromiseValue);\n",
              "  return Promise.resolve(next.value.promise).then((value) => {\n",
              "    // Cache the last promise value to make it available to the next\n",
              "    // step of the generator.\n",
              "    outputElement.lastPromiseValue = value;\n",
              "    return next.value.response;\n",
              "  });\n",
              "}\n",
              "\n",
              "/**\n",
              " * Generator function which is called between each async step of the upload\n",
              " * process.\n",
              " * @param {string} inputId Element ID of the input file picker element.\n",
              " * @param {string} outputId Element ID of the output display.\n",
              " * @return {!Iterable<!Object>} Iterable of next steps.\n",
              " */\n",
              "function* uploadFilesStep(inputId, outputId) {\n",
              "  const inputElement = document.getElementById(inputId);\n",
              "  inputElement.disabled = false;\n",
              "\n",
              "  const outputElement = document.getElementById(outputId);\n",
              "  outputElement.innerHTML = '';\n",
              "\n",
              "  const pickedPromise = new Promise((resolve) => {\n",
              "    inputElement.addEventListener('change', (e) => {\n",
              "      resolve(e.target.files);\n",
              "    });\n",
              "  });\n",
              "\n",
              "  const cancel = document.createElement('button');\n",
              "  inputElement.parentElement.appendChild(cancel);\n",
              "  cancel.textContent = 'Cancel upload';\n",
              "  const cancelPromise = new Promise((resolve) => {\n",
              "    cancel.onclick = () => {\n",
              "      resolve(null);\n",
              "    };\n",
              "  });\n",
              "\n",
              "  // Wait for the user to pick the files.\n",
              "  const files = yield {\n",
              "    promise: Promise.race([pickedPromise, cancelPromise]),\n",
              "    response: {\n",
              "      action: 'starting',\n",
              "    }\n",
              "  };\n",
              "\n",
              "  cancel.remove();\n",
              "\n",
              "  // Disable the input element since further picks are not allowed.\n",
              "  inputElement.disabled = true;\n",
              "\n",
              "  if (!files) {\n",
              "    return {\n",
              "      response: {\n",
              "        action: 'complete',\n",
              "      }\n",
              "    };\n",
              "  }\n",
              "\n",
              "  for (const file of files) {\n",
              "    const li = document.createElement('li');\n",
              "    li.append(span(file.name, {fontWeight: 'bold'}));\n",
              "    li.append(span(\n",
              "        `(${file.type || 'n/a'}) - ${file.size} bytes, ` +\n",
              "        `last modified: ${\n",
              "            file.lastModifiedDate ? file.lastModifiedDate.toLocaleDateString() :\n",
              "                                    'n/a'} - `));\n",
              "    const percent = span('0% done');\n",
              "    li.appendChild(percent);\n",
              "\n",
              "    outputElement.appendChild(li);\n",
              "\n",
              "    const fileDataPromise = new Promise((resolve) => {\n",
              "      const reader = new FileReader();\n",
              "      reader.onload = (e) => {\n",
              "        resolve(e.target.result);\n",
              "      };\n",
              "      reader.readAsArrayBuffer(file);\n",
              "    });\n",
              "    // Wait for the data to be ready.\n",
              "    let fileData = yield {\n",
              "      promise: fileDataPromise,\n",
              "      response: {\n",
              "        action: 'continue',\n",
              "      }\n",
              "    };\n",
              "\n",
              "    // Use a chunked sending to avoid message size limits. See b/62115660.\n",
              "    let position = 0;\n",
              "    do {\n",
              "      const length = Math.min(fileData.byteLength - position, MAX_PAYLOAD_SIZE);\n",
              "      const chunk = new Uint8Array(fileData, position, length);\n",
              "      position += length;\n",
              "\n",
              "      const base64 = btoa(String.fromCharCode.apply(null, chunk));\n",
              "      yield {\n",
              "        response: {\n",
              "          action: 'append',\n",
              "          file: file.name,\n",
              "          data: base64,\n",
              "        },\n",
              "      };\n",
              "\n",
              "      let percentDone = fileData.byteLength === 0 ?\n",
              "          100 :\n",
              "          Math.round((position / fileData.byteLength) * 100);\n",
              "      percent.textContent = `${percentDone}% done`;\n",
              "\n",
              "    } while (position < fileData.byteLength);\n",
              "  }\n",
              "\n",
              "  // All done.\n",
              "  yield {\n",
              "    response: {\n",
              "      action: 'complete',\n",
              "    }\n",
              "  };\n",
              "}\n",
              "\n",
              "scope.google = scope.google || {};\n",
              "scope.google.colab = scope.google.colab || {};\n",
              "scope.google.colab._files = {\n",
              "  _uploadFiles,\n",
              "  _uploadFilesContinue,\n",
              "};\n",
              "})(self);\n",
              "</script> "
            ]
          },
          "metadata": {}
        },
        {
          "output_type": "stream",
          "name": "stdout",
          "text": [
            "Uploaded files: ['.config', 'Inlet_Drains_Model1.rpt', 'Available Sizes.txt', 'Inlet_Drains_Model1.inp', 'Available Sizes (1).txt', 'Inlet_Drains_Model1.out', 'sample_data']\n",
            "{'Street1': Conduit(name='Street1', from_node='Aux1', to_node='Aux2', length=377.31, roughness=0.016, offset_upstream=0.0, offset_downstream=0.0, flow_initial=0.0, flow_max=nan), 'Street2': Conduit(name='Street2', from_node='Aux2', to_node='Aux4', length=286.06, roughness=0.016, offset_upstream=0.0, offset_downstream=0.0, flow_initial=0.0, flow_max=nan), 'Street3': Conduit(name='Street3', from_node='Aux4', to_node='Aux5', length=239.41, roughness=0.016, offset_upstream=0.0, offset_downstream=0.0, flow_initial=0.0, flow_max=nan), 'Street4': Conduit(name='Street4', from_node='Aux5', to_node='Aux6', length=157.48, roughness=0.016, offset_upstream=0.0, offset_downstream=0.0, flow_initial=0.0, flow_max=nan), 'Street5': Conduit(name='Street5', from_node='Aux6', to_node='Aux7', length=526.0, roughness=0.016, offset_upstream=0.0, offset_downstream=0.0, flow_initial=0.0, flow_max=nan), 'C3': Conduit(name='C3', from_node='J3', to_node='J4', length=109.0, roughness=0.016, offset_upstream=0.0, offset_downstream=6.0, flow_initial=0.0, flow_max=nan), 'C4': Conduit(name='C4', from_node='J4', to_node='J5', length=133.0, roughness=0.05, offset_upstream=6.0, offset_downstream=4.0, flow_initial=0.0, flow_max=nan), 'C5': Conduit(name='C5', from_node='J5', to_node='J6', length=207.0, roughness=0.05, offset_upstream=4.0, offset_downstream=0.0, flow_initial=0.0, flow_max=nan), 'C6': Conduit(name='C6', from_node='J7', to_node='J6', length=140.0, roughness=0.05, offset_upstream=8.0, offset_downstream=0.0, flow_initial=0.0, flow_max=nan), 'C7': Conduit(name='C7', from_node='J6', to_node='J8', length=95.0, roughness=0.016, offset_upstream=0.0, offset_downstream=0.0, flow_initial=0.0, flow_max=nan), 'C8': Conduit(name='C8', from_node='J8', to_node='J9', length=166.0, roughness=0.05, offset_upstream=0.0, offset_downstream=0.0, flow_initial=0.0, flow_max=nan), 'C9': Conduit(name='C9', from_node='J9', to_node='J10', length=320.0, roughness=0.05, offset_upstream=0.0, offset_downstream=6.0, flow_initial=0.0, flow_max=nan), 'C10': Conduit(name='C10', from_node='J10', to_node='J11', length=145.0, roughness=0.05, offset_upstream=6.0, offset_downstream=6.0, flow_initial=0.0, flow_max=nan), 'C11': Conduit(name='C11', from_node='J11', to_node='O1', length=89.0, roughness=0.016, offset_upstream=0.0, offset_downstream=0.0, flow_initial=0.0, flow_max=nan), 'C_Aux3': Conduit(name='C_Aux3', from_node='Aux3', to_node='J3', length=444.75, roughness=0.05, offset_upstream=6.0, offset_downstream=0.0, flow_initial=0.0, flow_max=nan), 'P1': Conduit(name='P1', from_node='J1', to_node='J5', length=185.39, roughness=0.016, offset_upstream=0.0, offset_downstream=0.0, flow_initial=0.0, flow_max=nan), 'P2': Conduit(name='P2', from_node='J2a', to_node='J2', length=157.48, roughness=0.016, offset_upstream=0.0, offset_downstream=0.0, flow_initial=0.0, flow_max=nan), 'P3': Conduit(name='P3', from_node='J2', to_node='J11', length=529.22, roughness=0.016, offset_upstream=0.0, offset_downstream=0.0, flow_initial=0.0, flow_max=nan), 'P4': Conduit(name='P4', from_node='Aux3', to_node='J4', length=567.19, roughness=0.016, offset_upstream=0.0, offset_downstream=0.0, flow_initial=0.0, flow_max=nan), 'P5': Conduit(name='P5', from_node='J5', to_node='J4', length=125.98, roughness=0.016, offset_upstream=0.0, offset_downstream=0.0, flow_initial=0.0, flow_max=nan), 'P6': Conduit(name='P6', from_node='J4', to_node='J7', length=360.39, roughness=0.016, offset_upstream=0.0, offset_downstream=0.0, flow_initial=0.0, flow_max=nan), 'P7': Conduit(name='P7', from_node='J7', to_node='J10', length=507.76, roughness=0.016, offset_upstream=0.0, offset_downstream=0.0, flow_initial=0.0, flow_max=nan), 'P8': Conduit(name='P8', from_node='J10', to_node='J11', length=144.5, roughness=0.016, offset_upstream=0.0, offset_downstream=0.0, flow_initial=0.0, flow_max=nan)}\n"
          ]
        }
      ]
    },
    {
      "cell_type": "markdown",
      "source": [
        "# Boundary Parameters"
      ],
      "metadata": {
        "id": "aDGt-PtxbcIp"
      }
    },
    {
      "cell_type": "code",
      "source": [
        "peak_flow_dict = {}\n",
        "peak_flow =  {}\n",
        "peak_vel = {}\n",
        "adjust_pipe_size = {}\n",
        "available_sizes = {}\n",
        "pipe_geometry = {}\n",
        "conduit_ids = []\n",
        "link_length = {}\n",
        "in_offset = {}\n",
        "out_offset = {}\n",
        "vel_min = 0.8\n",
        "vel_max = 5\n",
        "geom1 = {}\n",
        "geom2 = {}\n",
        "geom3 = {}\n",
        "geom4 = {}"
      ],
      "metadata": {
        "id": "Y4s_HHOGbcdk"
      },
      "execution_count": null,
      "outputs": []
    },
    {
      "cell_type": "markdown",
      "source": [
        "# Data Frame"
      ],
      "metadata": {
        "id": "uzm6qT-_bopR"
      }
    },
    {
      "cell_type": "code",
      "source": [
        "conduits = inp['CONDUITS']\n",
        "xsections = inp['XSECTIONS']\n",
        "\n",
        "# Store results\n",
        "pipe_info = {}"
      ],
      "metadata": {
        "id": "marNgPOObsTW"
      },
      "execution_count": null,
      "outputs": []
    },
    {
      "cell_type": "markdown",
      "source": [
        "# Accessing Data Dictionary"
      ],
      "metadata": {
        "id": "r659Ig2csIHo"
      }
    },
    {
      "cell_type": "code",
      "source": [
        "for conduit_name, conduit_data in inp[\"CONDUITS\"].items():\n",
        "  conduit_dict = vars(conduit_data) # Access all data in Conduit\n",
        "  print (conduit_dict)\n",
        "\n",
        "print(xsections)  # Print the content of the xsections InpSection object\n",
        "for xsection_name, xsection_data in xsections.items():\n",
        "  print(xsection_data)  # Print the name of each parameter in the xsections section"
      ],
      "metadata": {
        "colab": {
          "base_uri": "https://localhost:8080/"
        },
        "collapsed": true,
        "id": "LWYD9FfusMFM",
        "outputId": "e665360b-0437-4959-916c-4c9b4744ce0a"
      },
      "execution_count": 20,
      "outputs": [
        {
          "output_type": "stream",
          "name": "stdout",
          "text": [
            "{'name': 'Street1', 'from_node': 'Aux1', 'to_node': 'Aux2', 'length': 377.31, 'roughness': 0.016, 'offset_upstream': 0.0, 'offset_downstream': 0.0, 'flow_initial': 0.0, 'flow_max': nan}\n",
            "{'name': 'Street2', 'from_node': 'Aux2', 'to_node': 'Aux4', 'length': 286.06, 'roughness': 0.016, 'offset_upstream': 0.0, 'offset_downstream': 0.0, 'flow_initial': 0.0, 'flow_max': nan}\n",
            "{'name': 'Street3', 'from_node': 'Aux4', 'to_node': 'Aux5', 'length': 239.41, 'roughness': 0.016, 'offset_upstream': 0.0, 'offset_downstream': 0.0, 'flow_initial': 0.0, 'flow_max': nan}\n",
            "{'name': 'Street4', 'from_node': 'Aux5', 'to_node': 'Aux6', 'length': 157.48, 'roughness': 0.016, 'offset_upstream': 0.0, 'offset_downstream': 0.0, 'flow_initial': 0.0, 'flow_max': nan}\n",
            "{'name': 'Street5', 'from_node': 'Aux6', 'to_node': 'Aux7', 'length': 526.0, 'roughness': 0.016, 'offset_upstream': 0.0, 'offset_downstream': 0.0, 'flow_initial': 0.0, 'flow_max': nan}\n",
            "{'name': 'C3', 'from_node': 'J3', 'to_node': 'J4', 'length': 109.0, 'roughness': 0.016, 'offset_upstream': 0.0, 'offset_downstream': 6.0, 'flow_initial': 0.0, 'flow_max': nan}\n",
            "{'name': 'C4', 'from_node': 'J4', 'to_node': 'J5', 'length': 133.0, 'roughness': 0.05, 'offset_upstream': 6.0, 'offset_downstream': 4.0, 'flow_initial': 0.0, 'flow_max': nan}\n",
            "{'name': 'C5', 'from_node': 'J5', 'to_node': 'J6', 'length': 207.0, 'roughness': 0.05, 'offset_upstream': 4.0, 'offset_downstream': 0.0, 'flow_initial': 0.0, 'flow_max': nan}\n",
            "{'name': 'C6', 'from_node': 'J7', 'to_node': 'J6', 'length': 140.0, 'roughness': 0.05, 'offset_upstream': 8.0, 'offset_downstream': 0.0, 'flow_initial': 0.0, 'flow_max': nan}\n",
            "{'name': 'C7', 'from_node': 'J6', 'to_node': 'J8', 'length': 95.0, 'roughness': 0.016, 'offset_upstream': 0.0, 'offset_downstream': 0.0, 'flow_initial': 0.0, 'flow_max': nan}\n",
            "{'name': 'C8', 'from_node': 'J8', 'to_node': 'J9', 'length': 166.0, 'roughness': 0.05, 'offset_upstream': 0.0, 'offset_downstream': 0.0, 'flow_initial': 0.0, 'flow_max': nan}\n",
            "{'name': 'C9', 'from_node': 'J9', 'to_node': 'J10', 'length': 320.0, 'roughness': 0.05, 'offset_upstream': 0.0, 'offset_downstream': 6.0, 'flow_initial': 0.0, 'flow_max': nan}\n",
            "{'name': 'C10', 'from_node': 'J10', 'to_node': 'J11', 'length': 145.0, 'roughness': 0.05, 'offset_upstream': 6.0, 'offset_downstream': 6.0, 'flow_initial': 0.0, 'flow_max': nan}\n",
            "{'name': 'C11', 'from_node': 'J11', 'to_node': 'O1', 'length': 89.0, 'roughness': 0.016, 'offset_upstream': 0.0, 'offset_downstream': 0.0, 'flow_initial': 0.0, 'flow_max': nan}\n",
            "{'name': 'C_Aux3', 'from_node': 'Aux3', 'to_node': 'J3', 'length': 444.75, 'roughness': 0.05, 'offset_upstream': 6.0, 'offset_downstream': 0.0, 'flow_initial': 0.0, 'flow_max': nan}\n",
            "{'name': 'P1', 'from_node': 'J1', 'to_node': 'J5', 'length': 185.39, 'roughness': 0.016, 'offset_upstream': 0.0, 'offset_downstream': 0.0, 'flow_initial': 0.0, 'flow_max': nan}\n",
            "{'name': 'P2', 'from_node': 'J2a', 'to_node': 'J2', 'length': 157.48, 'roughness': 0.016, 'offset_upstream': 0.0, 'offset_downstream': 0.0, 'flow_initial': 0.0, 'flow_max': nan}\n",
            "{'name': 'P3', 'from_node': 'J2', 'to_node': 'J11', 'length': 529.22, 'roughness': 0.016, 'offset_upstream': 0.0, 'offset_downstream': 0.0, 'flow_initial': 0.0, 'flow_max': nan}\n",
            "{'name': 'P4', 'from_node': 'Aux3', 'to_node': 'J4', 'length': 567.19, 'roughness': 0.016, 'offset_upstream': 0.0, 'offset_downstream': 0.0, 'flow_initial': 0.0, 'flow_max': nan}\n",
            "{'name': 'P5', 'from_node': 'J5', 'to_node': 'J4', 'length': 125.98, 'roughness': 0.016, 'offset_upstream': 0.0, 'offset_downstream': 0.0, 'flow_initial': 0.0, 'flow_max': nan}\n",
            "{'name': 'P6', 'from_node': 'J4', 'to_node': 'J7', 'length': 360.39, 'roughness': 0.016, 'offset_upstream': 0.0, 'offset_downstream': 0.0, 'flow_initial': 0.0, 'flow_max': nan}\n",
            "{'name': 'P7', 'from_node': 'J7', 'to_node': 'J10', 'length': 507.76, 'roughness': 0.016, 'offset_upstream': 0.0, 'offset_downstream': 0.0, 'flow_initial': 0.0, 'flow_max': nan}\n",
            "{'name': 'P8', 'from_node': 'J10', 'to_node': 'J11', 'length': 144.5, 'roughness': 0.016, 'offset_upstream': 0.0, 'offset_downstream': 0.0, 'flow_initial': 0.0, 'flow_max': nan}\n",
            "{'Street1': CrossSection(link='Street1', shape='STREET', height=nan, transect=nan, street='FullStreet', parameter_2=nan, curve_name=nan, parameter_3=0.0, parameter_4=0.0, n_barrels=1, culvert=nan), 'Street2': CrossSection(link='Street2', shape='STREET', height=nan, transect=nan, street='FullStreet', parameter_2=nan, curve_name=nan, parameter_3=0.0, parameter_4=0.0, n_barrels=1, culvert=nan), 'Street3': CrossSection(link='Street3', shape='STREET', height=nan, transect=nan, street='FullStreet', parameter_2=nan, curve_name=nan, parameter_3=0.0, parameter_4=0.0, n_barrels=1, culvert=nan), 'Street4': CrossSection(link='Street4', shape='STREET', height=nan, transect=nan, street='HalfStreet', parameter_2=nan, curve_name=nan, parameter_3=0.0, parameter_4=0.0, n_barrels=1, culvert=nan), 'Street5': CrossSection(link='Street5', shape='STREET', height=nan, transect=nan, street='HalfStreet', parameter_2=nan, curve_name=nan, parameter_3=0.0, parameter_4=0.0, n_barrels=1, culvert=nan), 'C3': CrossSection(link='C3', shape='CIRCULAR', height=2.25, transect=nan, street=nan, parameter_2=0.0, curve_name=nan, parameter_3=0.0, parameter_4=0.0, n_barrels=1, culvert=nan), 'C4': CrossSection(link='C4', shape='TRAPEZOIDAL', height=3.0, transect=nan, street=nan, parameter_2=5.0, curve_name=nan, parameter_3=5.0, parameter_4=5.0, n_barrels=1, culvert=nan), 'C5': CrossSection(link='C5', shape='TRAPEZOIDAL', height=3.0, transect=nan, street=nan, parameter_2=5.0, curve_name=nan, parameter_3=5.0, parameter_4=5.0, n_barrels=1, culvert=nan), 'C6': CrossSection(link='C6', shape='TRAPEZOIDAL', height=3.0, transect=nan, street=nan, parameter_2=5.0, curve_name=nan, parameter_3=5.0, parameter_4=5.0, n_barrels=1, culvert=nan), 'C7': CrossSection(link='C7', shape='CIRCULAR', height=3.5, transect=nan, street=nan, parameter_2=0.0, curve_name=nan, parameter_3=0.0, parameter_4=0.0, n_barrels=1, culvert=nan), 'C8': CrossSection(link='C8', shape='TRAPEZOIDAL', height=3.0, transect=nan, street=nan, parameter_2=5.0, curve_name=nan, parameter_3=5.0, parameter_4=5.0, n_barrels=1, culvert=nan), 'C9': CrossSection(link='C9', shape='TRAPEZOIDAL', height=3.0, transect=nan, street=nan, parameter_2=5.0, curve_name=nan, parameter_3=5.0, parameter_4=5.0, n_barrels=1, culvert=nan), 'C10': CrossSection(link='C10', shape='TRAPEZOIDAL', height=3.0, transect=nan, street=nan, parameter_2=5.0, curve_name=nan, parameter_3=5.0, parameter_4=5.0, n_barrels=1, culvert=nan), 'C11': CrossSection(link='C11', shape='CIRCULAR', height=4.75, transect=nan, street=nan, parameter_2=0.0, curve_name=nan, parameter_3=0.0, parameter_4=0.0, n_barrels=1, culvert=nan), 'C_Aux3': CrossSection(link='C_Aux3', shape='TRAPEZOIDAL', height=3.0, transect=nan, street=nan, parameter_2=5.0, curve_name=nan, parameter_3=5.0, parameter_4=5.0, n_barrels=1, culvert=nan), 'P1': CrossSection(link='P1', shape='CIRCULAR', height=1.33, transect=nan, street=nan, parameter_2=0.0, curve_name=nan, parameter_3=0.0, parameter_4=0.0, n_barrels=1, culvert=nan), 'P2': CrossSection(link='P2', shape='CIRCULAR', height=1.5, transect=nan, street=nan, parameter_2=0.0, curve_name=nan, parameter_3=0.0, parameter_4=0.0, n_barrels=1, culvert=nan), 'P3': CrossSection(link='P3', shape='CIRCULAR', height=1.5, transect=nan, street=nan, parameter_2=0.0, curve_name=nan, parameter_3=0.0, parameter_4=0.0, n_barrels=1, culvert=nan), 'P4': CrossSection(link='P4', shape='CIRCULAR', height=1.67, transect=nan, street=nan, parameter_2=0.0, curve_name=nan, parameter_3=0.0, parameter_4=0.0, n_barrels=1, culvert=nan), 'P5': CrossSection(link='P5', shape='CIRCULAR', height=1.83, transect=nan, street=nan, parameter_2=0.0, curve_name=nan, parameter_3=0.0, parameter_4=0.0, n_barrels=1, culvert=nan), 'P6': CrossSection(link='P6', shape='CIRCULAR', height=2.0, transect=nan, street=nan, parameter_2=0.0, curve_name=nan, parameter_3=0.0, parameter_4=0.0, n_barrels=1, culvert=nan), 'P7': CrossSection(link='P7', shape='CIRCULAR', height=2.0, transect=nan, street=nan, parameter_2=0.0, curve_name=nan, parameter_3=0.0, parameter_4=0.0, n_barrels=1, culvert=nan), 'P8': CrossSection(link='P8', shape='CIRCULAR', height=3.17, transect=nan, street=nan, parameter_2=0.0, curve_name=nan, parameter_3=0.0, parameter_4=0.0, n_barrels=1, culvert=nan)}\n",
            "CrossSection(link='Street1', shape='STREET', height=nan, transect=nan, street='FullStreet', parameter_2=nan, curve_name=nan, parameter_3=0.0, parameter_4=0.0, n_barrels=1, culvert=nan)\n",
            "CrossSection(link='Street2', shape='STREET', height=nan, transect=nan, street='FullStreet', parameter_2=nan, curve_name=nan, parameter_3=0.0, parameter_4=0.0, n_barrels=1, culvert=nan)\n",
            "CrossSection(link='Street3', shape='STREET', height=nan, transect=nan, street='FullStreet', parameter_2=nan, curve_name=nan, parameter_3=0.0, parameter_4=0.0, n_barrels=1, culvert=nan)\n",
            "CrossSection(link='Street4', shape='STREET', height=nan, transect=nan, street='HalfStreet', parameter_2=nan, curve_name=nan, parameter_3=0.0, parameter_4=0.0, n_barrels=1, culvert=nan)\n",
            "CrossSection(link='Street5', shape='STREET', height=nan, transect=nan, street='HalfStreet', parameter_2=nan, curve_name=nan, parameter_3=0.0, parameter_4=0.0, n_barrels=1, culvert=nan)\n",
            "CrossSection(link='C3', shape='CIRCULAR', height=2.25, transect=nan, street=nan, parameter_2=0.0, curve_name=nan, parameter_3=0.0, parameter_4=0.0, n_barrels=1, culvert=nan)\n",
            "CrossSection(link='C4', shape='TRAPEZOIDAL', height=3.0, transect=nan, street=nan, parameter_2=5.0, curve_name=nan, parameter_3=5.0, parameter_4=5.0, n_barrels=1, culvert=nan)\n",
            "CrossSection(link='C5', shape='TRAPEZOIDAL', height=3.0, transect=nan, street=nan, parameter_2=5.0, curve_name=nan, parameter_3=5.0, parameter_4=5.0, n_barrels=1, culvert=nan)\n",
            "CrossSection(link='C6', shape='TRAPEZOIDAL', height=3.0, transect=nan, street=nan, parameter_2=5.0, curve_name=nan, parameter_3=5.0, parameter_4=5.0, n_barrels=1, culvert=nan)\n",
            "CrossSection(link='C7', shape='CIRCULAR', height=3.5, transect=nan, street=nan, parameter_2=0.0, curve_name=nan, parameter_3=0.0, parameter_4=0.0, n_barrels=1, culvert=nan)\n",
            "CrossSection(link='C8', shape='TRAPEZOIDAL', height=3.0, transect=nan, street=nan, parameter_2=5.0, curve_name=nan, parameter_3=5.0, parameter_4=5.0, n_barrels=1, culvert=nan)\n",
            "CrossSection(link='C9', shape='TRAPEZOIDAL', height=3.0, transect=nan, street=nan, parameter_2=5.0, curve_name=nan, parameter_3=5.0, parameter_4=5.0, n_barrels=1, culvert=nan)\n",
            "CrossSection(link='C10', shape='TRAPEZOIDAL', height=3.0, transect=nan, street=nan, parameter_2=5.0, curve_name=nan, parameter_3=5.0, parameter_4=5.0, n_barrels=1, culvert=nan)\n",
            "CrossSection(link='C11', shape='CIRCULAR', height=4.75, transect=nan, street=nan, parameter_2=0.0, curve_name=nan, parameter_3=0.0, parameter_4=0.0, n_barrels=1, culvert=nan)\n",
            "CrossSection(link='C_Aux3', shape='TRAPEZOIDAL', height=3.0, transect=nan, street=nan, parameter_2=5.0, curve_name=nan, parameter_3=5.0, parameter_4=5.0, n_barrels=1, culvert=nan)\n",
            "CrossSection(link='P1', shape='CIRCULAR', height=1.33, transect=nan, street=nan, parameter_2=0.0, curve_name=nan, parameter_3=0.0, parameter_4=0.0, n_barrels=1, culvert=nan)\n",
            "CrossSection(link='P2', shape='CIRCULAR', height=1.5, transect=nan, street=nan, parameter_2=0.0, curve_name=nan, parameter_3=0.0, parameter_4=0.0, n_barrels=1, culvert=nan)\n",
            "CrossSection(link='P3', shape='CIRCULAR', height=1.5, transect=nan, street=nan, parameter_2=0.0, curve_name=nan, parameter_3=0.0, parameter_4=0.0, n_barrels=1, culvert=nan)\n",
            "CrossSection(link='P4', shape='CIRCULAR', height=1.67, transect=nan, street=nan, parameter_2=0.0, curve_name=nan, parameter_3=0.0, parameter_4=0.0, n_barrels=1, culvert=nan)\n",
            "CrossSection(link='P5', shape='CIRCULAR', height=1.83, transect=nan, street=nan, parameter_2=0.0, curve_name=nan, parameter_3=0.0, parameter_4=0.0, n_barrels=1, culvert=nan)\n",
            "CrossSection(link='P6', shape='CIRCULAR', height=2.0, transect=nan, street=nan, parameter_2=0.0, curve_name=nan, parameter_3=0.0, parameter_4=0.0, n_barrels=1, culvert=nan)\n",
            "CrossSection(link='P7', shape='CIRCULAR', height=2.0, transect=nan, street=nan, parameter_2=0.0, curve_name=nan, parameter_3=0.0, parameter_4=0.0, n_barrels=1, culvert=nan)\n",
            "CrossSection(link='P8', shape='CIRCULAR', height=3.17, transect=nan, street=nan, parameter_2=0.0, curve_name=nan, parameter_3=0.0, parameter_4=0.0, n_barrels=1, culvert=nan)\n"
          ]
        }
      ]
    },
    {
      "cell_type": "markdown",
      "source": [
        "# Data Gathering"
      ],
      "metadata": {
        "id": "3H5Avu-Dbu6x"
      }
    },
    {
      "cell_type": "code",
      "source": [
        "with Simulation(\"Inlet_Drains_Model1.inp\") as sim:\n",
        "  for step in sim:\n",
        "    pass\n",
        "\n",
        "for conduit_name, conduit_data in inp[\"CONDUITS\"].items():\n",
        "  # Access individual conduit properties using the appropriate keys\n",
        "  length = conduit_data.length  # Accessing the length property\n",
        "  peak_flow = conduit_data.flow_max\n",
        "  in_offset = conduit_data.offset_upstream # parameter for inlet offset\n",
        "  out_offset = conduit_data.offset_downstream # parameter for outlet offset\n",
        "\n",
        "  for xsection_name, xsection_data in xsections.items():\n",
        "    shape = xsection_data.shape\n",
        "    geom1 = xsection_data.height # height is geom1 for most shapes\n",
        "    geom2 = xsection_data.parameter_2 # parameter_2 is geom2 for most shapes\n",
        "    geom3 = xsection_data.parameter_3 # parameter_3 is geom3 for most shapes\n",
        "    geom4 = xsection_data.parameter_4 # parameter_4 is geom4 for most shapes\n",
        "    # To get the idea of Geom 1 to Geom 4, see the guide attached in the Code Documentation in Google Docs\n",
        "\n",
        "  print (f\"Section Name: {xsection_name}\")\n",
        "  print (f\"Length: {length} m\")\n",
        "  print (f\"Max Flow: {peak_flow} m3/s\")\n",
        "  print (f\"Shape: {shape}\")\n",
        "  print (f\"Geometry Parameters: {geom1} m, {geom2} m, {geom3} m, {geom4} m\")\n",
        "  print (f\"Inlet Offset: {in_offset} m\")\n",
        "  print (f\"Outlet Offset: {out_offset} m\")"
      ],
      "metadata": {
        "colab": {
          "base_uri": "https://localhost:8080/"
        },
        "id": "3e_9tT7obxg7",
        "outputId": "3481c517-9e10-43b4-d964-45c8ea59a7cc",
        "collapsed": true
      },
      "execution_count": 21,
      "outputs": [
        {
          "output_type": "stream",
          "name": "stdout",
          "text": [
            "Section Name: P8\n",
            "Length: 377.31 m\n",
            "Max Flow: nan m3/s\n",
            "Shape: CIRCULAR\n",
            "Geometry Parameters: 3.17 m, 0.0 m, 0.0 m, 0.0 m\n",
            "Inlet Offset: 0.0 m\n",
            "Outlet Offset: 0.0 m\n",
            "Section Name: P8\n",
            "Length: 286.06 m\n",
            "Max Flow: nan m3/s\n",
            "Shape: CIRCULAR\n",
            "Geometry Parameters: 3.17 m, 0.0 m, 0.0 m, 0.0 m\n",
            "Inlet Offset: 0.0 m\n",
            "Outlet Offset: 0.0 m\n",
            "Section Name: P8\n",
            "Length: 239.41 m\n",
            "Max Flow: nan m3/s\n",
            "Shape: CIRCULAR\n",
            "Geometry Parameters: 3.17 m, 0.0 m, 0.0 m, 0.0 m\n",
            "Inlet Offset: 0.0 m\n",
            "Outlet Offset: 0.0 m\n",
            "Section Name: P8\n",
            "Length: 157.48 m\n",
            "Max Flow: nan m3/s\n",
            "Shape: CIRCULAR\n",
            "Geometry Parameters: 3.17 m, 0.0 m, 0.0 m, 0.0 m\n",
            "Inlet Offset: 0.0 m\n",
            "Outlet Offset: 0.0 m\n",
            "Section Name: P8\n",
            "Length: 526.0 m\n",
            "Max Flow: nan m3/s\n",
            "Shape: CIRCULAR\n",
            "Geometry Parameters: 3.17 m, 0.0 m, 0.0 m, 0.0 m\n",
            "Inlet Offset: 0.0 m\n",
            "Outlet Offset: 0.0 m\n",
            "Section Name: P8\n",
            "Length: 109.0 m\n",
            "Max Flow: nan m3/s\n",
            "Shape: CIRCULAR\n",
            "Geometry Parameters: 3.17 m, 0.0 m, 0.0 m, 0.0 m\n",
            "Inlet Offset: 0.0 m\n",
            "Outlet Offset: 6.0 m\n",
            "Section Name: P8\n",
            "Length: 133.0 m\n",
            "Max Flow: nan m3/s\n",
            "Shape: CIRCULAR\n",
            "Geometry Parameters: 3.17 m, 0.0 m, 0.0 m, 0.0 m\n",
            "Inlet Offset: 6.0 m\n",
            "Outlet Offset: 4.0 m\n",
            "Section Name: P8\n",
            "Length: 207.0 m\n",
            "Max Flow: nan m3/s\n",
            "Shape: CIRCULAR\n",
            "Geometry Parameters: 3.17 m, 0.0 m, 0.0 m, 0.0 m\n",
            "Inlet Offset: 4.0 m\n",
            "Outlet Offset: 0.0 m\n",
            "Section Name: P8\n",
            "Length: 140.0 m\n",
            "Max Flow: nan m3/s\n",
            "Shape: CIRCULAR\n",
            "Geometry Parameters: 3.17 m, 0.0 m, 0.0 m, 0.0 m\n",
            "Inlet Offset: 8.0 m\n",
            "Outlet Offset: 0.0 m\n",
            "Section Name: P8\n",
            "Length: 95.0 m\n",
            "Max Flow: nan m3/s\n",
            "Shape: CIRCULAR\n",
            "Geometry Parameters: 3.17 m, 0.0 m, 0.0 m, 0.0 m\n",
            "Inlet Offset: 0.0 m\n",
            "Outlet Offset: 0.0 m\n",
            "Section Name: P8\n",
            "Length: 166.0 m\n",
            "Max Flow: nan m3/s\n",
            "Shape: CIRCULAR\n",
            "Geometry Parameters: 3.17 m, 0.0 m, 0.0 m, 0.0 m\n",
            "Inlet Offset: 0.0 m\n",
            "Outlet Offset: 0.0 m\n",
            "Section Name: P8\n",
            "Length: 320.0 m\n",
            "Max Flow: nan m3/s\n",
            "Shape: CIRCULAR\n",
            "Geometry Parameters: 3.17 m, 0.0 m, 0.0 m, 0.0 m\n",
            "Inlet Offset: 0.0 m\n",
            "Outlet Offset: 6.0 m\n",
            "Section Name: P8\n",
            "Length: 145.0 m\n",
            "Max Flow: nan m3/s\n",
            "Shape: CIRCULAR\n",
            "Geometry Parameters: 3.17 m, 0.0 m, 0.0 m, 0.0 m\n",
            "Inlet Offset: 6.0 m\n",
            "Outlet Offset: 6.0 m\n",
            "Section Name: P8\n",
            "Length: 89.0 m\n",
            "Max Flow: nan m3/s\n",
            "Shape: CIRCULAR\n",
            "Geometry Parameters: 3.17 m, 0.0 m, 0.0 m, 0.0 m\n",
            "Inlet Offset: 0.0 m\n",
            "Outlet Offset: 0.0 m\n",
            "Section Name: P8\n",
            "Length: 444.75 m\n",
            "Max Flow: nan m3/s\n",
            "Shape: CIRCULAR\n",
            "Geometry Parameters: 3.17 m, 0.0 m, 0.0 m, 0.0 m\n",
            "Inlet Offset: 6.0 m\n",
            "Outlet Offset: 0.0 m\n",
            "Section Name: P8\n",
            "Length: 185.39 m\n",
            "Max Flow: nan m3/s\n",
            "Shape: CIRCULAR\n",
            "Geometry Parameters: 3.17 m, 0.0 m, 0.0 m, 0.0 m\n",
            "Inlet Offset: 0.0 m\n",
            "Outlet Offset: 0.0 m\n",
            "Section Name: P8\n",
            "Length: 157.48 m\n",
            "Max Flow: nan m3/s\n",
            "Shape: CIRCULAR\n",
            "Geometry Parameters: 3.17 m, 0.0 m, 0.0 m, 0.0 m\n",
            "Inlet Offset: 0.0 m\n",
            "Outlet Offset: 0.0 m\n",
            "Section Name: P8\n",
            "Length: 529.22 m\n",
            "Max Flow: nan m3/s\n",
            "Shape: CIRCULAR\n",
            "Geometry Parameters: 3.17 m, 0.0 m, 0.0 m, 0.0 m\n",
            "Inlet Offset: 0.0 m\n",
            "Outlet Offset: 0.0 m\n",
            "Section Name: P8\n",
            "Length: 567.19 m\n",
            "Max Flow: nan m3/s\n",
            "Shape: CIRCULAR\n",
            "Geometry Parameters: 3.17 m, 0.0 m, 0.0 m, 0.0 m\n",
            "Inlet Offset: 0.0 m\n",
            "Outlet Offset: 0.0 m\n",
            "Section Name: P8\n",
            "Length: 125.98 m\n",
            "Max Flow: nan m3/s\n",
            "Shape: CIRCULAR\n",
            "Geometry Parameters: 3.17 m, 0.0 m, 0.0 m, 0.0 m\n",
            "Inlet Offset: 0.0 m\n",
            "Outlet Offset: 0.0 m\n",
            "Section Name: P8\n",
            "Length: 360.39 m\n",
            "Max Flow: nan m3/s\n",
            "Shape: CIRCULAR\n",
            "Geometry Parameters: 3.17 m, 0.0 m, 0.0 m, 0.0 m\n",
            "Inlet Offset: 0.0 m\n",
            "Outlet Offset: 0.0 m\n",
            "Section Name: P8\n",
            "Length: 507.76 m\n",
            "Max Flow: nan m3/s\n",
            "Shape: CIRCULAR\n",
            "Geometry Parameters: 3.17 m, 0.0 m, 0.0 m, 0.0 m\n",
            "Inlet Offset: 0.0 m\n",
            "Outlet Offset: 0.0 m\n",
            "Section Name: P8\n",
            "Length: 144.5 m\n",
            "Max Flow: nan m3/s\n",
            "Shape: CIRCULAR\n",
            "Geometry Parameters: 3.17 m, 0.0 m, 0.0 m, 0.0 m\n",
            "Inlet Offset: 0.0 m\n",
            "Outlet Offset: 0.0 m\n"
          ]
        }
      ]
    },
    {
      "cell_type": "markdown",
      "source": [
        "# Optimization\n"
      ],
      "metadata": {
        "id": "41iNAWpA5_Gv"
      }
    },
    {
      "cell_type": "markdown",
      "source": [
        "Continuity Equation"
      ],
      "metadata": {
        "id": "KcdHEuAr6TGn"
      }
    },
    {
      "cell_type": "code",
      "source": [
        "# Function for adjusting Pipe Sizes\n",
        "def adjust_pipe_size (peak_flow, peak_vel):\n",
        "    Area = peak_flow / peak_vel\n",
        "    new_diameter = math.sqrt( Area / (0.25 * math.pi))\n",
        "    inp.CONDUITS.__sizeof__ = new_diameter\n",
        "    pass"
      ],
      "metadata": {
        "id": "9XYKajux6YlC"
      },
      "execution_count": null,
      "outputs": []
    },
    {
      "cell_type": "markdown",
      "source": [
        "Construction Cost"
      ],
      "metadata": {
        "id": "hxAFTSaeA-qR"
      }
    },
    {
      "cell_type": "code",
      "source": [
        "# Function for the Computation of Construction Costs\n",
        "def construction_costs (unit_cost, length, size):\n",
        "  pass"
      ],
      "metadata": {
        "id": "6L2XHSEYBFe2"
      },
      "execution_count": null,
      "outputs": []
    },
    {
      "cell_type": "markdown",
      "source": [
        "Identifying the Largest Pipe Size and Minimum Slope"
      ],
      "metadata": {
        "id": "1XBzqkSu6eC6"
      }
    },
    {
      "cell_type": "code",
      "source": [
        "# Identify the largest pipe size available and the minimum slope possible\n",
        "def largest_size(available_sizes):\n",
        "  largest_size = 0.0\n",
        "  with open(available_sizes) as file:\n",
        "    for line in file:\n",
        "      try:\n",
        "        size = float(line.strip())\n",
        "        if size > largest_size:\n",
        "          largest_size = size\n",
        "      except ValueError:\n",
        "        print (f\"Skipping Invalid Line: {line.strip()}\")\n",
        "  return largest_size\n",
        "\n",
        "available_sizes = \"Available Sizes.txt\"\n",
        "largest_size = largest_size(available_sizes)\n",
        "print(f\"Largest Pipe Size: {largest_size} m\")"
      ],
      "metadata": {
        "id": "tk2GjwjS6jX3",
        "colab": {
          "base_uri": "https://localhost:8080/"
        },
        "outputId": "c60212fc-78f4-4d49-b864-c7a8499b70c2"
      },
      "execution_count": 14,
      "outputs": [
        {
          "output_type": "stream",
          "name": "stdout",
          "text": [
            "Largest Pipe Size: 1.8 m\n"
          ]
        }
      ]
    },
    {
      "cell_type": "markdown",
      "source": [
        "Initializing Pipe Sizes and Slopes"
      ],
      "metadata": {
        "id": "sWbylKZx8nxq"
      }
    },
    {
      "cell_type": "code",
      "source": [
        "# Set all pipe sizes to largest_size\n",
        "for xsection_name, xsection_data in inp[\"CONDUITS\"].items():\n",
        "  xsection_data.height = largest_size(available_sizes)\n",
        "\n",
        "# Saving data before Simulation\n",
        "inp.write_file(\"Modified_Inlet_Drains_Model1.inp\")"
      ],
      "metadata": {
        "id": "F81I6bP78x2m"
      },
      "execution_count": null,
      "outputs": []
    },
    {
      "cell_type": "markdown",
      "source": [
        "Simulation of Data before Optimization"
      ],
      "metadata": {
        "id": "vHTiupREBF2n"
      }
    },
    {
      "cell_type": "code",
      "source": [
        "# Simulation of Data\n",
        "with Simulation(\"Modified_Inlet_Drains_Model1.inp\") as sim:\n",
        "  for step in sim:\n",
        "    pass"
      ],
      "metadata": {
        "id": "S0uGu_T4BIkS"
      },
      "execution_count": null,
      "outputs": []
    },
    {
      "cell_type": "markdown",
      "source": [
        "Optimization of Pipe Sizes and Slopes"
      ],
      "metadata": {
        "id": "aI4uCS5FBOKb"
      }
    },
    {
      "cell_type": "code",
      "source": [
        "# Optimization of Sizes and Slopes\n",
        "for conduit_name, conduit_data in inp[\"CONDUITS\"].items():\n",
        "  # Access individual conduit properties using the appropriate keys\n",
        "  length = conduit_data.length  # Accessing the length property\n",
        "  peak_flow = conduit_data.flow_max\n",
        "  peak_vel = peak_flow / length\n",
        "\n",
        "  for xsection_name, xsection_data in inp[\"CONDUITS\"].items():\n",
        "    shape = xsection_data.shape\n",
        "    geom1 = xsection_data.height\n",
        "    geom2 = xsection_data.parameter_2\n",
        "    geom3 = xsection_data.parameter_3\n",
        "    geom4 = xsection_data.parameter_4"
      ],
      "metadata": {
        "id": "jv1Yi8t0BSHn"
      },
      "execution_count": null,
      "outputs": []
    }
  ]
}