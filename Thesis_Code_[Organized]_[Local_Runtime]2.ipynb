{
  "nbformat": 4,
  "nbformat_minor": 0,
  "metadata": {
    "colab": {
      "provenance": [],
      "authorship_tag": "ABX9TyND3Hq67OnjMMt3AxssTuPy",
      "include_colab_link": true
    },
    "kernelspec": {
      "name": "python3",
      "display_name": "Python 3"
    },
    "language_info": {
      "name": "python"
    }
  },
  "cells": [
    {
      "cell_type": "markdown",
      "metadata": {
        "id": "view-in-github",
        "colab_type": "text"
      },
      "source": [
        "<a href=\"https://colab.research.google.com/github/agstnhrvy/UPLB-DCE-Thesis/blob/main/Thesis_Code_%5BOrganized%5D_%5BLocal_Runtime%5D2.ipynb\" target=\"_parent\"><img src=\"https://colab.research.google.com/assets/colab-badge.svg\" alt=\"Open In Colab\"/></a>"
      ]
    },
    {
      "cell_type": "markdown",
      "source": [
        "# Importing Libraries\n"
      ],
      "metadata": {
        "id": "R7RO9561bN-f"
      }
    },
    {
      "cell_type": "code",
      "source": [
        "# Thesis Project\n",
        "# To properly install pyswmm and swmm-api to the Python file, select the python interpreter from the venv\\Scripts\\python.exe then install both libraries using \"pip install ...\"\n",
        "\n",
        "!pip install pyswmm\n",
        "!pip install swmm_api\n",
        "# !pip install swmm5\n",
        "!pip install openpyxl\n",
        "import math\n",
        "import itertools\n",
        "import os, sys\n",
        "# import swmm5\n",
        "from pyswmm import Simulation, Links\n",
        "# from pyswmm.swmm5 import SWMMException\n",
        "from pyswmm.nodes import Nodes\n",
        "from swmm_api import SwmmInput, SwmmOutput, SwmmReport\n",
        "from swmm_api.input_file.section_labels import JUNCTIONS, CONDUITS\n",
        "from swmm_api.input_file.sections import Conduit\n",
        "from swmm.toolkit.shared_enum import LinkResult\n",
        "# from google.colab import files\n",
        "import pandas as pd\n",
        "import re\n",
        "import copy\n",
        "import glob\n",
        "import bisect"
      ],
      "metadata": {
        "id": "3JCNgyg4bR2J",
        "collapsed": true,
        "colab": {
          "base_uri": "https://localhost:8080/"
        },
        "outputId": "e3ee0cba-1705-473a-d31f-a0e7dd9c5eb1"
      },
      "execution_count": 1,
      "outputs": [
        {
          "output_type": "stream",
          "name": "stdout",
          "text": [
            "Requirement already satisfied: pyswmm in c:\\users\\augustineharvey\\appdata\\local\\programs\\python\\python312\\lib\\site-packages (2.0.1)\n",
            "Requirement already satisfied: swmm-toolkit>=0.9.0 in c:\\users\\augustineharvey\\appdata\\local\\programs\\python\\python312\\lib\\site-packages (from pyswmm) (0.15.5)\n",
            "Requirement already satisfied: julian>=0.14 in c:\\users\\augustineharvey\\appdata\\local\\programs\\python\\python312\\lib\\site-packages (from pyswmm) (0.14)\n",
            "Requirement already satisfied: aenum>=3.1.11 in c:\\users\\augustineharvey\\appdata\\local\\programs\\python\\python312\\lib\\site-packages (from pyswmm) (3.1.11)\n",
            "Requirement already satisfied: packaging in c:\\users\\augustineharvey\\appdata\\local\\programs\\python\\python312\\lib\\site-packages (from pyswmm) (24.2)\n",
            "Requirement already satisfied: swmm_api in c:\\users\\augustineharvey\\appdata\\local\\programs\\python\\python312\\lib\\site-packages (0.4.64)\n",
            "Requirement already satisfied: pandas in c:\\users\\augustineharvey\\appdata\\local\\programs\\python\\python312\\lib\\site-packages (from swmm_api) (2.2.3)\n",
            "Requirement already satisfied: tqdm in c:\\users\\augustineharvey\\appdata\\local\\programs\\python\\python312\\lib\\site-packages (from swmm_api) (4.67.1)\n",
            "Requirement already satisfied: packaging in c:\\users\\augustineharvey\\appdata\\local\\programs\\python\\python312\\lib\\site-packages (from swmm_api) (24.2)\n",
            "Requirement already satisfied: numpy>=1.26.0 in c:\\users\\augustineharvey\\appdata\\local\\programs\\python\\python312\\lib\\site-packages (from pandas->swmm_api) (2.2.3)\n",
            "Requirement already satisfied: python-dateutil>=2.8.2 in c:\\users\\augustineharvey\\appdata\\local\\programs\\python\\python312\\lib\\site-packages (from pandas->swmm_api) (2.9.0.post0)\n",
            "Requirement already satisfied: pytz>=2020.1 in c:\\users\\augustineharvey\\appdata\\local\\programs\\python\\python312\\lib\\site-packages (from pandas->swmm_api) (2025.1)\n",
            "Requirement already satisfied: tzdata>=2022.7 in c:\\users\\augustineharvey\\appdata\\local\\programs\\python\\python312\\lib\\site-packages (from pandas->swmm_api) (2025.1)\n",
            "Requirement already satisfied: six>=1.5 in c:\\users\\augustineharvey\\appdata\\local\\programs\\python\\python312\\lib\\site-packages (from python-dateutil>=2.8.2->pandas->swmm_api) (1.17.0)\n",
            "Requirement already satisfied: colorama in c:\\users\\augustineharvey\\appdata\\local\\programs\\python\\python312\\lib\\site-packages (from tqdm->swmm_api) (0.4.6)\n",
            "Requirement already satisfied: openpyxl in c:\\users\\augustineharvey\\appdata\\local\\programs\\python\\python312\\lib\\site-packages (3.1.5)\n",
            "Requirement already satisfied: et-xmlfile in c:\\users\\augustineharvey\\appdata\\local\\programs\\python\\python312\\lib\\site-packages (from openpyxl) (2.0.0)\n"
          ]
        }
      ]
    },
    {
      "cell_type": "markdown",
      "source": [
        "# File Upload"
      ],
      "metadata": {
        "id": "41jhUVVTbUim"
      }
    },
    {
      "cell_type": "code",
      "source": [
        "# uploaded = files.upload()\n",
        "\n",
        "inp = SwmmInput(r\"C:\\Users\\augustineharvey\\OneDrive - University of the Philippines\\Desktop\\Thesis Project\\SWMM Model\\Study_Model.inp\")\n",
        "# inp = SWMMInput(\"Study_Model.inp\")\n",
        "# available_sizes = uploaded[\"Available Sizes.txt\"]\n",
        "available_sizes = r\"C:\\Users\\augustineharvey\\OneDrive - University of the Philippines\\Desktop\\Thesis Project\\SWMM Model\\Available_Sizes.txt\"\n",
        "# pipe_prices = uploaded[\"Pipe_Prices.xlsx\"]\n",
        "# print(\"Uploaded files:\", os.listdir())\n",
        "# conduits_df = inp[\"CONDUITS\"]\n",
        "# print(conduits_df)"
      ],
      "metadata": {
        "id": "Zq6dPiGybZPd",
        "collapsed": true
      },
      "execution_count": 2,
      "outputs": []
    },
    {
      "cell_type": "markdown",
      "source": [
        "# Boundary Parameters"
      ],
      "metadata": {
        "id": "aDGt-PtxbcIp"
      }
    },
    {
      "cell_type": "code",
      "source": [
        "peak_flow_dict = {}\n",
        "peak_flow_results =  {}\n",
        "peak_vel = {}\n",
        "adjust_pipe_size = {}\n",
        "pipe_geometry = {}\n",
        "conduit_ids = []\n",
        "link_length = {}\n",
        "in_offset = {}\n",
        "out_offset = {}\n",
        "vel_min = 0.8\n",
        "vel_max = 5\n",
        "slope_min = 0.01\n",
        "geom1 = {}\n",
        "geom2 = {}\n",
        "geom3 = {}\n",
        "geom4 = {}\n",
        "trials = {}\n",
        "velocity = {}\n",
        "largest_size = {}\n",
        "smallest_size = {}"
      ],
      "metadata": {
        "id": "Y4s_HHOGbcdk"
      },
      "execution_count": 3,
      "outputs": []
    },
    {
      "cell_type": "markdown",
      "source": [
        "# Data Frame"
      ],
      "metadata": {
        "id": "uzm6qT-_bopR"
      }
    },
    {
      "cell_type": "code",
      "source": [
        "conduits = inp['CONDUITS']\n",
        "xsections = inp['XSECTIONS']\n",
        "junctions_data = inp['JUNCTIONS']\n",
        "outfalls_data = inp['OUTFALLS']\n",
        "\n",
        "# Store results\n",
        "conduit_info = []"
      ],
      "metadata": {
        "id": "marNgPOObsTW"
      },
      "execution_count": 4,
      "outputs": []
    },
    {
      "cell_type": "code",
      "source": [
        "for junction_name, junction_data in inp[\"JUNCTIONS\"].items():\n",
        "  junction_dict = vars(junction_data)\n",
        "  print(junction_dict)\n",
        "\n",
        "for conduit_name, conduit_data in inp[\"CONDUITS\"].items():\n",
        "  conduit_dict = vars(conduit_data) # Access all data in Conduit\n",
        "  print (conduit_dict)\n",
        "\n",
        "print(xsections)  # Print the content of the xsections InpSection object\n",
        "for xsection_name, xsection_data in xsections.items():\n",
        "  print(xsection_data)  # Print the name of each parameter in the xsections section"
      ],
      "metadata": {
        "collapsed": true,
        "id": "LWYD9FfusMFM"
      },
      "execution_count": null,
      "outputs": []
    },
    {
      "cell_type": "markdown",
      "source": [
        "Test 1"
      ],
      "metadata": {
        "id": "7Blx_SJP1Gp9"
      }
    },
    {
      "cell_type": "code",
      "source": [
        "with Simulation(r\"C:\\Users\\augustineharvey\\OneDrive - University of the Philippines\\Desktop\\Thesis Project\\SWMM Model\\Study_Model.inp\") as sim:\n",
        "    links = Links(sim)  # Create a Links object\n",
        "    for step in sim:\n",
        "      pass\n",
        "    for link in links:\n",
        "      conduit_name = link.linkid  # Get conduit name (link ID)\n",
        "      conduit_data = link.conduit_statistics  # The 'link' object itself holds the conduit data\n",
        "\n",
        "      peak_flow = conduit_data[\"peak_flow\"]\n",
        "\n",
        "      # # If you want to store it in a dictionary:\n",
        "      # peak_flow_dict = {}  # Initialize an empty dictionary if needed\n",
        "      # peak_flow_dict[conduit_name] = peak_flow\n",
        "      print(f\"Conduit Name: {conduit_name}\")\n",
        "      print(f\"Data: {conduit_data}\")\n",
        "      print(f\"Peak Flow: {peak_flow}\")  # Accessing a property of the conduit\n",
        "      # Access other properties like link.roughness, link.inlet_offset, etc."
      ],
      "metadata": {
        "id": "dZObmTaX1HkE"
      },
      "execution_count": null,
      "outputs": []
    },
    {
      "cell_type": "markdown",
      "source": [
        "# Data Gathering"
      ],
      "metadata": {
        "id": "3H5Avu-Dbu6x"
      }
    },
    {
      "cell_type": "code",
      "source": [
        "with Simulation(r\"C:\\Users\\augustineharvey\\OneDrive - University of the Philippines\\Desktop\\Thesis Project\\SWMM Model\\Study_Model.inp\") as sim:\n",
        "    links = Links(sim)\n",
        "    for step in sim:\n",
        "      pass\n",
        "    for link in links:\n",
        "      conduit_name = link.linkid\n",
        "      conduit_data = link.conduit_statistics\n",
        "      peak_flow = conduit_data[\"peak_flow\"]\n",
        "\n",
        "      print(f\"Conduit Name: {conduit_name}\")\n",
        "      print(f\"Data: {peak_flow}\")\n",
        "\n",
        "for conduit_name, conduit_data in inp[\"CONDUITS\"].items():\n",
        "  # Access individual conduit properties using the appropriate keys\n",
        "  length = conduit_data.length  # Accessing the length property\n",
        "  in_offset = conduit_data.offset_upstream # parameter for inlet offset\n",
        "  out_offset = conduit_data.offset_downstream # parameter for outlet offset\n",
        "\n",
        "  for xsection_name, xsection_data in xsections.items():\n",
        "    name = xsection_name\n",
        "    shape = xsection_data.shape\n",
        "    geom1 = xsection_data.height # height is geom1 for most shapes\n",
        "    geom2 = xsection_data.parameter_2 # parameter_2 is geom2 for most shapes\n",
        "    geom3 = xsection_data.parameter_3 # parameter_3 is geom3 for most shapes\n",
        "    geom4 = xsection_data.parameter_4 # parameter_4 is geom4 for most shapes\n",
        "    # To get the idea of Geom 1 to Geom 4, see the guide attached in the Code Documentation in Google Docs\n",
        "\n",
        "    print (f\"Name: {name}\")\n",
        "    print (f\"Length: {length} m\")\n",
        "    print (f\"Shape: {shape}\")\n",
        "    print (f\"Geometry Parameters: {geom1} m, {geom2} m, {geom3} m, {geom4} m\")\n",
        "    print (f\"Inlet Offset: {in_offset} m\")\n",
        "    print (f\"Outlet Offset: {out_offset} m\")\n",
        "    print (f\"\")"
      ],
      "metadata": {
        "id": "3e_9tT7obxg7",
        "collapsed": true,
        "colab": {
          "base_uri": "https://localhost:8080/",
          "height": 558
        },
        "outputId": "ab84e844-11f9-470d-add4-cf36fa8070e6"
      },
      "execution_count": null,
      "outputs": [
        {
          "output_type": "error",
          "ename": "KeyboardInterrupt",
          "evalue": "",
          "traceback": [
            "\u001b[31m---------------------------------------------------------------------------\u001b[39m",
            "\u001b[31mKeyboardInterrupt\u001b[39m                         Traceback (most recent call last)",
            "\u001b[36mCell\u001b[39m\u001b[36m \u001b[39m\u001b[32mIn[7]\u001b[39m\u001b[32m, line 3\u001b[39m\n\u001b[32m      1\u001b[39m \u001b[38;5;28;01mwith\u001b[39;00m Simulation(\u001b[33mr\u001b[39m\u001b[33m\"\u001b[39m\u001b[33mC:\u001b[39m\u001b[33m\\\u001b[39m\u001b[33mUsers\u001b[39m\u001b[33m\\\u001b[39m\u001b[33maugustineharvey\u001b[39m\u001b[33m\\\u001b[39m\u001b[33mOneDrive - University of the Philippines\u001b[39m\u001b[33m\\\u001b[39m\u001b[33mDesktop\u001b[39m\u001b[33m\\\u001b[39m\u001b[33mThesis Project\u001b[39m\u001b[33m\\\u001b[39m\u001b[33mSWMM Model\u001b[39m\u001b[33m\\\u001b[39m\u001b[33mStudy_Model.inp\u001b[39m\u001b[33m\"\u001b[39m) \u001b[38;5;28;01mas\u001b[39;00m sim:\n\u001b[32m      2\u001b[39m     links = Links(sim)\n\u001b[32m----> \u001b[39m\u001b[32m3\u001b[39m \u001b[43m    \u001b[49m\u001b[38;5;28;43;01mfor\u001b[39;49;00m\u001b[43m \u001b[49m\u001b[43mstep\u001b[49m\u001b[43m \u001b[49m\u001b[38;5;129;43;01min\u001b[39;49;00m\u001b[43m \u001b[49m\u001b[43msim\u001b[49m\u001b[43m:\u001b[49m\n\u001b[32m      4\u001b[39m \u001b[43m      \u001b[49m\u001b[38;5;28;43;01mpass\u001b[39;49;00m\n\u001b[32m      5\u001b[39m     \u001b[38;5;28;01mfor\u001b[39;00m link \u001b[38;5;129;01min\u001b[39;00m links:\n",
            "\u001b[36mFile \u001b[39m\u001b[32m~\\AppData\\Local\\Programs\\Python\\Python312\\Lib\\site-packages\\pyswmm\\simulation.py:171\u001b[39m, in \u001b[36mSimulation.__next__\u001b[39m\u001b[34m(self)\u001b[39m\n\u001b[32m    169\u001b[39m     time = \u001b[38;5;28mself\u001b[39m._model.swmm_stride(\u001b[38;5;28mself\u001b[39m._advance_seconds)\n\u001b[32m    170\u001b[39m \u001b[38;5;66;03m# Execute Callback Hooks After Simulation Step\u001b[39;00m\n\u001b[32m--> \u001b[39m\u001b[32m171\u001b[39m \u001b[38;5;28mself\u001b[39m._execute_callback(\u001b[38;5;28;43mself\u001b[39;49m\u001b[43m.\u001b[49m\u001b[43m_after_step\u001b[49m\u001b[43m(\u001b[49m\u001b[43m)\u001b[49m)\n\u001b[32m    172\u001b[39m \u001b[38;5;28;01mif\u001b[39;00m time <= \u001b[32m0.0\u001b[39m:\n\u001b[32m    173\u001b[39m     \u001b[38;5;28mself\u001b[39m._execute_callback(\u001b[38;5;28mself\u001b[39m._before_end())\n",
            "\u001b[36mFile \u001b[39m\u001b[32m~\\AppData\\Local\\Programs\\Python\\Python312\\Lib\\site-packages\\pyswmm\\simulation.py:733\u001b[39m, in \u001b[36mSimulation._after_step\u001b[39m\u001b[34m(self)\u001b[39m\n\u001b[32m    730\u001b[39m     \u001b[38;5;28;01mif\u001b[39;00m \u001b[38;5;28mself\u001b[39m._is_callback(callback):\n\u001b[32m    731\u001b[39m         \u001b[38;5;28mself\u001b[39m._callbacks[\u001b[33m\"\u001b[39m\u001b[33mbefore_step\u001b[39m\u001b[33m\"\u001b[39m] = callback\n\u001b[32m--> \u001b[39m\u001b[32m733\u001b[39m \u001b[38;5;28;01mdef\u001b[39;00m\u001b[38;5;250m \u001b[39m\u001b[34m_after_step\u001b[39m(\u001b[38;5;28mself\u001b[39m):\n\u001b[32m    734\u001b[39m \u001b[38;5;250m    \u001b[39m\u001b[33;03m\"\"\"Get After Step Callback.\u001b[39;00m\n\u001b[32m    735\u001b[39m \n\u001b[32m    736\u001b[39m \u001b[33;03m    :return: Callbacks\u001b[39;00m\n\u001b[32m    737\u001b[39m \u001b[33;03m    \"\"\"\u001b[39;00m\n\u001b[32m    738\u001b[39m     \u001b[38;5;28;01mreturn\u001b[39;00m \u001b[38;5;28mself\u001b[39m._callbacks[\u001b[33m\"\u001b[39m\u001b[33mafter_step\u001b[39m\u001b[33m\"\u001b[39m]\n",
            "\u001b[31mKeyboardInterrupt\u001b[39m: "
          ]
        }
      ]
    },
    {
      "cell_type": "markdown",
      "source": [
        "# Arrange Conduits based on Pipe Flow\n"
      ],
      "metadata": {
        "id": "41iNAWpA5_Gv"
      }
    },
    {
      "cell_type": "code",
      "source": [
        "# Get network topology\n",
        "conduit_connections = {}\n",
        "for conduit_name, conduit_data in inp['CONDUITS'].items():\n",
        "    conduit_connections[conduit_name] = {\n",
        "        'upstream': conduit_data.from_node,\n",
        "        'downstream': conduit_data.to_node\n",
        "    }\n",
        "\n",
        "# Get all outfall node names from the SWMM input file\n",
        "outfall_node_names = list(inp['OUTFALLS'].keys())\n",
        "\n",
        "def is_outfall_node(node):\n",
        "    \"\"\"Checks if a node is an outfall node.\"\"\"\n",
        "    return node in outfall_node_names  # Direct comparison with outfall node names\n",
        "\n",
        "def trace_upstream_flow(start_node, path=None, all_paths=None):\n",
        "    \"\"\"Traces all upstream flow paths from a given node, including junctions and branches.\"\"\"\n",
        "    if path is None:\n",
        "        path = []\n",
        "    if all_paths is None:\n",
        "        all_paths = []\n",
        "\n",
        "    path.append(start_node)\n",
        "\n",
        "    # Find connected conduits\n",
        "    connected_conduits = [\n",
        "        conduit_name\n",
        "        for conduit_name, data in conduit_connections.items()\n",
        "        if data['downstream'] == start_node\n",
        "    ]\n",
        "\n",
        "    # Base case: outermost junction or no upstream conduits\n",
        "    if not connected_conduits:\n",
        "        all_paths.append(path.copy())  # Add a copy of the path to avoid modification\n",
        "        return\n",
        "\n",
        "    # Recursive case: trace upstream for each connected conduit\n",
        "    for conduit_name in connected_conduits:\n",
        "        upstream_node = conduit_connections[conduit_name]['upstream']\n",
        "        trace_upstream_flow(upstream_node, path.copy(), all_paths)  # Pass a copy of path to avoid modifying the original path\n",
        "\n",
        "    return all_paths\n",
        "\n",
        "\n",
        "flow_paths = {}\n",
        "for outfall_node_name in outfall_node_names:\n",
        "    all_paths = trace_upstream_flow(outfall_node_name)\n",
        "    flow_paths[outfall_node_name] = all_paths\n",
        "\n",
        "# Show results\n",
        "for outfall_node, flow_path in flow_paths.items():\n",
        "    print(f\"All Flow Paths for {outfall_node}: {flow_path}\")  # Print all paths for the outfall\n",
        "    for path in flow_path:  # Iterate through each path in flow_path\n",
        "        path.reverse()  # Reverse each individual path\n",
        "        print(f\"Flow Path: {path}\")\n",
        "\n",
        "        # Modified logic to identify conduits using node names\n",
        "        conduits = []\n",
        "        for i in range(len(path) - 1):\n",
        "            from_node = path[i]\n",
        "            to_node = path[i + 1]\n",
        "\n",
        "            # Find the conduit connecting these nodes\n",
        "            for conduit_name, conduit_data in conduit_connections.items():\n",
        "                if conduit_data['upstream'] == from_node and conduit_data['downstream'] == to_node:\n",
        "                    conduits.append(conduit_name)\n",
        "                    break  # Stop searching once the conduit is found\n",
        "\n",
        "        junctions = [item for item in path if isinstance(item, str) and item not in conduit_connections]\n",
        "        print(f\"Sorted Conduits: {conduits}\")\n",
        "        print(f\"Junctions in Path: {junctions}\")"
      ],
      "metadata": {
        "collapsed": true,
        "id": "fmjRANRJ5-y1",
        "colab": {
          "base_uri": "https://localhost:8080/"
        },
        "outputId": "4bdaf4a5-f58c-42d4-b221-22bdcbd7ad81"
      },
      "execution_count": 5,
      "outputs": [
        {
          "output_type": "stream",
          "name": "stdout",
          "text": [
            "All Flow Paths for OF-X1: [['OF-X1', 'X4', 'X3', 'X2', 'X1']]\n",
            "Flow Path: ['X1', 'X2', 'X3', 'X4', 'OF-X1']\n",
            "Sorted Conduits: ['44', '45', '46', '91']\n",
            "Junctions in Path: ['X1', 'X2', 'X3', 'X4', 'OF-X1']\n",
            "All Flow Paths for OF-X2: [['OF-X2', 'X26', 'X25', 'X24', 'X23', 'X22', 'X21', 'X21/2', 'X21/1']]\n",
            "Flow Path: ['X21/1', 'X21/2', 'X21', 'X22', 'X23', 'X24', 'X25', 'X26', 'OF-X2']\n",
            "Sorted Conduits: ['39', '386', '387', '388', '40', '41', '42', '43']\n",
            "Junctions in Path: ['X21/1', 'X21/2', 'X21', 'X22', 'X23', 'X24', 'X25', 'X26', 'OF-X2']\n",
            "All Flow Paths for OF-W1: [['OF-W1', 'W16', 'W15', 'W14', 'W13', 'W12', 'W11', 'W10', 'W9', 'W8', 'W7', 'W6', 'W5', 'W4', 'W3', 'W2', 'W1']]\n",
            "Flow Path: ['W1', 'W2', 'W3', 'W4', 'W5', 'W6', 'W7', 'W8', 'W9', 'W10', 'W11', 'W12', 'W13', 'W14', 'W15', 'W16', 'OF-W1']\n",
            "Sorted Conduits: ['75', '76', '77', '78', '79', '80', '81', '82', '83', '84', '85', '86', '87', '88', '89', '93']\n",
            "Junctions in Path: ['W1', 'W2', 'W3', 'W4', 'W5', 'W6', 'W7', 'W8', 'W9', 'W10', 'W11', 'W12', 'W13', 'W14', 'W15', 'W16', 'OF-W1']\n",
            "All Flow Paths for OF-W2: [['OF-W2', 'W27', 'W26', 'W25', 'W24', 'W23', 'W22', 'W21', 'W20', 'W19', 'W18', 'W17']]\n",
            "Flow Path: ['W17', 'W18', 'W19', 'W20', 'W21', 'W22', 'W23', 'W24', 'W25', 'W26', 'W27', 'OF-W2']\n",
            "Sorted Conduits: ['64', '65', '66', '67', '68', '69', '70', '71', '72', '73', '92']\n",
            "Junctions in Path: ['W17', 'W18', 'W19', 'W20', 'W21', 'W22', 'W23', 'W24', 'W25', 'W26', 'W27', 'OF-W2']\n",
            "All Flow Paths for OF-V: [['OF-V', 'V33', 'V32', 'V31', 'V30', 'V29', 'V28', 'V27', 'V26', 'V25', 'V24', 'V23', 'V22', 'V21', 'V20', 'V19', 'V18', 'V17', 'V16', 'V15', 'V14', 'V13', 'V12', 'V11', 'V10', 'V9', 'V8', 'V7', 'V6', 'V5', 'V4', 'V3', 'V2', 'V1']]\n",
            "Flow Path: ['V1', 'V2', 'V3', 'V4', 'V5', 'V6', 'V7', 'V8', 'V9', 'V10', 'V11', 'V12', 'V13', 'V14', 'V15', 'V16', 'V17', 'V18', 'V19', 'V20', 'V21', 'V22', 'V23', 'V24', 'V25', 'V26', 'V27', 'V28', 'V29', 'V30', 'V31', 'V32', 'V33', 'OF-V']\n",
            "Sorted Conduits: ['94', '95', '96', '97', '98', '99', '100', '101', '102', '103', '104', '105', '106', '107', '108', '109', '110', '111', '112', '113', '114', '115', '389', '390', '117', '118', '119', '120', '121', '122', '123', '124', '125']\n",
            "Junctions in Path: ['V1', 'V2', 'V3', 'V4', 'V5', 'V6', 'V7', 'V8', 'V9', 'V10', 'V11', 'V12', 'V13', 'V14', 'V15', 'V16', 'V17', 'V18', 'V19', 'V20', 'V21', 'V22', 'V23', 'V24', 'V25', 'V26', 'V27', 'V28', 'V29', 'V30', 'V31', 'V32', 'V33', 'OF-V']\n",
            "All Flow Paths for OF-U: [['OF-U', 'U28', 'U27', 'U26', 'U25', 'U24', 'U23', 'U22', 'U21', 'U20', 'U19', 'U18', 'U17', 'U16', 'U15', 'U14', 'U13', 'U12', 'U11', 'U10', 'U9', 'U8', 'U7', 'U6', 'U5', 'U4', 'U3', 'U2', 'U1']]\n",
            "Flow Path: ['U1', 'U2', 'U3', 'U4', 'U5', 'U6', 'U7', 'U8', 'U9', 'U10', 'U11', 'U12', 'U13', 'U14', 'U15', 'U16', 'U17', 'U18', 'U19', 'U20', 'U21', 'U22', 'U23', 'U24', 'U25', 'U26', 'U27', 'U28', 'OF-U']\n",
            "Sorted Conduits: ['126', '127', '128', '129', '130', '131', '132', '133', '134', '135', '136', '137', '138', '139', '140', '141', '142', '143', '144', '145', '146', '147', '148', '149', '150', '151', '152', '153']\n",
            "Junctions in Path: ['U1', 'U2', 'U3', 'U4', 'U5', 'U6', 'U7', 'U8', 'U9', 'U10', 'U11', 'U12', 'U13', 'U14', 'U15', 'U16', 'U17', 'U18', 'U19', 'U20', 'U21', 'U22', 'U23', 'U24', 'U25', 'U26', 'U27', 'U28', 'OF-U']\n",
            "All Flow Paths for OF-G: [['OF-G', 'G51', 'G50', 'G49', 'G48', 'G47', 'G46', 'G45', 'G44', 'G43', 'G42', 'G41', 'G40', 'G39', 'G38', 'G37', 'G36', 'G35', 'G34', 'G33', 'G32', 'G31', 'G30', 'G29', 'G28', 'G27', 'G26', 'G25', 'G24', 'G23', 'G22']]\n",
            "Flow Path: ['G22', 'G23', 'G24', 'G25', 'G26', 'G27', 'G28', 'G29', 'G30', 'G31', 'G32', 'G33', 'G34', 'G35', 'G36', 'G37', 'G38', 'G39', 'G40', 'G41', 'G42', 'G43', 'G44', 'G45', 'G46', 'G47', 'G48', 'G49', 'G50', 'G51', 'OF-G']\n",
            "Sorted Conduits: ['154', '155', '156', '157', '158', '159', '160', '161', '162', '163', '164', '165', '166', '167', '168', '169', '170', '171', '172', '173', '174', '175', '176', '177', '178', '179', '180', '181', '182', '183']\n",
            "Junctions in Path: ['G22', 'G23', 'G24', 'G25', 'G26', 'G27', 'G28', 'G29', 'G30', 'G31', 'G32', 'G33', 'G34', 'G35', 'G36', 'G37', 'G38', 'G39', 'G40', 'G41', 'G42', 'G43', 'G44', 'G45', 'G46', 'G47', 'G48', 'G49', 'G50', 'G51', 'OF-G']\n",
            "All Flow Paths for OF-M: [['OF-M', 'M49', 'M48', 'M47', 'M46', 'M45', 'M44', 'M43', 'M42', 'M41', 'M40', 'M39', 'M38', 'M37', 'M36', 'M35', 'M34', 'M33', 'M32', 'M31', 'M30', 'M29', 'M28', 'M27', 'M26', 'M25', 'M24', 'M23', 'M22']]\n",
            "Flow Path: ['M22', 'M23', 'M24', 'M25', 'M26', 'M27', 'M28', 'M29', 'M30', 'M31', 'M32', 'M33', 'M34', 'M35', 'M36', 'M37', 'M38', 'M39', 'M40', 'M41', 'M42', 'M43', 'M44', 'M45', 'M46', 'M47', 'M48', 'M49', 'OF-M']\n",
            "Sorted Conduits: ['184', '185', '186', '187', '188', '189', '190', '191', '192', '193', '194', '195', '196', '197', '198', '199', '200', '201', '202', '203', '204', '205', '206', '207', '208', '209', '210', '211']\n",
            "Junctions in Path: ['M22', 'M23', 'M24', 'M25', 'M26', 'M27', 'M28', 'M29', 'M30', 'M31', 'M32', 'M33', 'M34', 'M35', 'M36', 'M37', 'M38', 'M39', 'M40', 'M41', 'M42', 'M43', 'M44', 'M45', 'M46', 'M47', 'M48', 'M49', 'OF-M']\n",
            "All Flow Paths for OF-F: [['OF-F', 'F6', 'F5', 'F4', 'F3', 'F2', 'F1']]\n",
            "Flow Path: ['F1', 'F2', 'F3', 'F4', 'F5', 'F6', 'OF-F']\n",
            "Sorted Conduits: ['318', '319', '320', '321', '322', '323']\n",
            "Junctions in Path: ['F1', 'F2', 'F3', 'F4', 'F5', 'F6', 'OF-F']\n",
            "All Flow Paths for OF-L: [['OF-L', 'L10', 'L9', 'L8', 'L7', 'L6', 'L5', 'L4', 'L3', 'L2', 'L1'], ['OF-L', 'L10', 'L9', 'L8', 'L7', 'L6', 'L5', 'L4', 'L3', 'L2', 'L2/2', 'L2/1']]\n",
            "Flow Path: ['L1', 'L2', 'L3', 'L4', 'L5', 'L6', 'L7', 'L8', 'L9', 'L10', 'OF-L']\n",
            "Sorted Conduits: ['296', '297', '298', '299', '300', '301', '302', '303', '304', '305']\n",
            "Junctions in Path: ['L1', 'L2', 'L3', 'L4', 'L5', 'L6', 'L7', 'L8', 'L9', 'L10', 'OF-L']\n",
            "Flow Path: ['L2/1', 'L2/2', 'L2', 'L3', 'L4', 'L5', 'L6', 'L7', 'L8', 'L9', 'L10', 'OF-L']\n",
            "Sorted Conduits: ['306', '307', '297', '298', '299', '300', '301', '302', '303', '304', '305']\n",
            "Junctions in Path: ['L2/1', 'L2/2', 'L2', 'L3', 'L4', 'L5', 'L6', 'L7', 'L8', 'L9', 'L10', 'OF-L']\n",
            "All Flow Paths for OF-T: [['OF-T', 'T13', 'T12', 'T11', 'T10', 'T9', 'T8', 'T7', 'T6', 'T5', 'T4', 'T3', 'T2', 'T1']]\n",
            "Flow Path: ['T1', 'T2', 'T3', 'T4', 'T5', 'T6', 'T7', 'T8', 'T9', 'T10', 'T11', 'T12', 'T13', 'OF-T']\n",
            "Sorted Conduits: ['51', '52', '53', '54', '55', '56', '57', '58', '59', '60', '61', '62', '212']\n",
            "Junctions in Path: ['T1', 'T2', 'T3', 'T4', 'T5', 'T6', 'T7', 'T8', 'T9', 'T10', 'T11', 'T12', 'T13', 'OF-T']\n",
            "All Flow Paths for OF-S: [['OF-S', 'S39', 'S38', 'S37', 'S36', 'S35', 'S34', 'S33', 'S32', 'S31', 'S30', 'S29', 'S28', 'S27', 'S26', 'S25', 'S24', 'S23', 'S22', 'S21', 'S20', 'S19', 'S18', 'S17', 'S16', 'S15', 'S14', 'S13', 'S12', 'S11', 'S10', 'S9', 'S8', 'S7', 'S6', 'S5', 'S4', 'S3', 'S2', 'S1']]\n",
            "Flow Path: ['S1', 'S2', 'S3', 'S4', 'S5', 'S6', 'S7', 'S8', 'S9', 'S10', 'S11', 'S12', 'S13', 'S14', 'S15', 'S16', 'S17', 'S18', 'S19', 'S20', 'S21', 'S22', 'S23', 'S24', 'S25', 'S26', 'S27', 'S28', 'S29', 'S30', 'S31', 'S32', 'S33', 'S34', 'S35', 'S36', 'S37', 'S38', 'S39', 'OF-S']\n",
            "Sorted Conduits: ['213', '214', '215', '216', '217', '218', '219', '220', '221', '222', '223', '224', '225', '226', '227', '228', '229', '230', '231', '232', '233', '234', '235', '236', '237', '238', '239', '240', '241', '242', '243', '244', '245', '246', '247', '248', '249', '250', '251']\n",
            "Junctions in Path: ['S1', 'S2', 'S3', 'S4', 'S5', 'S6', 'S7', 'S8', 'S9', 'S10', 'S11', 'S12', 'S13', 'S14', 'S15', 'S16', 'S17', 'S18', 'S19', 'S20', 'S21', 'S22', 'S23', 'S24', 'S25', 'S26', 'S27', 'S28', 'S29', 'S30', 'S31', 'S32', 'S33', 'S34', 'S35', 'S36', 'S37', 'S38', 'S39', 'OF-S']\n",
            "All Flow Paths for OF-K: [['OF-K', 'K23', 'K21/21', 'K21/20', 'K21/19', 'K21/18', 'K21/17', 'K21/16', 'K21/15', 'K21/14', 'K21/13', 'K21/12', 'K21/11', 'K21/10', 'K21//9', 'K21/8', 'K21/7', 'K21/6', 'K21/5', 'K21/4', 'K21/3', 'K21/2', 'K21/1'], ['OF-K', 'K23', 'K22', 'K21', 'K20', 'K19', 'K18', 'K17', 'K16', 'K15', 'K14', 'K13', 'K12', 'K11', 'K10', 'K9', 'K8', 'K7', 'K6', 'K5', 'K4', 'K3', 'K2', 'K1'], ['OF-K', 'K23', 'K22', 'K22/5', 'K22/4', 'K22/3', 'K22/2', 'K22/1'], ['OF-K', 'K23', 'K23/5', 'K23/4', 'K23/3', 'K23/2', 'K23/1']]\n",
            "Flow Path: ['K21/1', 'K21/2', 'K21/3', 'K21/4', 'K21/5', 'K21/6', 'K21/7', 'K21/8', 'K21//9', 'K21/10', 'K21/11', 'K21/12', 'K21/13', 'K21/14', 'K21/15', 'K21/16', 'K21/17', 'K21/18', 'K21/19', 'K21/20', 'K21/21', 'K23', 'OF-K']\n",
            "Sorted Conduits: ['252', '253', '254', '255', '256', '257', '258', '259', '260', '261', '262', '263', '264', '265', '266', '267', '268', '269', '270', '271', '272', '273']\n",
            "Junctions in Path: ['K21/1', 'K21/2', 'K21/3', 'K21/4', 'K21/5', 'K21/6', 'K21/7', 'K21/8', 'K21//9', 'K21/10', 'K21/11', 'K21/12', 'K21/13', 'K21/14', 'K21/15', 'K21/16', 'K21/17', 'K21/18', 'K21/19', 'K21/20', 'K21/21', 'K23', 'OF-K']\n",
            "Flow Path: ['K1', 'K2', 'K3', 'K4', 'K5', 'K6', 'K7', 'K8', 'K9', 'K10', 'K11', 'K12', 'K13', 'K14', 'K15', 'K16', 'K17', 'K18', 'K19', 'K20', 'K21', 'K22', 'K23', 'OF-K']\n",
            "Sorted Conduits: ['274', '275', '276', '277', '278', '279', '280', '281', '282', '283', '284', '285', '286', '287', '288', '289', '290', '291', '292', '293', '294', '295', '273']\n",
            "Junctions in Path: ['K1', 'K2', 'K3', 'K4', 'K5', 'K6', 'K7', 'K8', 'K9', 'K10', 'K11', 'K12', 'K13', 'K14', 'K15', 'K16', 'K17', 'K18', 'K19', 'K20', 'K21', 'K22', 'K23', 'OF-K']\n",
            "Flow Path: ['K22/1', 'K22/2', 'K22/3', 'K22/4', 'K22/5', 'K22', 'K23', 'OF-K']\n",
            "Sorted Conduits: ['313', '314', '315', '316', '317', '295', '273']\n",
            "Junctions in Path: ['K22/1', 'K22/2', 'K22/3', 'K22/4', 'K22/5', 'K22', 'K23', 'OF-K']\n",
            "Flow Path: ['K23/1', 'K23/2', 'K23/3', 'K23/4', 'K23/5', 'K23', 'OF-K']\n",
            "Sorted Conduits: ['308', '309', '310', '311', '312', '273']\n",
            "Junctions in Path: ['K23/1', 'K23/2', 'K23/3', 'K23/4', 'K23/5', 'K23', 'OF-K']\n",
            "All Flow Paths for OF-R: [['OF-R', 'R27', 'R41', 'R40', 'R39', 'R38', 'R37', 'R36', 'R35', 'R34', 'R33', 'R32', 'R31', 'R30', 'R29', 'R28'], ['OF-R', 'R27', 'R41', 'R41/3', 'R41/2', 'R41/1'], ['OF-R', 'R27', 'R27/3', 'R27/2', 'R27/1'], ['OF-R', 'R27', 'R26', 'R25', 'R24', 'R23', 'R22', 'R21', 'R20', 'R19', 'R18', 'R17', 'R16', 'R15', 'R14', 'R13', 'R12', 'R11', 'R10', 'R9', 'R8', 'R7', 'R6', 'R5', 'R4', 'R3', 'R2', 'R1'], ['OF-R', 'R27', 'R26', 'R25', 'R24', 'R23', 'R22', 'R21', 'R20', 'R19', 'R18', 'R17', 'R16', 'R15', 'R14', 'R13', 'R13/10', 'R13/9', 'R13/8', 'R13/7', 'R13/6', 'R13/5', 'R13/4', 'R13/3', 'R13/2', 'R13/1']]\n",
            "Flow Path: ['R28', 'R29', 'R30', 'R31', 'R32', 'R33', 'R34', 'R35', 'R36', 'R37', 'R38', 'R39', 'R40', 'R41', 'R27', 'OF-R']\n",
            "Sorted Conduits: ['324', '325', '326', '327', '328', '329', '330', '331', '332', '333', '334', '335', '336', '337', '338']\n",
            "Junctions in Path: ['R28', 'R29', 'R30', 'R31', 'R32', 'R33', 'R34', 'R35', 'R36', 'R37', 'R38', 'R39', 'R40', 'R41', 'R27', 'OF-R']\n",
            "Flow Path: ['R41/1', 'R41/2', 'R41/3', 'R41', 'R27', 'OF-R']\n",
            "Sorted Conduits: ['339', '340', '341', '337', '338']\n",
            "Junctions in Path: ['R41/1', 'R41/2', 'R41/3', 'R41', 'R27', 'OF-R']\n",
            "Flow Path: ['R27/1', 'R27/2', 'R27/3', 'R27', 'OF-R']\n",
            "Sorted Conduits: ['342', '343', '344', '338']\n",
            "Junctions in Path: ['R27/1', 'R27/2', 'R27/3', 'R27', 'OF-R']\n",
            "Flow Path: ['R1', 'R2', 'R3', 'R4', 'R5', 'R6', 'R7', 'R8', 'R9', 'R10', 'R11', 'R12', 'R13', 'R14', 'R15', 'R16', 'R17', 'R18', 'R19', 'R20', 'R21', 'R22', 'R23', 'R24', 'R25', 'R26', 'R27', 'OF-R']\n",
            "Sorted Conduits: ['345', '346', '347', '348', '349', '350', '351', '352', '353', '354', '355', '356', '357', '358', '359', '360', '361', '362', '363', '364', '365', '366', '367', '368', '369', '370', '338']\n",
            "Junctions in Path: ['R1', 'R2', 'R3', 'R4', 'R5', 'R6', 'R7', 'R8', 'R9', 'R10', 'R11', 'R12', 'R13', 'R14', 'R15', 'R16', 'R17', 'R18', 'R19', 'R20', 'R21', 'R22', 'R23', 'R24', 'R25', 'R26', 'R27', 'OF-R']\n",
            "Flow Path: ['R13/1', 'R13/2', 'R13/3', 'R13/4', 'R13/5', 'R13/6', 'R13/7', 'R13/8', 'R13/9', 'R13/10', 'R13', 'R14', 'R15', 'R16', 'R17', 'R18', 'R19', 'R20', 'R21', 'R22', 'R23', 'R24', 'R25', 'R26', 'R27', 'OF-R']\n",
            "Sorted Conduits: ['371', '372', '373', '374', '375', '376', '377', '378', '379', '380', '357', '358', '359', '360', '361', '362', '363', '364', '365', '366', '367', '368', '369', '370', '338']\n",
            "Junctions in Path: ['R13/1', 'R13/2', 'R13/3', 'R13/4', 'R13/5', 'R13/6', 'R13/7', 'R13/8', 'R13/9', 'R13/10', 'R13', 'R14', 'R15', 'R16', 'R17', 'R18', 'R19', 'R20', 'R21', 'R22', 'R23', 'R24', 'R25', 'R26', 'R27', 'OF-R']\n"
          ]
        }
      ]
    },
    {
      "cell_type": "markdown",
      "source": [
        "# Identify the Invert Elevations of the Conduits"
      ],
      "metadata": {
        "id": "2Ls3loFLBELR"
      }
    },
    {
      "cell_type": "code",
      "source": [
        "conduit_info = []\n",
        "for conduit_name, conduit_data in inp['CONDUITS'].items():\n",
        "    upstream_junction = conduit_data.from_node\n",
        "    downstream_junction = conduit_data.to_node\n",
        "\n",
        "    upstream_invert = junctions_data[upstream_junction].elevation\n",
        "\n",
        "    # Check if downstream node is an outfall\n",
        "    if downstream_junction in outfalls_data:\n",
        "        downstream_invert = outfalls_data[downstream_junction].elevation  # Get elevation from outfalls_data\n",
        "    elif downstream_junction in junctions_data:\n",
        "        downstream_invert = junctions_data[downstream_junction].elevation  # Get elevation from junctions_data if it's a junction\n",
        "    else:\n",
        "        print(f\"Warning: Downstream node '{downstream_junction}' not found in junctions or outfalls data.\")\n",
        "        downstream_invert = None  # or some default value\n",
        "\n",
        "    length = conduit_data.length\n",
        "\n",
        "    if downstream_invert is not None:\n",
        "        slope = (upstream_invert - downstream_invert) / length\n",
        "    else:\n",
        "        slope = None\n",
        "    # Input all data gathered and solve in a DataFrame\n",
        "    conduit_info.append([conduit_name, upstream_junction, upstream_invert, downstream_junction, downstream_invert, length, slope])\n",
        "\n",
        "    print(f\"Conduit: {conduit_name}; From: {upstream_junction} To: {downstream_junction}\")\n",
        "    print(f\"Upstream Invert Elevation: {upstream_invert} m\")\n",
        "    print(f\"Downstream Invert Elevation: {downstream_invert} m\")\n",
        "    print(f\"Slope: {slope}\")\n",
        "\n",
        "# Exporting DataFrame as an .xlsx File\n",
        "conduit_df = pd.DataFrame(conduit_info, columns=['Conduit', 'From Node', 'Upstream Invert', 'To Node', 'Downstream Invert', 'Length', 'Slope'])\n",
        "\n",
        "conduit_df.to_excel(\"conduit_analysis_data.xlsx\", index=False)\n",
        "\n"
      ],
      "metadata": {
        "collapsed": true,
        "id": "xkmxUOlj9bpT"
      },
      "execution_count": null,
      "outputs": []
    },
    {
      "cell_type": "markdown",
      "source": [
        "# Function: Identifying Peak Flow Rates"
      ],
      "metadata": {
        "id": "k8fzO78NBKXH"
      }
    },
    {
      "cell_type": "code",
      "source": [
        "def peak_flow_solve(inp, conduit_name):\n",
        "  with Simulation(inp) as sim:\n",
        "      links = Links(sim)\n",
        "      for step in sim:\n",
        "          pass\n",
        "\n",
        "      # Iterate through links to find the specific conduit\n",
        "      for link in links:\n",
        "          if link.linkid == conduit_name:\n",
        "              conduit_data = link.conduit_statistics\n",
        "              peak_flow = conduit_data.get(\"peak_flow\")  # Use get() to handle missing keys\n",
        "              if peak_flow is not None and peak_flow != 0.0:\n",
        "                  return float(peak_flow)  # Convert to float if found\n",
        "              else:\n",
        "                  return 0.0  # Or handle the missing peak_flow case differently\n",
        "              print(f\"Peak Flow for {link.linkid}: {peak_flow} m³/s\")\n",
        "      # If the conduit is not found\n",
        "      return 0.0  # Or handle the missing conduit case differently"
      ],
      "metadata": {
        "id": "ZDNnieVBAdj2"
      },
      "execution_count": 7,
      "outputs": []
    },
    {
      "cell_type": "markdown",
      "source": [
        "# Function: Identifying the Largest Pipe Size and Minimum Slope"
      ],
      "metadata": {
        "id": "KCFwCMVWBYm4"
      }
    },
    {
      "cell_type": "code",
      "source": [
        "# Identify the largest pipe size available and the minimum slope possible\n",
        "def largest_size_available(available_sizes):\n",
        "  largest_size = 0.0\n",
        "  with open(available_sizes) as file:\n",
        "    for line in file:\n",
        "      try:\n",
        "        size = float(line.strip())\n",
        "        if size > largest_size:\n",
        "          largest_size = size\n",
        "      except ValueError:\n",
        "        print (f\"Skipping Invalid Line: {line.strip()}\")\n",
        "  return largest_size\n",
        "\n",
        "largest_size = largest_size_available(available_sizes)\n",
        "print(f\"Largest Pipe Size: {largest_size} m\")"
      ],
      "metadata": {
        "id": "tk2GjwjS6jX3",
        "collapsed": true,
        "colab": {
          "base_uri": "https://localhost:8080/"
        },
        "outputId": "028aa095-aa7d-4dda-f00e-4f4733e916d9"
      },
      "execution_count": 8,
      "outputs": [
        {
          "output_type": "stream",
          "name": "stdout",
          "text": [
            "Largest Pipe Size: 1.8 m\n"
          ]
        }
      ]
    },
    {
      "cell_type": "markdown",
      "source": [
        "# Function: Identifying the Smallest Pipe Size"
      ],
      "metadata": {
        "id": "-eHoau7sjTv_"
      }
    },
    {
      "cell_type": "code",
      "source": [
        "# Identify the smallest pipe size available\n",
        "def smallest_size_available(available_sizes):\n",
        "  largest_size = largest_size_available(available_sizes)\n",
        "  smallest_size = largest_size\n",
        "  with open(available_sizes) as file:\n",
        "    for line in file:\n",
        "      try:\n",
        "        size = float(line.strip())\n",
        "        if size < largest_size:\n",
        "          smallest_size = size\n",
        "          largest_size = size\n",
        "      except ValueError:\n",
        "        print (f\"Skipping Invalid Line: {line.strip()}\")\n",
        "  return smallest_size\n",
        "\n",
        "# Call the function and assign the result to a variable\n",
        "smallest_size = smallest_size_available(available_sizes)\n",
        "\n",
        "print(f\"Smallest Pipe Size: {smallest_size} m\")"
      ],
      "metadata": {
        "colab": {
          "base_uri": "https://localhost:8080/"
        },
        "id": "TgPCmWHJjWCY",
        "outputId": "d17402d5-22b4-46e7-9948-8f6dd3a96408"
      },
      "execution_count": 9,
      "outputs": [
        {
          "output_type": "stream",
          "name": "stdout",
          "text": [
            "Smallest Pipe Size: 0.3 m\n"
          ]
        }
      ]
    },
    {
      "cell_type": "markdown",
      "source": [
        "# Function: Find Velocities per Pipe Size"
      ],
      "metadata": {
        "id": "WjzhrpVrOPpo"
      }
    },
    {
      "cell_type": "code",
      "source": [
        "def calculate_velocities(conduit_name, available_sizes, peak_flow):\n",
        "    \"\"\"\n",
        "    Calculates and stores velocities for each conduit and available size combination.\n",
        "\n",
        "    Args:\n",
        "        conduit_name (str): The name of the conduit.\n",
        "        available_sizes (str): Path to the file containing available pipe sizes.\n",
        "        peak_flow (float): The peak flow rate for the conduit.\n",
        "\n",
        "    Returns:\n",
        "        dict: A dictionary where keys are conduit names and values are dictionaries\n",
        "              containing velocities for each available size.\n",
        "    \"\"\"\n",
        "\n",
        "    velocities = {}  # Initialize a dictionary to store velocities\n",
        "\n",
        "    if inp[\"XSECTIONS\"][conduit_name].shape == \"CIRCULAR\":\n",
        "        available_sizes_list = []\n",
        "        with open(available_sizes) as file:\n",
        "            for line in file:\n",
        "                try:\n",
        "                    size = float(line.strip())\n",
        "                    available_sizes_list.append(size)\n",
        "                except ValueError:\n",
        "                    print(f\"Skipping invalid line: {line.strip()}\")\n",
        "\n",
        "        # Store velocities for each available size\n",
        "        velocities[conduit_name] = {}\n",
        "        for size in available_sizes_list:\n",
        "            velocity = peak_flow / (math.pi * (size ** 2) * 0.25)\n",
        "            velocities[conduit_name][size] = velocity\n",
        "            print(f\"Conduit: {conduit_name}, Size: {size}, Velocity: {velocity} m/s\")\n",
        "\n",
        "    return velocities"
      ],
      "metadata": {
        "id": "BiRukp47KIsm"
      },
      "execution_count": 10,
      "outputs": []
    },
    {
      "cell_type": "markdown",
      "source": [
        "# Function: Identifying Suitable Pipe Sizes"
      ],
      "metadata": {
        "id": "xPA-o0E4BPBM"
      }
    },
    {
      "cell_type": "code",
      "source": [
        "def find_suitable_sizes_with_velocity(all_velocities, vel_min, vel_max):\n",
        "    \"\"\"\n",
        "    Finds suitable pipe sizes based on calculated velocities and constraints.\n",
        "\n",
        "    Args:\n",
        "        all_velocities (dict): Dictionary containing velocities per conduit and size.\n",
        "        vel_min (float): Minimum allowable velocity.\n",
        "        vel_max (float): Maximum allowable velocity.\n",
        "\n",
        "    Returns:\n",
        "        dict: Dictionary containing suitable sizes for each conduit.\n",
        "    \"\"\"\n",
        "    suitable_sizes_per_conduit = {}  # Store suitable sizes here\n",
        "\n",
        "    for conduit_name, size_velocity_dict in all_velocities.items():\n",
        "        suitable_sizes = []  # Sizes within allowable velocity range for this conduit\n",
        "\n",
        "        for size, velocity in size_velocity_dict.items():\n",
        "            if vel_min <= velocity <= vel_max:\n",
        "                suitable_sizes.append(size)\n",
        "\n",
        "        # Handle cases where no suitable sizes were found:\n",
        "        if not suitable_sizes:\n",
        "            if all(velocity < vel_min for velocity in size_velocity_dict.values()):\n",
        "                # All velocities below minimum, use largest available size\n",
        "                suitable_sizes.append(min(size_velocity_dict.keys()))\n",
        "            elif all(velocity > vel_max for velocity in size_velocity_dict.values()):\n",
        "                # All velocities above maximum, use smallest available size\n",
        "                suitable_sizes.append(max(size_velocity_dict.keys()))\n",
        "\n",
        "        suitable_sizes_per_conduit[conduit_name] = suitable_sizes\n",
        "        print(f\"Conduit Name: {conduit_name}, Suitable Sizes: {suitable_sizes}\")\n",
        "    return suitable_sizes_per_conduit"
      ],
      "metadata": {
        "id": "KSsFwM3xOZGN"
      },
      "execution_count": 11,
      "outputs": []
    },
    {
      "cell_type": "markdown",
      "source": [
        "# Function: Construction Cost"
      ],
      "metadata": {
        "id": "Fdlg-EGYBShP"
      }
    },
    {
      "cell_type": "code",
      "source": [
        "# Function for the Computation of Construction Costs\n",
        "def construction_costs (unit_cost, length, size):\n",
        "  pass"
      ],
      "metadata": {
        "id": "6L2XHSEYBFe2"
      },
      "execution_count": 12,
      "outputs": []
    },
    {
      "cell_type": "markdown",
      "source": [
        "# Function: Solving for the Max Hydraulic Radius"
      ],
      "metadata": {
        "id": "ERxTYwJO9zJ3"
      }
    },
    {
      "cell_type": "code",
      "source": [
        "def get_max_hydraulic_radius(inp, conduit_name):\n",
        "\n",
        "    with Simulation(inp) as sim:\n",
        "        links = Links(sim)\n",
        "        max_hydraulic_radius = 0.0  # Initialize max hydraulic radius\n",
        "\n",
        "        for step in sim:\n",
        "            # Iterate through links to find the specific conduit\n",
        "            for link in links:\n",
        "                if link.linkid == conduit_name:\n",
        "                    # Get the flow and depth for the current link and timestep\n",
        "                    flow = link.flow\n",
        "                    depth = link.depth\n",
        "\n",
        "                    # Calculate the hydraulic radius (R = A/P)\n",
        "                    # Assume circular pipe for this example\n",
        "                    if inp[\"XSECTIONS\"][conduit_name].shape == \"CIRCULAR\":\n",
        "                        diameter = inp[\"XSECTIONS\"][conduit_name].height\n",
        "\n",
        "                        # Calculate area and wetted perimeter based on depth\n",
        "                        if depth >= diameter:  # Full flow\n",
        "                            area = math.pi * (diameter / 2)**2\n",
        "                            wetted_perimeter = math.pi * diameter\n",
        "                        else:  # Partial flow\n",
        "                            theta = 2 * math.acos(1 - (2 * depth / diameter))\n",
        "                            area = (diameter**2 / 8) * (theta - math.sin(theta))\n",
        "                            wetted_perimeter = diameter * theta / 2\n",
        "\n",
        "                        hydraulic_radius = area / wetted_perimeter\n",
        "\n",
        "                        # Update max_hydraulic_radius if current value is larger\n",
        "                        max_hydraulic_radius = max(max_hydraulic_radius, hydraulic_radius)\n",
        "\n",
        "                    else:\n",
        "                        # Handle other cross-section shapes if needed\n",
        "                        pass\n",
        "                    break  # Exit the inner loop once the conduit is found\n",
        "\n",
        "    return max_hydraulic_radius"
      ],
      "metadata": {
        "id": "V0nfs7yu94hq"
      },
      "execution_count": 13,
      "outputs": []
    },
    {
      "cell_type": "markdown",
      "source": [
        "# Function: Manning's Equation"
      ],
      "metadata": {
        "id": "1DPR_wdb_D_1"
      }
    },
    {
      "cell_type": "code",
      "source": [
        "def adjust_slope_with_mannings(input, conduit_name, new_diameter, mannings_n):\n",
        "\n",
        "    # Load the input file using SwmmInput\n",
        "    modified_inp = SwmmInput(input_file)\n",
        "\n",
        "    # Get peak flow rate (Q) for the conduit - you'll need to adapt this part\n",
        "    # based on how you are getting peak flow rates in your code\n",
        "    # peak_flow = peak_flow_solve(input_file, conduit_name) # or use your similar function\n",
        "    # peak_flow = get_peak_flow(modified_inp, conduit_name)\n",
        "    # peak_flow = current_peak_flows[conduit_name]\n",
        "\n",
        "    # Calculate cross-sectional area and hydraulic radius for the new diameter\n",
        "    area = math.pi * (new_diameter / 2)**2\n",
        "    hydraulic_radius = (new_diameter / 2) / 2  # Assuming full flow for now\n",
        "\n",
        "    # Calculate the new slope (S) using Manning's equation\n",
        "    new_slope = (peak_flow * mannings_n / (area * hydraulic_radius**(2/3)))**2\n",
        "\n",
        "    # Return the modified SwmmInput object\n",
        "    return new_slope"
      ],
      "metadata": {
        "id": "T9GTXrqE_Hvf"
      },
      "execution_count": 14,
      "outputs": []
    },
    {
      "cell_type": "markdown",
      "source": [
        "# Function: Identifying Slopes"
      ],
      "metadata": {
        "id": "kdnW-H9E2ku0"
      }
    },
    {
      "cell_type": "code",
      "source": [
        "def adjusting_slopes(modified_inp, conduit_name, pipe_size, is_last_conduit):\n",
        "\n",
        "    # Get upstream and downstream junction names for the conduit\n",
        "    upstream_junction = modified_inp[\"CONDUITS\"][conduit_name].from_node\n",
        "    downstream_junction = modified_inp[\"CONDUITS\"][conduit_name].to_node\n",
        "\n",
        "    # Handle the last conduit differently\n",
        "    if is_last_conduit:\n",
        "        # Use original downstream elevation from OUTFALLS section\n",
        "        new_downstream_elevation = modified_inp[\"OUTFALLS\"][downstream_junction].elevation\n",
        "    else:\n",
        "        # Otherwise, get downstream elevation from JUNCTIONS section\n",
        "        new_downstream_elevation = modified_inp[\"JUNCTIONS\"][downstream_junction].elevation\n",
        "\n",
        "    # Calculate the new upstream invert elevation using Manning's equation and the optimized size\n",
        "    new_slope = adjust_slope_with_mannings(modified_inp, conduit_name, pipe_size)\n",
        "    conduit_length = modified_inp[\"CONDUITS\"][conduit_name].length\n",
        "    new_upstream_elevation = new_downstream_elevation + (new_slope * conduit_length)\n",
        "\n",
        "    return new_upstream_elevation"
      ],
      "metadata": {
        "id": "KqbCF2bz2tmS"
      },
      "execution_count": 15,
      "outputs": []
    },
    {
      "cell_type": "markdown",
      "source": [
        "# Step 1: Initialize All Pipe Sizes and Slopes"
      ],
      "metadata": {
        "id": "TiTw81UCBgdJ"
      }
    },
    {
      "cell_type": "code",
      "source": [
        "modified_inp = copy.deepcopy(inp)\n",
        "\n",
        "# Get network topology\n",
        "conduit_connections = {}\n",
        "for conduit_name, conduit_data in inp['CONDUITS'].items():\n",
        "    conduit_connections[conduit_name] = {\n",
        "        'upstream': conduit_data.from_node,\n",
        "        'downstream': conduit_data.to_node\n",
        "    }\n",
        "\n",
        "# Get all outfall node names from the SWMM input file\n",
        "outfall_node_names = list(inp['OUTFALLS'].keys())\n",
        "\n",
        "def is_outfall_node(node):\n",
        "    \"\"\"Checks if a node is an outfall node.\"\"\"\n",
        "    return node in outfall_node_names  # Direct comparison with outfall node names\n",
        "\n",
        "def trace_upstream_flow(start_node, path=None, all_paths=None):\n",
        "    \"\"\"Traces all upstream flow paths from a given node, including junctions and branches.\"\"\"\n",
        "    if path is None:\n",
        "        path = []\n",
        "    if all_paths is None:\n",
        "        all_paths = []\n",
        "\n",
        "    path.append(start_node)\n",
        "\n",
        "    # Find connected conduits\n",
        "    connected_conduits = [\n",
        "        conduit_name\n",
        "        for conduit_name, data in conduit_connections.items()\n",
        "        if data['downstream'] == start_node\n",
        "    ]\n",
        "\n",
        "    # Base case: outermost junction or no upstream conduits\n",
        "    if not connected_conduits:\n",
        "        all_paths.append(path.copy())  # Add a copy of the path to avoid modification\n",
        "        return\n",
        "\n",
        "    # Recursive case: trace upstream for each connected conduit\n",
        "    for conduit_name in connected_conduits:\n",
        "        upstream_node = conduit_connections[conduit_name]['upstream']\n",
        "        trace_upstream_flow(upstream_node, path.copy(), all_paths)  # Pass a copy of path to avoid modifying the original path\n",
        "\n",
        "    return all_paths\n",
        "\n",
        "flow_paths = {}\n",
        "for outfall_node_name in outfall_node_names:\n",
        "    all_paths = trace_upstream_flow(outfall_node_name)\n",
        "    flow_paths[outfall_node_name] = all_paths\n",
        "\n",
        "\n",
        "# Slope adjustment logic integrated with flow path identification\n",
        "for outfall_node, flow_path in flow_paths.items():\n",
        "    print(f\"Processing outfall node: {outfall_node}\")\n",
        "    for path in flow_path:\n",
        "        path.reverse()  # Reverse each individual path for upstream to downstream processing\n",
        "\n",
        "        # Identify conduits in the path\n",
        "        conduits_in_path = []\n",
        "        for i in range(len(path) - 1):\n",
        "            from_node = path[i]\n",
        "            to_node = path[i + 1]\n",
        "            for conduit_name, conduit_data in conduit_connections.items():\n",
        "                if conduit_data['upstream'] == from_node and conduit_data['downstream'] == to_node:\n",
        "                    conduits_in_path.append(conduit_name)\n",
        "                    break\n",
        "\n",
        "        junctions = [item for item in path if isinstance(item, str) and item not in conduit_connections]\n",
        "        print(f\"Sorted Conduits: {conduits_in_path}\")  # Print sorted conduits\n",
        "        print(f\"Junctions in Path: {junctions}\")  # Print junctions in path\n",
        "\n",
        "        # Reverse the conduits_in_path list before processing\n",
        "        conduits_in_path.reverse()\n",
        "\n",
        "        current_downstream_elevation = None  # Initialize for the first (last) conduit\n",
        "\n",
        "        for conduit_name in conduits_in_path:  # Iterate in the correct order\n",
        "\n",
        "            # Get upstream and downstream junction names\n",
        "            upstream_junction = modified_inp[\"CONDUITS\"][conduit_name].from_node\n",
        "            downstream_junction = modified_inp[\"CONDUITS\"][conduit_name].to_node\n",
        "\n",
        "            # Always use slope_min, regardless of original slope\n",
        "            slope = slope_min\n",
        "\n",
        "            # Find the xsection associated with this conduit\n",
        "            xsection_name = None\n",
        "            for xs_name, xs_data in xsections.items():\n",
        "                if xs_data.link == conduit_name:\n",
        "                    xsection_name = xs_name\n",
        "                    break\n",
        "\n",
        "            # Assign the largest size if xsection is found\n",
        "            if xsection_name is not None:\n",
        "                xsection_data = modified_inp[\"XSECTIONS\"][xsection_name]\n",
        "\n",
        "                if callable(largest_size_available):\n",
        "                    conduit_size = largest_size_available(available_sizes)\n",
        "                else:\n",
        "                    conduit_size = largest_size_available\n",
        "\n",
        "                if xsection_data.shape == \"CIRCULAR\":\n",
        "                    xsection_data.height = conduit_size\n",
        "\n",
        "            # If it's the first conduit (last in the original path),\n",
        "            # use original downstream elevation from OUTFALLS or JUNCTIONS\n",
        "            if conduit_name == conduits_in_path[0]:\n",
        "                if downstream_junction in modified_inp[\"OUTFALLS\"]:\n",
        "                    current_downstream_elevation = modified_inp[\"OUTFALLS\"][downstream_junction].elevation\n",
        "                else:\n",
        "                    current_downstream_elevation = modified_inp[\"JUNCTIONS\"][downstream_junction].elevation\n",
        "\n",
        "            # Otherwise, use the calculated upstream elevation of the previous conduit\n",
        "            # as the current downstream elevation\n",
        "            else:\n",
        "                current_downstream_elevation = new_upstream_elevation  # Use the previously calculated value\n",
        "\n",
        "            # Calculate new upstream elevation based on slope and current downstream elevation\n",
        "            new_upstream_elevation = current_downstream_elevation + (slope * modified_inp[\"CONDUITS\"][conduit_name].length)\n",
        "\n",
        "            # Update upstream junction elevation\n",
        "            modified_inp[\"JUNCTIONS\"][upstream_junction].elevation = new_upstream_elevation\n",
        "\n",
        "            print(f\"Name: {xsection_name}\")\n",
        "            print(f\"Shape: {xsection_data.shape}\")\n",
        "            print(f\"Conduit Height: {xsection_data.height}\")\n",
        "            print(f\"Downstream Elevation: {current_downstream_elevation}\")\n",
        "            print(f\"Upstream Elevation: {new_upstream_elevation}\")\n",
        "            print(f\"\")\n",
        "\n",
        "# Create a unique filename to avoid overwriting\n",
        "file_name = f\"Modified_Model1.inp\"\n",
        "modified_inp.write_file(file_name)"
      ],
      "metadata": {
        "id": "F5K-lSOK8int"
      },
      "execution_count": null,
      "outputs": []
    },
    {
      "cell_type": "markdown",
      "source": [
        "# Step 2: Optimize Pipe Sizes"
      ],
      "metadata": {
        "id": "cdwJRMvhBkdi"
      }
    },
    {
      "cell_type": "markdown",
      "source": [
        "Starting Pipe Size Optimization"
      ],
      "metadata": {
        "id": "t2IgzvzeYjyS"
      }
    },
    {
      "cell_type": "code",
      "source": [
        "# Get network topology\n",
        "conduit_connections = {}\n",
        "for conduit_name, conduit_data in inp['CONDUITS'].items():\n",
        "    conduit_connections[conduit_name] = {\n",
        "        'upstream': conduit_data.from_node,\n",
        "        'downstream': conduit_data.to_node\n",
        "    }\n",
        "\n",
        "# Get all outfall node names from the SWMM input file\n",
        "outfall_node_names = list(inp['OUTFALLS'].keys())\n",
        "\n",
        "def is_outfall_node(node):\n",
        "    \"\"\"Checks if a node is an outfall node.\"\"\"\n",
        "    return node in outfall_node_names  # Direct comparison with outfall node names\n",
        "\n",
        "def trace_upstream_flow(start_node, path=None, all_paths=None):\n",
        "    \"\"\"Traces all upstream flow paths from a given node, including junctions and branches.\"\"\"\n",
        "    if path is None:\n",
        "        path = []\n",
        "    if all_paths is None:\n",
        "        all_paths = []\n",
        "\n",
        "    path.append(start_node)\n",
        "\n",
        "    # Find connected conduits (modified to handle branches)\n",
        "    connected_conduits = [\n",
        "        conduit_name\n",
        "        for conduit_name, data in conduit_connections.items()\n",
        "        if data['downstream'] == start_node\n",
        "    ]\n",
        "\n",
        "    # Base case: outermost junction or no upstream conduits\n",
        "    if not connected_conduits:\n",
        "        all_paths.append(path.copy())  # Add a copy of the path to avoid modification\n",
        "        return\n",
        "\n",
        "    # Recursive case: trace upstream for each connected conduit, considering branches\n",
        "    for conduit_name in connected_conduits:\n",
        "        upstream_node = conduit_connections[conduit_name]['upstream']\n",
        "        trace_upstream_flow(upstream_node, path.copy(), all_paths)  # Explore each branch\n",
        "\n",
        "    return all_paths\n",
        "\n",
        "flow_paths = {}\n",
        "for outfall_node_name in outfall_node_names:\n",
        "    all_paths = trace_upstream_flow(outfall_node_name)\n",
        "    flow_paths[outfall_node_name] = all_paths\n",
        "\n",
        "# Initialize all_starting_pipes before using it in the loop\n",
        "all_starting_pipes = []\n",
        "\n",
        "# Slope adjustment logic integrated with flow path identification\n",
        "for outfall_node, flow_path in flow_paths.items():\n",
        "    print(f\"Processing outfall node: {outfall_node}\")\n",
        "    for path in flow_path:\n",
        "        path.reverse()  # Reverse each individual path for upstream to downstream processing\n",
        "\n",
        "        # Identify conduits in the path\n",
        "        conduits_in_path = []\n",
        "        for i in range(len(path) - 1):\n",
        "            from_node = path[i]\n",
        "            to_node = path[i + 1]\n",
        "            for conduit_name, conduit_data in conduit_connections.items():\n",
        "                if conduit_data['upstream'] == from_node and conduit_data['downstream'] == to_node:\n",
        "                    conduits_in_path.append(conduit_name)\n",
        "                    break\n",
        "\n",
        "        junctions = [item for item in path if isinstance(item, str) and item not in conduit_connections]\n",
        "        print(f\"Sorted Conduits: {conduits_in_path}\")  # Print sorted conduits\n",
        "        print(f\"Junctions in Path: {junctions}\")  # Print junctions in path\n",
        "\n",
        "        # Check if any conduits were found in this path and it's not empty\n",
        "        if conduits_in_path and conduits_in_path[0]:\n",
        "            starting_pipe = conduits_in_path[0]  # Get the first conduit as the starting pipe\n",
        "            if starting_pipe not in all_starting_pipes:  # Check for duplicates\n",
        "                all_starting_pipes.append(starting_pipe)\n",
        "\n",
        "print(f\"All Starting Pipes: {all_starting_pipes}\")  # Print the final list of starting pipes\n",
        "\n",
        "# Get suitable sizes for starting pipes ONLY\n",
        "suitable_sizes_per_pipe = {}\n",
        "all_velocities = {}\n",
        "all_suitable_sizes = {}\n",
        "for conduit_name in all_starting_pipes:\n",
        "    # Ensure conduit_name is a string\n",
        "    conduit_name_str = str(conduit_name)\n",
        "\n",
        "    # Get peak flow for the conduit\n",
        "    peak_flow_value = peak_flow_solve(\"Modified_Model1.inp\", conduit_name_str)\n",
        "    print(peak_flow_value)\n",
        "\n",
        "    # Get suitable sizes based on the peak flow value\n",
        "    velocities_per_pipe = calculate_velocities(conduit_name_str, available_sizes, peak_flow_value)\n",
        "    all_velocities.update(velocities_per_pipe)\n",
        "\n",
        "    #Identify suitable sizes per pipe\n",
        "    suitable_sizes_per_pipe = find_suitable_sizes_with_velocity(all_velocities, vel_min, vel_max)\n",
        "    all_suitable_sizes.update(suitable_sizes_per_pipe)"
      ],
      "metadata": {
        "id": "-MtbVb-w7FuL",
        "collapsed": true
      },
      "execution_count": null,
      "outputs": []
    },
    {
      "cell_type": "code",
      "source": [
        "# Optimization: Create pipe-to-xsection mapping\n",
        "pipe_to_xsection = {}\n",
        "for xs_name, xs_data in xsections.items():\n",
        "    if xs_data.link is not None and xs_data.link in inp[\"CONDUITS\"]:\n",
        "        pipe_to_xsection[xs_data.link] = xs_name  # Use link as key, xsection name as value\n",
        "\n",
        "# Instead of creating a list, use itertools.product directly in the loop\n",
        "all_size_combinations = list(itertools.product(*[suitable_sizes_per_pipe[pipe] for pipe in all_starting_pipes]))\n",
        "print(all_size_combinations)\n",
        "\n",
        "for size_combination in all_size_combinations:\n",
        "    new_inp = copy.deepcopy(modified_inp)  # Create a copy of the initialized input\n",
        "\n",
        "    # Create a dictionary to store sizes for all starting pipes in the current combination\n",
        "    starting_pipe_sizes = {pipe: size for pipe, size in zip(all_starting_pipes, size_combination)}\n",
        "\n",
        "    # Iterate through flow paths and apply sizes\n",
        "    for outfall_node, flow_path_list in flow_paths.items():\n",
        "        for flow_path in flow_path_list:\n",
        "            flow_path.reverse()  # Reverse for upstream to downstream processing\n",
        "            conduits_in_path = []  # Get conduits in this path\n",
        "            for i in range(len(flow_path) - 1):\n",
        "                from_node = flow_path[i]\n",
        "                to_node = flow_path[i + 1]\n",
        "                for conduit_name, conduit_data in conduit_connections.items():\n",
        "                    if conduit_data['upstream'] == from_node and conduit_data['downstream'] == to_node:\n",
        "                        conduits_in_path.append(conduit_name)\n",
        "                        break\n",
        "\n",
        "            # Find starting pipe in the flow path and apply its size to all conduits in the path\n",
        "            for starting_pipe in all_starting_pipes:\n",
        "                if starting_pipe in conduits_in_path:\n",
        "                    starting_pipe_size = starting_pipe_sizes[starting_pipe]\n",
        "                    for conduit_name in conduits_in_path:\n",
        "                        xsection_name = pipe_to_xsection.get(conduit_name)\n",
        "                        if xsection_name is not None:\n",
        "                            xsection_object = new_inp[\"XSECTIONS\"][xsection_name]\n",
        "                            xsection_object.height = starting_pipe_size\n",
        "                            print(f\"Pipe Name: {xsection_name}, Size: {xsection_object.height}\")\n",
        "                    break  # Break out of the inner loop once a starting pipe is found and sizes are applied\n",
        "\n",
        "    # Save the modified input file\n",
        "    file_name = f\"new_input_starting_pipes_{'_'.join(map(str, size_combination))}.inp\"\n",
        "    new_inp.write_file(file_name)\n",
        "    print(f\"Modified input file saved as {file_name}\")"
      ],
      "metadata": {
        "collapsed": true,
        "id": "EzR-E3zvuCeJ"
      },
      "execution_count": null,
      "outputs": []
    },
    {
      "cell_type": "markdown",
      "source": [
        "Downstream Optimization"
      ],
      "metadata": {
        "id": "pp_5p5Z9WcmB"
      }
    },
    {
      "cell_type": "code",
      "source": [
        "# --- Iterate downstream and optimize remaining conduits ---\n",
        "new_input_files = glob.glob(\"new_input_starting_pipes_*.inp\")\n",
        "\n",
        "    # Downstream Optimization\n",
        "for input_file in new_input_files:\n",
        "    improved_inp = SwmmInput(input_file)  # Load input file\n",
        "\n",
        "    # --- Downstream Optimization Logic ---\n",
        "    current_peak_flows = {}\n",
        "    for conduit_name, _ in improved_inp[\"CONDUITS\"].items():\n",
        "        peak_flow_value = peak_flow_solve(input_file, conduit_name)  # Use input_file here\n",
        "        current_peak_flows[conduit_name] = peak_flow_value\n",
        "\n",
        "    for outfall_node, flow_path in flow_paths.items():\n",
        "        conduits_in_path = [item for item in flow_path if item in conduit_connections]\n",
        "        print(f\"Conduit Connection: {conduits_in_path}\")\n",
        "        # # Get suitable sizes for all downstream conduits in the path\n",
        "        # suitable_sizes_per_conduit = {}\n",
        "        # for conduit_name in conduits_in_path:\n",
        "        #     # Skip starting pipes as they are already set\n",
        "        #     if conduit_name in all_starting_pipes:\n",
        "        #         continue\n",
        "        #     suitable_sizes_per_conduit[conduit_name] = find_suitable_sizes(conduit_name, available_sizes, current_peak_flows[conduit_name])\n",
        "\n",
        "        # # Generate all size combinations for downstream conduits\n",
        "        # all_size_combinations = list(itertools.product(*[suitable_sizes_per_conduit[pipe] for pipe in suitable_sizes_per_conduit]))\n",
        "\n",
        "        # # Iterate through each size combination\n",
        "        # for size_combination in all_size_combinations:\n",
        "        #     combination_modified_inp = copy.deepcopy(modified_inp)  # Create a copy for each combination\n",
        "\n",
        "        #     # Apply the size combination to the input file\n",
        "        #     for i, conduit_name in enumerate(suitable_sizes_per_conduit):\n",
        "        #         # Find the xsection name associated with the conduit\n",
        "        #         xsection_name = None\n",
        "        #         for xs_name, xs_data in xsections.items():\n",
        "        #             if xs_data.link == conduit_name:\n",
        "        #                 xsection_name = xs_name\n",
        "        #                 break\n",
        "\n",
        "        #         # Update the modified input with the current size from the combination\n",
        "        #         if xsection_name is not None:\n",
        "        #             combination_modified_inp[\"XSECTIONS\"][xsection_name].height = size_combination[i]\n",
        "\n",
        "        #     # Save the modified input file for this combination\n",
        "        #     file_name = f\"optimized_{input_file.replace('.inp', '')}_combination_{'_'.join(map(str, size_combination))}.inp\"\n",
        "        #     combination_modified_inp.write_file(file_name)\n",
        "        #     print(f\"Optimized input file saved as {file_name}\")"
      ],
      "metadata": {
        "id": "KSLtFRo4Wfy5"
      },
      "execution_count": null,
      "outputs": []
    },
    {
      "cell_type": "markdown",
      "source": [
        "# Step 3: Adjust Pipe Slopes Based on Adjusted Pipe Sizes"
      ],
      "metadata": {
        "id": "40pM9YyyolCJ"
      }
    },
    {
      "cell_type": "code",
      "source": [
        "# Get a list of all optimized input files from Step 2\n",
        "optimized_input_files = glob.glob(\"optimized_modified_input_starting_pipes_*_combination_*.inp\")\n",
        "\n",
        "# Iterate through each optimized input file\n",
        "for input_file in optimized_input_files:\n",
        "    # Load the input file using SwmmInput\n",
        "    modified_inp = SwmmInput(input_file)\n",
        "\n",
        "    for outfall_node, flow_path in flow_paths.items():\n",
        "        conduits_in_path = [item for item in flow_path if item in conduit_connections]\n",
        "\n",
        "        # Process conduits in reverse order (from last to first)\n",
        "        current_downstream_elevation = None  # Initialize for the first (last) conduit\n",
        "\n",
        "        for i, conduit_name in enumerate(reversed(conduits_in_path)):\n",
        "            # Get optimized size\n",
        "            optimized_size = modified_inp[\"XSECTIONS\"][xsection_name].height\n",
        "\n",
        "            # Get upstream and downstream junction names\n",
        "            upstream_junction = modified_inp[\"CONDUITS\"][conduit_name].from_node\n",
        "            downstream_junction = modified_inp[\"CONDUITS\"][conduit_name].to_node\n",
        "            roughness = modified_inp[\"CONDUITS\"][conduit_name].roughness\n",
        "            # If it's the last conduit, use original downstream elevation from OUTFALLS\n",
        "            if i == 0:  # i = 0 for the last conduit in reversed order\n",
        "                current_downstream_elevation = modified_inp[\"OUTFALLS\"][downstream_junction].elevation\n",
        "\n",
        "            # Otherwise, use the upstream elevation of the previous conduit\n",
        "            # as the current downstream elevation\n",
        "\n",
        "\n",
        "            # Calculate new slope using Manning's equation and max hydraulic radius\n",
        "            new_slope = adjust_slope_with_mannings(modified_inp, conduit_name, optimized_size, roughness)\n",
        "\n",
        "            # Calculate new upstream elevation\n",
        "            new_upstream_elevation = current_downstream_elevation + (new_slope * modified_inp[\"CONDUITS\"][conduit_name].length)\n",
        "\n",
        "            # Update upstream junction elevation\n",
        "            modified_inp[\"JUNCTIONS\"][upstream_junction].elevation = new_upstream_elevation\n",
        "\n",
        "            # Update current_downstream_elevation for the next conduit in the loop\n",
        "            current_downstream_elevation = new_upstream_elevation\n",
        "\n",
        "    # Save the modified input file with a new name\n",
        "    modified_inp.write_file(f\"adjusted_{input_file}\")\n",
        "    print(f\"Adjusted slopes/inverts for {input_file} and saved as adjusted_{input_file}\")"
      ],
      "metadata": {
        "id": "9ncha6b11jfR"
      },
      "execution_count": null,
      "outputs": []
    },
    {
      "cell_type": "markdown",
      "source": [
        "# Step 4: Optimize Pipe Slopes"
      ],
      "metadata": {
        "id": "DirCMCE06CmK"
      }
    },
    {
      "cell_type": "code",
      "source": [
        "# Define maximum and minimum allowable slopes (adjust values as needed)\n",
        "max_slope = 0.02  # Maximum allowable slope\n",
        "min_slope = 0.001  # Minimum allowable slope\n",
        "\n",
        "# Load ground slope data from \"Ground Slopes.xlsx\"\n",
        "ground_slopes_df = pd.read_excel(\"Ground_Slopes.xlsx\")\n",
        "\n",
        "# Get a list of all adjusted input files from Step 3\n",
        "adjusted_input_files = [f for f in os.listdir() if f.startswith(\"adjusted_optimized_input_starting_pipes_\")]\n",
        "\n",
        "# Iterate through each adjusted input file\n",
        "for input_file in adjusted_input_files:\n",
        "    # Load the input file using SwmmInput\n",
        "    modified_inp = SwmmInput(input_file)\n",
        "\n",
        "    for outfall_node, flow_path in flow_paths.items():\n",
        "        conduits_in_path = [item for item in flow_path if item in conduit_connections]\n",
        "\n",
        "        # Process conduits in reverse order (from last to first)\n",
        "        for i, conduit_name in enumerate(reversed(conduits_in_path)):\n",
        "            # Get upstream and downstream junction names\n",
        "            upstream_junction = modified_inp[\"CONDUITS\"][conduit_name].from_node\n",
        "            downstream_junction = modified_inp[\"CONDUITS\"][conduit_name].to_node\n",
        "\n",
        "            # Get junction data for upstream and downstream junctions\n",
        "            upstream_junction_data = modified_inp[\"JUNCTIONS\"][upstream_junction]\n",
        "            downstream_junction_data = modified_inp[\"JUNCTIONS\"][downstream_junction]\n",
        "\n",
        "            # Calculate ground slope using junction data\n",
        "            upstream_elev = upstream_junction_data.elevation + upstream_junction_data.depth_max\n",
        "            downstream_elev = downstream_junction_data.elevation + downstream_junction_data.depth_max\n",
        "            length = modified_inp[\"CONDUITS\"][conduit_name].length\n",
        "            ground_slope = (upstream_elev - downstream_elev) / length\n",
        "\n",
        "            # Apply slope adjustment logic\n",
        "            if ground_slope >= 0:\n",
        "                if ground_slope <= max_slope:\n",
        "                    final_slope = ground_slope  # Use ground slope if within limits\n",
        "                else:\n",
        "                    final_slope = max_slope  # Use max slope if ground slope is too steep\n",
        "            else:\n",
        "                final_slope = min_slope  # Use min slope if ground slope is negative\n",
        "\n",
        "            # If it's the last conduit, use original downstream elevation from OUTFALLS\n",
        "            if i == 0:\n",
        "                downstream_elevation = modified_inp[\"OUTFALLS\"][downstream_junction].elevation\n",
        "            else:\n",
        "                downstream_elevation = modified_inp[\"JUNCTIONS\"][downstream_junction].elevation\n",
        "\n",
        "            # Calculate new upstream elevation based on final slope\n",
        "            upstream_elevation = downstream_elevation + (final_slope * modified_inp[\"CONDUITS\"][conduit_name].length)\n",
        "\n",
        "            # Update upstream junction elevation in the modified inp file\n",
        "            modified_inp[\"JUNCTIONS\"][upstream_junction].elevation = upstream_elevation\n",
        "\n",
        "    # Save the modified input file with a new name\n",
        "    modified_inp.write_file(f\"slope_optimized_{input_file}\")\n",
        "    print(f\"Slopes optimized for {input_file} and saved as slope_optimized_{input_file}\")"
      ],
      "metadata": {
        "id": "s7LFEU_AV5o3"
      },
      "execution_count": null,
      "outputs": []
    },
    {
      "cell_type": "markdown",
      "source": [
        "# Step 5: Solving for Construction Costs"
      ],
      "metadata": {
        "id": "e5Jr5hVfZmRs"
      }
    },
    {
      "cell_type": "code",
      "source": [
        "# Load pipe prices data (assuming the file is named \"pipe_prices.xlsx\")\n",
        "pipe_prices_df = pd.read_excel(\"Pipe_Prices.xlsx\")\n",
        "\n",
        "# Get a list of all slope-optimized input files from Step 4\n",
        "slope_optimized_files = [f for f in os.listdir() if f.startswith(\"slope_optimized_\")]\n",
        "\n",
        "# Initialize variables to store the least cost and corresponding file name\n",
        "least_cost = float('inf')  # Initialize with a very large value\n",
        "least_cost_file = None\n",
        "\n",
        "# Iterate through each slope-optimized input file\n",
        "for input_file in slope_optimized_files:\n",
        "    # Load the input file using SwmmInput\n",
        "    modified_inp = SwmmInput(input_file)\n",
        "\n",
        "    total_cost = 0  # Initialize total cost for this input file\n",
        "\n",
        "    # Iterate through conduits in the input file\n",
        "    for conduit_name, conduit_data in modified_inp[\"CONDUITS\"].items():\n",
        "        # Get conduit diameter (assuming it's stored in the 'height' attribute)\n",
        "        diameter = conduit_data.height\n",
        "\n",
        "        # Get conduit length\n",
        "        length = conduit_data.length\n",
        "\n",
        "        # Get pipe price per length for the current diameter from the pipe_prices_df\n",
        "        price_per_length = pipe_prices_df[pipe_prices_df[\"Diameter\"] == diameter][\"Price per Length\"].values[0]\n",
        "\n",
        "        # Calculate cost for this conduit and add to total cost\n",
        "        conduit_cost = price_per_length * length\n",
        "        total_cost += conduit_cost\n",
        "\n",
        "        # Check if this file has the least cost so far\n",
        "        if total_cost < least_cost:\n",
        "          least_cost = total_cost\n",
        "          least_cost_file = input_file\n",
        "    # Print total cost for this input file\n",
        "    print(f\"Total construction cost for {input_file}: {total_cost}\")\n",
        "\n",
        "# Print the file with the least cost\n",
        "print(f\"\\nFile with the least construction cost: {least_cost_file} (Cost: {least_cost})\")"
      ],
      "metadata": {
        "id": "u6yKDTsqZrLM"
      },
      "execution_count": null,
      "outputs": []
    },
    {
      "cell_type": "markdown",
      "source": [
        "# Sensitivity Analysis\n"
      ],
      "metadata": {
        "id": "-c5S-hL3vWvH"
      }
    },
    {
      "cell_type": "code",
      "source": [
        "# Get the file with the least construction cost from Step 5\n",
        "least_cost_file = \"slope_optimized_optimized_modified_input_starting_pipes_0.6_0.45_combination_0.3_0.3_0.45_0.3_0.3_0.3.inp\" # Replace with your actual file name\n",
        "\n",
        "# Load the least cost input file\n",
        "least_cost_inp = SwmmInput(least_cost_file)\n",
        "\n",
        "# Function to calculate average flow rate, size, and slope\n",
        "def get_average_values(inp_file):\n",
        "    \"\"\"Calculates average flow rate, size, and slope for all pipes.\"\"\"\n",
        "    total_flow = 0\n",
        "    total_size = 0\n",
        "    total_slope = 0\n",
        "    num_pipes = 0\n",
        "\n",
        "    for conduit_name, conduit_data in inp_file[\"CONDUITS\"].items():\n",
        "        for xsection_name, xsection_data in inp[\"XSECTIONS\"].items():\n",
        "        # Calculate slope\n",
        "          upstream_invert = inp_file[\"JUNCTIONS\"][conduit_data.from_node].elevation\n",
        "          downstream_invert = inp_file[\"JUNCTIONS\"][conduit_data.to_node].elevation\n",
        "          length = conduit_data.length\n",
        "          slope = (upstream_invert - downstream_invert) / length\n",
        "\n",
        "          # Get peak flow using peak_flow_solve\n",
        "          peak_flow = peak_flow_solve(inp_file, conduit_name)\n",
        "\n",
        "          # Get pipe size (assuming it's stored in the 'height' attribute)\n",
        "          size = conduit_data.height\n",
        "\n",
        "          total_flow += peak_flow\n",
        "          total_size += size\n",
        "          total_slope += slope\n",
        "          num_pipes += 1\n",
        "\n",
        "    avg_flow = total_flow / num_pipes if num_pipes else 0\n",
        "    avg_size = total_size / num_pipes if num_pipes else 0\n",
        "    avg_slope = total_slope / num_pipes if num_pipes else 0\n",
        "\n",
        "    return avg_flow, avg_size, avg_slope\n",
        "\n",
        "# Get average values for the least cost file\n",
        "avg_flow, avg_size, avg_slope = get_average_values(least_cost_inp)\n",
        "print(f\"Average Flow Rate: {avg_flow}\")\n",
        "print(f\"Average Pipe Size: {avg_size}\")\n",
        "print(f\"Average Slope: {avg_slope}\")\n",
        "\n",
        "# Choose a pipe for sensitivity analysis (you can modify this)\n",
        "target_pipe = \"C1\"  # Replace with the actual pipe name\n",
        "\n",
        "# Function to get flow rate, size, and slope for a specific pipe\n",
        "def get_pipe_values(inp_file, pipe_name):\n",
        "    \"\"\"Gets flow rate, size, and slope for a specific pipe.\"\"\"\n",
        "    conduit_data = inp_file[\"CONDUITS\"][pipe_name]\n",
        "\n",
        "    # Calculate slope\n",
        "    upstream_invert = inp_file[\"JUNCTIONS\"][conduit_data.from_node].elevation\n",
        "    downstream_invert = inp_file[\"JUNCTIONS\"][conduit_data.to_node].elevation\n",
        "    length = conduit_data.length\n",
        "    slope = (upstream_invert - downstream_invert) / length\n",
        "\n",
        "    peak_flow = peak_flow_solve(inp_file, pipe_name) # peak_flow for the chosen conduit\n",
        "    size = conduit_data.height\n",
        "\n",
        "    return peak_flow, size, slope\n",
        "\n",
        "# Get initial values for the target pipe\n",
        "initial_flow, initial_size, initial_slope = get_pipe_values(least_cost_inp, target_pipe)\n",
        "print(f\"Flow Rate of {target_pipe}: {initial_flow}\")\n",
        "print(f\"Size of {target_pipe}: {initial_size}\")\n",
        "print(f\"Slope of {target_pipe}: {initial_slope}\")\n",
        "\n",
        "\n",
        "# # Define rainfall scenarios (replace with your actual scenarios)\n",
        "# rainfall_scenarios = [\"baseline\", \"scenario1\", \"scenario2\"]\n",
        "\n",
        "# # Sensitivity analysis loop for rainfall scenarios\n",
        "# for scenario in rainfall_scenarios:\n",
        "#     # Load modified input file for the current scenario\n",
        "#     modified_inp_file = f\"{scenario}.inp\"  # Assuming you have .inp files for each scenario\n",
        "\n",
        "#     # Create a copy of the least cost input file and modify with the given rainfall intensity\n",
        "#     modified_inp = copy.deepcopy(least_cost_inp) # modified_inp is now the least cost input\n",
        "\n",
        "#     # Placeholder - Update rainfall data in the copied least_cost_inp\n",
        "#     # You need to implement your logic here to update the [TIMESERIES] section in modified_inp with data for the current scenario (modified_inp_file)\n",
        "\n",
        "#     modified_inp.write_file(\"modified_least_cost.inp\") # write modified inp to a temporary file to check the current peak flows\n",
        "#     modified_inp = SwmmInput(\"modified_least_cost.inp\") # call this so that the swmm library will update its parameters as well\n",
        "\n",
        "\n",
        "#     # Get values for the target pipe after applying the rainfall scenario\n",
        "#     flow, size, slope = get_pipe_values(modified_inp, target_pipe)\n",
        "\n",
        "#     # Calculate the change in flow rate\n",
        "#     flow_change = flow - initial_flow\n",
        "\n",
        "#     # Print the results\n",
        "#     print(f\"\\nScenario: {scenario}\")\n",
        "#     print(f\"Flow Rate Change for {target_pipe}: {flow_change}\")\n",
        "#     print(f\"Flow Rate of {target_pipe}: {flow}\")\n",
        "#     print(f\"Size of {target_pipe}: {size}\")\n",
        "#     print(f\"Slope of {target_pipe}: {slope}\")"
      ],
      "metadata": {
        "id": "bRWs3310vaJF"
      },
      "execution_count": null,
      "outputs": []
    }
  ]
}