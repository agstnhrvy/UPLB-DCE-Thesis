{
  "nbformat": 4,
  "nbformat_minor": 0,
  "metadata": {
    "colab": {
      "provenance": [],
      "toc_visible": true,
      "authorship_tag": "ABX9TyPJs1hUpmfZwI4O6f63YpFU",
      "include_colab_link": true
    },
    "kernelspec": {
      "name": "python3",
      "display_name": "Python 3"
    },
    "language_info": {
      "name": "python"
    }
  },
  "cells": [
    {
      "cell_type": "markdown",
      "metadata": {
        "id": "view-in-github",
        "colab_type": "text"
      },
      "source": [
        "<a href=\"https://colab.research.google.com/github/agstnhrvy/UPLB-DCE-Thesis/blob/main/Thesis_Code_%5BOrganized%5D1.ipynb\" target=\"_parent\"><img src=\"https://colab.research.google.com/assets/colab-badge.svg\" alt=\"Open In Colab\"/></a>"
      ]
    },
    {
      "cell_type": "markdown",
      "source": [
        "# Importing Libraries\n"
      ],
      "metadata": {
        "id": "R7RO9561bN-f"
      }
    },
    {
      "cell_type": "code",
      "source": [
        "# Thesis Project\n",
        "# To properly install pyswmm and swmm-api to the Python file, select the python interpreter from the venv\\Scripts\\python.exe then install both libraries using \"pip install ...\"\n",
        "\n",
        "!pip install pyswmm\n",
        "!pip install swmm_api\n",
        "!pip install swmm5\n",
        "!pip install openpyxl\n",
        "import math\n",
        "import itertools\n",
        "import os, sys\n",
        "import swmm5\n",
        "from pyswmm import Simulation, Links\n",
        "from pyswmm.swmm5 import SWMMException\n",
        "from pyswmm.nodes import Nodes\n",
        "from swmm_api import SwmmInput, SwmmOutput, SwmmReport\n",
        "from swmm_api.input_file.section_labels import JUNCTIONS, CONDUITS\n",
        "from swmm_api.input_file.sections import Conduit\n",
        "from swmm.toolkit.shared_enum import LinkResult\n",
        "from google.colab import files\n",
        "import pandas as pd\n",
        "import re\n",
        "import copy"
      ],
      "metadata": {
        "id": "3JCNgyg4bR2J",
        "collapsed": true
      },
      "execution_count": null,
      "outputs": []
    },
    {
      "cell_type": "markdown",
      "source": [
        "# File Upload"
      ],
      "metadata": {
        "id": "41jhUVVTbUim"
      }
    },
    {
      "cell_type": "code",
      "source": [
        "uploaded = files.upload()\n",
        "\n",
        "inp = SwmmInput(\"Inlet_Drains_Model1.inp\")\n",
        "out = SwmmOutput(\"Inlet_Drains_Model1.out\")\n",
        "rpt = SwmmReport(\"Inlet_Drains_Model1.rpt\")\n",
        "available_sizes = uploaded[\"Available Sizes.txt\"]\n",
        "print(\"Uploaded files:\", os.listdir())\n",
        "conduits_df = inp[\"CONDUITS\"]\n",
        "print(conduits_df)"
      ],
      "metadata": {
        "id": "Zq6dPiGybZPd",
        "collapsed": true
      },
      "execution_count": null,
      "outputs": []
    },
    {
      "cell_type": "markdown",
      "source": [
        "# Boundary Parameters"
      ],
      "metadata": {
        "id": "aDGt-PtxbcIp"
      }
    },
    {
      "cell_type": "code",
      "source": [
        "peak_flow_dict = {}\n",
        "peak_flow =  {}\n",
        "peak_vel = {}\n",
        "adjust_pipe_size = {}\n",
        "pipe_geometry = {}\n",
        "conduit_ids = []\n",
        "link_length = {}\n",
        "in_offset = {}\n",
        "out_offset = {}\n",
        "vel_min = 0.8\n",
        "vel_max = 5\n",
        "geom1 = {}\n",
        "geom2 = {}\n",
        "geom3 = {}\n",
        "geom4 = {}\n",
        "trials = {}\n",
        "velocity = {}"
      ],
      "metadata": {
        "id": "Y4s_HHOGbcdk"
      },
      "execution_count": 73,
      "outputs": []
    },
    {
      "cell_type": "markdown",
      "source": [
        "# Data Frame"
      ],
      "metadata": {
        "id": "uzm6qT-_bopR"
      }
    },
    {
      "cell_type": "code",
      "source": [
        "conduits = inp['CONDUITS']\n",
        "xsections = inp['XSECTIONS']\n",
        "junctions_data = inp['JUNCTIONS']\n",
        "outfalls_data = inp['OUTFALLS']\n",
        "\n",
        "# Store results\n",
        "conduit_info = []"
      ],
      "metadata": {
        "id": "marNgPOObsTW"
      },
      "execution_count": 74,
      "outputs": []
    },
    {
      "cell_type": "markdown",
      "source": [
        "# Accessing Data Dictionary"
      ],
      "metadata": {
        "id": "r659Ig2csIHo"
      }
    },
    {
      "cell_type": "code",
      "source": [
        "for conduit_name, conduit_data in inp[\"CONDUITS\"].items():\n",
        "  conduit_dict = vars(conduit_data) # Access all data in Conduit\n",
        "  print (conduit_dict)\n",
        "\n",
        "print(xsections)  # Print the content of the xsections InpSection object\n",
        "for xsection_name, xsection_data in xsections.items():\n",
        "  print(xsection_data)  # Print the name of each parameter in the xsections section"
      ],
      "metadata": {
        "collapsed": true,
        "id": "LWYD9FfusMFM"
      },
      "execution_count": null,
      "outputs": []
    },
    {
      "cell_type": "markdown",
      "source": [
        "# Data Gathering"
      ],
      "metadata": {
        "id": "3H5Avu-Dbu6x"
      }
    },
    {
      "cell_type": "code",
      "source": [
        "with Simulation(\"Inlet_Drains_Model1.inp\") as sim:\n",
        "  for step in sim:\n",
        "    pass\n",
        "\n",
        "for conduit_name, conduit_data in inp[\"CONDUITS\"].items():\n",
        "  # Access individual conduit properties using the appropriate keys\n",
        "  length = conduit_data.length  # Accessing the length property\n",
        "  peak_flow = conduit_data.flow_max\n",
        "  in_offset = conduit_data.offset_upstream # parameter for inlet offset\n",
        "  out_offset = conduit_data.offset_downstream # parameter for outlet offset\n",
        "\n",
        "  for xsection_name, xsection_data in xsections.items():\n",
        "    shape = xsection_data.shape\n",
        "    geom1 = xsection_data.height # height is geom1 for most shapes\n",
        "    geom2 = xsection_data.parameter_2 # parameter_2 is geom2 for most shapes\n",
        "    geom3 = xsection_data.parameter_3 # parameter_3 is geom3 for most shapes\n",
        "    geom4 = xsection_data.parameter_4 # parameter_4 is geom4 for most shapes\n",
        "    # To get the idea of Geom 1 to Geom 4, see the guide attached in the Code Documentation in Google Docs\n",
        "\n",
        "  print (f\"Section Name: {xsection_name}\")\n",
        "  print (f\"Length: {length} m\")\n",
        "  print (f\"Max Flow: {peak_flow} m3/s\")\n",
        "  print (f\"Shape: {shape}\")\n",
        "  print (f\"Geometry Parameters: {geom1} m, {geom2} m, {geom3} m, {geom4} m\")\n",
        "  print (f\"Inlet Offset: {in_offset} m\")\n",
        "  print (f\"Outlet Offset: {out_offset} m\")"
      ],
      "metadata": {
        "id": "3e_9tT7obxg7",
        "collapsed": true
      },
      "execution_count": null,
      "outputs": []
    },
    {
      "cell_type": "markdown",
      "source": [
        "# Optimization\n"
      ],
      "metadata": {
        "id": "41iNAWpA5_Gv"
      }
    },
    {
      "cell_type": "markdown",
      "source": [
        "Arrange Conduits based on Pipe Flow"
      ],
      "metadata": {
        "id": "nF8V3tmK26BS"
      }
    },
    {
      "cell_type": "code",
      "source": [
        "# Get network topology\n",
        "conduit_connections = {}\n",
        "for conduit_name, conduit_data in inp['CONDUITS'].items():\n",
        "    conduit_connections[conduit_name] = {\n",
        "        'upstream': conduit_data.from_node,\n",
        "        'downstream': conduit_data.to_node\n",
        "    }\n",
        "\n",
        "# Get all outfall node names from the SWMM input file\n",
        "outfall_node_names = list(inp['OUTFALLS'].keys())\n",
        "\n",
        "def is_outfall_node(node):\n",
        "    \"\"\"Checks if a node is an outfall node.\"\"\"\n",
        "    return node in outfall_node_names  # Direct comparison with outfall node names\n",
        "\n",
        "def trace_upstream_flow(start_node, path=None):\n",
        "    \"\"\"Traces the flow path upstream from a given node, including junctions.\"\"\"\n",
        "    if path is None:\n",
        "        path = []\n",
        "\n",
        "    path.append(start_node)  # Add the current node (junction or outfall) to the path\n",
        "\n",
        "    # Find conduits connected to the current node as the downstream\n",
        "    connected_conduits = [\n",
        "        conduit_name\n",
        "        for conduit_name, data in conduit_connections.items()\n",
        "        if data['downstream'] == start_node\n",
        "    ]\n",
        "\n",
        "    # If no upstream conduits are found, it's the outermost junction\n",
        "    if not connected_conduits:\n",
        "        return path  # Return the path including the outermost junction\n",
        "\n",
        "    # Trace upstream for each connected conduit\n",
        "    for conduit_name in connected_conduits:\n",
        "        upstream_node = conduit_connections[conduit_name]['upstream']\n",
        "        new_path = trace_upstream_flow(upstream_node, path + [conduit_name])  # Include conduit in the path\n",
        "        if new_path:\n",
        "            return new_path\n",
        "\n",
        "    return None  # Return None if no path is found (should not happen in a well-defined network)\n",
        "\n",
        "\n",
        "flow_paths = {}\n",
        "for outfall_node_name in outfall_node_names:\n",
        "    flow_path = trace_upstream_flow(outfall_node_name)\n",
        "    flow_paths[outfall_node_name] = flow_path\n",
        "\n",
        "# Show results\n",
        "for outfall_node, flow_path in flow_paths.items():\n",
        "    flow_path.reverse() # Reverse the flow path list\n",
        "    print(f\"Flow Path for {outfall_node}: {flow_path}\")\n",
        "\n",
        "    # Separate conduits and junctions for clearer output (optional)\n",
        "    conduits = [item for item in flow_path if item in conduit_connections]\n",
        "    junctions = [item for item in flow_path if item not in conduit_connections]\n",
        "    print(f\"Sorted Conduits for {outfall_node}: {conduits}\")\n",
        "    print(f\"Junctions in Path: {junctions}\")"
      ],
      "metadata": {
        "collapsed": true,
        "id": "fmjRANRJ5-y1"
      },
      "execution_count": null,
      "outputs": []
    },
    {
      "cell_type": "markdown",
      "source": [
        "Identify the Invert Elevations of the Conduits"
      ],
      "metadata": {
        "id": "CsoK-urL9ebU"
      }
    },
    {
      "cell_type": "code",
      "source": [
        "conduit_info = []\n",
        "for conduit_name, conduit_data in inp['CONDUITS'].items():\n",
        "    upstream_junction = conduit_data.from_node\n",
        "    downstream_junction = conduit_data.to_node\n",
        "\n",
        "    upstream_invert = junctions_data[upstream_junction].elevation\n",
        "\n",
        "    # Check if downstream node is an outfall\n",
        "    if downstream_junction in outfalls_data:\n",
        "        downstream_invert = outfalls_data[downstream_junction].elevation  # Get elevation from outfalls_data\n",
        "    elif downstream_junction in junctions_data:\n",
        "        downstream_invert = junctions_data[downstream_junction].elevation  # Get elevation from junctions_data if it's a junction\n",
        "    else:\n",
        "        print(f\"Warning: Downstream node '{downstream_junction}' not found in junctions or outfalls data.\")\n",
        "        downstream_invert = None  # or some default value\n",
        "\n",
        "    length = conduit_data.length\n",
        "\n",
        "    if downstream_invert is not None:\n",
        "        slope = (upstream_invert - downstream_invert) / length\n",
        "    else:\n",
        "        slope = None\n",
        "    # Input all data gathered and solve in a DataFrame\n",
        "    conduit_info.append([conduit_name, upstream_junction, upstream_invert, downstream_junction, downstream_invert, length, slope])\n",
        "\n",
        "    print(f\"Conduit: {conduit_name}; From: {upstream_junction} To: {downstream_junction}\")\n",
        "    print(f\"Upstream Invert Elevation: {upstream_invert} m\")\n",
        "    print(f\"Downstream Invert Elevation: {downstream_invert} m\")\n",
        "    print(f\"Slope: {slope}\")\n",
        "\n",
        "# Exporting DataFrame as an .xlsx File\n",
        "conduit_df = pd.DataFrame(conduit_info, columns=['Conduit', 'From Node', 'Upstream Invert', 'To Node', 'Downstream Invert', 'Length', 'Slope'])\n",
        "\n",
        "conduit_df.to_excel(\"conduit_analysis_data.xlsx\", index=False)\n",
        "\n"
      ],
      "metadata": {
        "collapsed": true,
        "id": "xkmxUOlj9bpT"
      },
      "execution_count": null,
      "outputs": []
    },
    {
      "cell_type": "markdown",
      "source": [
        "Continuity Equation"
      ],
      "metadata": {
        "id": "KcdHEuAr6TGn"
      }
    },
    {
      "cell_type": "code",
      "source": [
        "# Function for adjusting Pipe Sizes\n",
        "def adjust_pipe_size (peak_flow, peak_vel):\n",
        "    Area = peak_flow / peak_vel\n",
        "    new_diameter = math.sqrt( Area / (0.25 * math.pi))\n",
        "\n",
        "    pass"
      ],
      "metadata": {
        "id": "9XYKajux6YlC"
      },
      "execution_count": null,
      "outputs": []
    },
    {
      "cell_type": "markdown",
      "source": [
        "Function: Identifying Peak Flow Rates"
      ],
      "metadata": {
        "id": "DZ87_rE2WMLO"
      }
    },
    {
      "cell_type": "code",
      "source": [
        "def peak_flow(inp):\n",
        "  with Simulation(inp) as sim:\n",
        "    for step in sim:\n",
        "      pass\n",
        "\n",
        "    peak_flow = {}\n",
        "    for conduit_name, conduit_data in inp[\"CONDUITS\"]:\n",
        "      peak_flow = conduit_data.flow_max\n",
        "  return peak_flow"
      ],
      "metadata": {
        "id": "BbSmwJdlWPux"
      },
      "execution_count": null,
      "outputs": []
    },
    {
      "cell_type": "markdown",
      "source": [
        "Function: Identifying Suitable Pipe Sizes"
      ],
      "metadata": {
        "id": "1FKoKkE9Qehz"
      }
    },
    {
      "cell_type": "code",
      "source": [
        "def find_suitable_sizes(conduit_name, available_sizes, peak_flow):\n",
        "  suitable_sizes = []\n",
        "  with open(available_sizes) as file:\n",
        "    for line in file:\n",
        "      size = float(line.strip())\n",
        "      velocity = peak_flow / (math.pi * size^2 * 0.25)\n",
        "      if vel_min <= velocity <= vel_max:\n",
        "        suitable_sizes.append(size)\n",
        "  return suitable_sizes"
      ],
      "metadata": {
        "id": "X4qjv3q_QjVb"
      },
      "execution_count": null,
      "outputs": []
    },
    {
      "cell_type": "markdown",
      "source": [
        "Function: Construction Cost"
      ],
      "metadata": {
        "id": "hxAFTSaeA-qR"
      }
    },
    {
      "cell_type": "code",
      "source": [
        "# Function for the Computation of Construction Costs\n",
        "def construction_costs (unit_cost, length, size):\n",
        "  pass"
      ],
      "metadata": {
        "id": "6L2XHSEYBFe2"
      },
      "execution_count": null,
      "outputs": []
    },
    {
      "cell_type": "markdown",
      "source": [
        "Function: Identifying the Largest Pipe Size and Minimum Slope"
      ],
      "metadata": {
        "id": "1XBzqkSu6eC6"
      }
    },
    {
      "cell_type": "code",
      "source": [
        "# Identify the largest pipe size available and the minimum slope possible\n",
        "def largest_size(available_sizes):\n",
        "  largest_size = 0.0\n",
        "  with open(available_sizes) as file:\n",
        "    for line in file:\n",
        "      try:\n",
        "        size = float(line.strip())\n",
        "        if size > largest_size:\n",
        "          largest_size = size\n",
        "      except ValueError:\n",
        "        print (f\"Skipping Invalid Line: {line.strip()}\")\n",
        "  return largest_size\n",
        "\n",
        "available_sizes = \"Available Sizes.txt\"\n",
        "largest_size = largest_size(available_sizes)\n",
        "print(f\"Largest Pipe Size: {largest_size} m\")"
      ],
      "metadata": {
        "id": "tk2GjwjS6jX3"
      },
      "execution_count": null,
      "outputs": []
    },
    {
      "cell_type": "markdown",
      "source": [
        "Initializing Pipe Sizes and Slopes"
      ],
      "metadata": {
        "id": "sWbylKZx8nxq"
      }
    },
    {
      "cell_type": "code",
      "source": [
        "# Set all pipe sizes to largest_size\n",
        "for xsection_name, xsection_data in inp[\"CONDUITS\"].items():\n",
        "  xsection_data.height = largest_size(available_sizes)\n",
        "\n",
        "# Saving data before Simulation\n",
        "inp.write_file(\"Modified_Inlet_Drains_Model1.inp\")"
      ],
      "metadata": {
        "id": "F81I6bP78x2m"
      },
      "execution_count": null,
      "outputs": []
    },
    {
      "cell_type": "markdown",
      "source": [
        "Simulation of Data before Optimization"
      ],
      "metadata": {
        "id": "vHTiupREBF2n"
      }
    },
    {
      "cell_type": "code",
      "source": [
        "# Simulation of Data\n",
        "with Simulation(\"Modified_Inlet_Drains_Model1.inp\") as sim:\n",
        "  for step in sim:\n",
        "    pass"
      ],
      "metadata": {
        "id": "S0uGu_T4BIkS"
      },
      "execution_count": null,
      "outputs": []
    },
    {
      "cell_type": "markdown",
      "source": [
        "Optimization of Pipe Sizes and Slopes"
      ],
      "metadata": {
        "id": "aI4uCS5FBOKb"
      }
    },
    {
      "cell_type": "code",
      "source": [
        "# Optimization of Sizes and Slopes\n",
        "for conduit_name, conduit_data in inp[\"CONDUITS\"].items():\n",
        "  # Access individual conduit properties using the appropriate keys\n",
        "  length = conduit_data.length  # Accessing the length property\n",
        "  peak_flow = conduit_data.flow_max\n",
        "  in_offset = conduit_data.offset_upstream\n",
        "  out_offset = conduit_data.offset_downstream\n",
        "\n",
        "  for xsection_name, xsection_data in inp[\"CONDUITS\"].items():\n",
        "    shape = xsection_data.shape\n",
        "    geom1 = xsection_data.height\n",
        "    geom2 = xsection_data.parameter_2\n",
        "    geom3 = xsection_data.parameter_3\n",
        "    geom4 = xsection_data.parameter_4\n",
        "\n",
        "    # Get all possible sets of output sizes based on which diameters satisfy the parameters\n",
        "    with open(available_sizes) as file:\n",
        "      for line in file:\n",
        "        size = float(line.strip())\n",
        "\n",
        "        for n in trials():\n",
        "\n",
        "          velocity = peak_flow / (math.pi()*size^2*0.25)\n",
        "\n",
        "          if velocity >= vel_min and velocity <= vel_max:\n",
        "            geom1 = size\n",
        "          # Check GDocs after\n",
        "          # Consider water flow in the data frame of Conduits"
      ],
      "metadata": {
        "id": "jv1Yi8t0BSHn"
      },
      "execution_count": null,
      "outputs": []
    },
    {
      "cell_type": "markdown",
      "source": [
        "Optimization Test 1"
      ],
      "metadata": {
        "id": "7AqQil7bH-uP"
      }
    },
    {
      "cell_type": "code",
      "source": [
        "# Get initial peak flow rates (using your peak_flow_rates function or similar)\n",
        "initial_peak_flows = peak_flow(rpt)  # Replace with your actual function call\n",
        "\n",
        "# Define velocity constraints\n",
        "vel_min = 0.8\n",
        "vel_max = 5\n",
        "\n",
        "# Function to find suitable sizes for a given conduit and peak flow\n",
        "def find_suitable_sizes(conduit_name, peak_flow):\n",
        "    suitable_sizes = []\n",
        "    with open(\"Available Sizes.txt\") as file:  # Assuming your available sizes are in this file\n",
        "        for line in file:\n",
        "            size = float(line.strip())\n",
        "            velocity = peak_flow / (math.pi * size**2 * 0.25)\n",
        "            if vel_min <= velocity <= vel_max:\n",
        "                suitable_sizes.append(size)\n",
        "    return suitable_sizes\n",
        "\n",
        "# Optimization loop\n",
        "for outfall_node, flow_path in flow_paths.items():\n",
        "    conduits_in_path = [item for item in flow_path if item in conduit_connections]\n",
        "\n",
        "    # Optimize starting pipes simultaneously\n",
        "    starting_pipes = [conduits_in_path[0]]  # Get the first conduit in the path\n",
        "\n",
        "    suitable_sizes_per_pipe = {pipe: find_suitable_sizes(pipe, initial_peak_flows[pipe]) for pipe in starting_pipes}\n",
        "    all_size_combinations = list(itertools.product(*[suitable_sizes_per_pipe[pipe] for pipe in starting_pipes]))\n",
        "\n",
        "    for size_combination in all_size_combinations:\n",
        "        modified_inp = inp.copy()\n",
        "\n",
        "        # Modify pipe sizes for all starting pipes\n",
        "        for i, pipe in enumerate(starting_pipes):\n",
        "            modified_inp[\"CONDUITS\"][pipe].height = size_combination[i]\n",
        "\n",
        "        # Write modified input file and run simulation\n",
        "        modified_inp.write_file(\"modified_input.inp\")\n",
        "        with Simulation(\"modified_input.inp\") as sim:\n",
        "            for step in sim:\n",
        "                pass\n",
        "\n",
        "        # Get updated peak flow rates for next conduits in the series\n",
        "        # ... (use rpt object to get peak flow rates for downstream conduits) ...\n",
        "\n",
        "        # Iterate downstream and optimize remaining conduits\n",
        "        # ... (use similar logic as for starting pipes, but with updated peak flow rates) ..."
      ],
      "metadata": {
        "id": "H5dnPXkmIAts"
      },
      "execution_count": null,
      "outputs": []
    },
    {
      "cell_type": "markdown",
      "source": [
        "Optimization Test 2"
      ],
      "metadata": {
        "id": "KDTvzr8HS1v4"
      }
    },
    {
      "cell_type": "code",
      "source": [
        "# suitable_sizes = find_suitable_sizes(conduit_name, available_sizes, peak_flow)\n",
        "\n",
        "# Optimization loop\n",
        "# Get all starting pipes from all flow paths\n",
        "all_starting_pipes = []\n",
        "for outfall_node, flow_path in flow_paths.items():\n",
        "    conduits_in_path = [item for item in flow_path if item in conduit_connections]\n",
        "    all_starting_pipes.append(conduits_in_path[0])\n",
        "\n",
        "# Run initial simulation to get initial peak flows\n",
        "initial_peak_flows = peak_flow(\"Inlet_Drains_Model1.inp\")\n",
        "\n",
        "# Get suitable sizes for all starting pipes\n",
        "suitable_sizes_per_pipe = {\n",
        "    pipe: find_suitable_sizes(pipe, initial_peak_flows[pipe])\n",
        "    for pipe in all_starting_pipes\n",
        "}\n",
        "\n",
        "# Generate all size combinations for all starting pipes\n",
        "all_size_combinations = list(itertools.product(*[suitable_sizes_per_pipe[pipe] for pipe in all_starting_pipes]))\n",
        "\n",
        "# Optimization for all starting pipes simultaneously\n",
        "for size_combination in all_size_combinations:\n",
        "    modified_inp = copy.deepcopy(inp)\n",
        "\n",
        "    # Modify pipe sizes for all starting pipes\n",
        "    for i, pipe in enumerate(all_starting_pipes):\n",
        "        modified_inp[\"CONDUITS\"][pipe].height = size_combination[i]\n",
        "\n",
        "    # Save modified inp to a separate file\n",
        "    file_name = f\"modified_input_{'_'.join(map(str, size_combination))}.inp\"\n",
        "    modified_inp.write_file(file_name)\n",
        "\n",
        "    # Run simulation for the saved inp file\n",
        "    updated_peak_flows = peak_flow(file_name)\n",
        "\n",
        "    # ... (use updated_peak_flows to get peak flow rates for downstream conduits) ...\n",
        "\n",
        "    # Iterate downstream and optimize remaining conduits\n",
        "    # ... (use similar logic as for starting pipes, but with updated peak flow rates) ...\n",
        ""
      ],
      "metadata": {
        "id": "UCDviX21S3TT"
      },
      "execution_count": null,
      "outputs": []
    },
    {
      "cell_type": "markdown",
      "source": [
        "Optimization Test 3"
      ],
      "metadata": {
        "id": "E6Bo1bQgYmph"
      }
    },
    {
      "cell_type": "code",
      "source": [
        "# Optimization loop\n",
        "for outfall_node, flow_path in flow_paths.items():\n",
        "    conduits_in_path = [item for item in flow_path if item in conduit_connections]\n",
        "\n",
        "    # --- Start with initial simulation ---\n",
        "    current_peak_flows = peak_flow(\"Inlet_Drains_Model1.inp\")  # Assuming initial input file name\n",
        "    modified_inp = copy.deepcopy(inp)\n",
        "\n",
        "    # --- Iterate through conduits in the path ---\n",
        "    for i, conduit_name in enumerate(conduits_in_path):\n",
        "        suitable_sizes = find_suitable_sizes(conduit_name, current_peak_flows[conduit_name])\n",
        "\n",
        "        # --- Try each suitable size for the current conduit ---\n",
        "        for size in suitable_sizes:\n",
        "            modified_inp[\"CONDUITS\"][conduit_name].height = size\n",
        "\n",
        "            # Save modified inp to a separate file\n",
        "            file_name = f\"modified_input_{conduit_name}_{size}.inp\"\n",
        "            modified_inp.write_file(file_name)\n",
        "\n",
        "            # Run simulation for the saved inp file\n",
        "            current_peak_flows = peak_flow(file_name)  # Update peak flows for next conduit\n",
        "\n",
        "            # ... (You can add logic here to compare results or store data) ...\n",
        "\n",
        "        # --- After trying all sizes for current conduit, move to the next ---\n",
        "\n",
        "    # --- After processing all conduits in the path, move to the next flow path ---"
      ],
      "metadata": {
        "id": "3XZmtH-hYoG0"
      },
      "execution_count": null,
      "outputs": []
    }
  ]
}