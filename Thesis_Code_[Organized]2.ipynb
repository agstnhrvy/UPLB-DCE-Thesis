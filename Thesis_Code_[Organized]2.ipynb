{
  "nbformat": 4,
  "nbformat_minor": 0,
  "metadata": {
    "colab": {
      "provenance": [],
      "toc_visible": true,
      "authorship_tag": "ABX9TyPtTfM+K4iqVvLwbjk+eAzL",
      "include_colab_link": true
    },
    "kernelspec": {
      "name": "python3",
      "display_name": "Python 3"
    },
    "language_info": {
      "name": "python"
    }
  },
  "cells": [
    {
      "cell_type": "markdown",
      "metadata": {
        "id": "view-in-github",
        "colab_type": "text"
      },
      "source": [
        "<a href=\"https://colab.research.google.com/github/agstnhrvy/UPLB-DCE-Thesis/blob/main/Thesis_Code_%5BOrganized%5D2.ipynb\" target=\"_parent\"><img src=\"https://colab.research.google.com/assets/colab-badge.svg\" alt=\"Open In Colab\"/></a>"
      ]
    },
    {
      "cell_type": "markdown",
      "source": [
        "# Importing Libraries\n"
      ],
      "metadata": {
        "id": "R7RO9561bN-f"
      }
    },
    {
      "cell_type": "code",
      "source": [
        "# Thesis Project\n",
        "# To properly install pyswmm and swmm-api to the Python file, select the python interpreter from the venv\\Scripts\\python.exe then install both libraries using \"pip install ...\"\n",
        "\n",
        "!pip install pyswmm\n",
        "!pip install swmm_api\n",
        "!pip install swmm5\n",
        "!pip install openpyxl\n",
        "import math\n",
        "import itertools\n",
        "import os, sys\n",
        "import swmm5\n",
        "from pyswmm import Simulation, Links\n",
        "from pyswmm.swmm5 import SWMMException\n",
        "from pyswmm.nodes import Nodes\n",
        "from swmm_api import SwmmInput, SwmmOutput, SwmmReport\n",
        "from swmm_api.input_file.section_labels import JUNCTIONS, CONDUITS\n",
        "from swmm_api.input_file.sections import Conduit\n",
        "from swmm.toolkit.shared_enum import LinkResult\n",
        "from google.colab import files\n",
        "import pandas as pd\n",
        "import re\n",
        "import copy"
      ],
      "metadata": {
        "id": "3JCNgyg4bR2J",
        "collapsed": true,
        "colab": {
          "base_uri": "https://localhost:8080/"
        },
        "outputId": "96914d59-9b10-478e-bc87-aec79e8653c6"
      },
      "execution_count": 23,
      "outputs": [
        {
          "output_type": "stream",
          "name": "stdout",
          "text": [
            "Requirement already satisfied: pyswmm in /usr/local/lib/python3.11/dist-packages (2.0.1)\n",
            "Requirement already satisfied: swmm-toolkit>=0.9.0 in /usr/local/lib/python3.11/dist-packages (from pyswmm) (0.15.5)\n",
            "Requirement already satisfied: julian>=0.14 in /usr/local/lib/python3.11/dist-packages (from pyswmm) (0.14)\n",
            "Requirement already satisfied: aenum>=3.1.11 in /usr/local/lib/python3.11/dist-packages (from pyswmm) (3.1.11)\n",
            "Requirement already satisfied: packaging in /usr/local/lib/python3.11/dist-packages (from pyswmm) (24.2)\n",
            "Requirement already satisfied: swmm_api in /usr/local/lib/python3.11/dist-packages (0.4.66)\n",
            "Requirement already satisfied: pandas in /usr/local/lib/python3.11/dist-packages (from swmm_api) (2.2.2)\n",
            "Requirement already satisfied: tqdm in /usr/local/lib/python3.11/dist-packages (from swmm_api) (4.67.1)\n",
            "Requirement already satisfied: packaging in /usr/local/lib/python3.11/dist-packages (from swmm_api) (24.2)\n",
            "Requirement already satisfied: numpy>=1.23.2 in /usr/local/lib/python3.11/dist-packages (from pandas->swmm_api) (2.0.2)\n",
            "Requirement already satisfied: python-dateutil>=2.8.2 in /usr/local/lib/python3.11/dist-packages (from pandas->swmm_api) (2.8.2)\n",
            "Requirement already satisfied: pytz>=2020.1 in /usr/local/lib/python3.11/dist-packages (from pandas->swmm_api) (2025.2)\n",
            "Requirement already satisfied: tzdata>=2022.7 in /usr/local/lib/python3.11/dist-packages (from pandas->swmm_api) (2025.2)\n",
            "Requirement already satisfied: six>=1.5 in /usr/local/lib/python3.11/dist-packages (from python-dateutil>=2.8.2->pandas->swmm_api) (1.17.0)\n",
            "Requirement already satisfied: swmm5 in /usr/local/lib/python3.11/dist-packages (5.2.4)\n",
            "Requirement already satisfied: openpyxl in /usr/local/lib/python3.11/dist-packages (3.1.5)\n",
            "Requirement already satisfied: et-xmlfile in /usr/local/lib/python3.11/dist-packages (from openpyxl) (2.0.0)\n"
          ]
        }
      ]
    },
    {
      "cell_type": "markdown",
      "source": [
        "# File Upload"
      ],
      "metadata": {
        "id": "41jhUVVTbUim"
      }
    },
    {
      "cell_type": "code",
      "source": [
        "uploaded = files.upload()\n",
        "\n",
        "inp = SwmmInput(\"Inlet_Drains_Model1.inp\")\n",
        "out = SwmmOutput(\"Inlet_Drains_Model1.out\")\n",
        "rpt = SwmmReport(\"Inlet_Drains_Model1.rpt\")\n",
        "available_sizes = uploaded[\"Available Sizes.txt\"]\n",
        "print(\"Uploaded files:\", os.listdir())\n",
        "conduits_df = inp[\"CONDUITS\"]\n",
        "print(conduits_df)"
      ],
      "metadata": {
        "id": "Zq6dPiGybZPd",
        "collapsed": true,
        "colab": {
          "base_uri": "https://localhost:8080/",
          "height": 233
        },
        "outputId": "de1d2101-37c2-4e5d-ec9a-005fb07d3cb0"
      },
      "execution_count": 24,
      "outputs": [
        {
          "output_type": "display_data",
          "data": {
            "text/plain": [
              "<IPython.core.display.HTML object>"
            ],
            "text/html": [
              "\n",
              "     <input type=\"file\" id=\"files-d4582732-00a4-4a90-9b55-6044afc6ee75\" name=\"files[]\" multiple disabled\n",
              "        style=\"border:none\" />\n",
              "     <output id=\"result-d4582732-00a4-4a90-9b55-6044afc6ee75\">\n",
              "      Upload widget is only available when the cell has been executed in the\n",
              "      current browser session. Please rerun this cell to enable.\n",
              "      </output>\n",
              "      <script>// Copyright 2017 Google LLC\n",
              "//\n",
              "// Licensed under the Apache License, Version 2.0 (the \"License\");\n",
              "// you may not use this file except in compliance with the License.\n",
              "// You may obtain a copy of the License at\n",
              "//\n",
              "//      http://www.apache.org/licenses/LICENSE-2.0\n",
              "//\n",
              "// Unless required by applicable law or agreed to in writing, software\n",
              "// distributed under the License is distributed on an \"AS IS\" BASIS,\n",
              "// WITHOUT WARRANTIES OR CONDITIONS OF ANY KIND, either express or implied.\n",
              "// See the License for the specific language governing permissions and\n",
              "// limitations under the License.\n",
              "\n",
              "/**\n",
              " * @fileoverview Helpers for google.colab Python module.\n",
              " */\n",
              "(function(scope) {\n",
              "function span(text, styleAttributes = {}) {\n",
              "  const element = document.createElement('span');\n",
              "  element.textContent = text;\n",
              "  for (const key of Object.keys(styleAttributes)) {\n",
              "    element.style[key] = styleAttributes[key];\n",
              "  }\n",
              "  return element;\n",
              "}\n",
              "\n",
              "// Max number of bytes which will be uploaded at a time.\n",
              "const MAX_PAYLOAD_SIZE = 100 * 1024;\n",
              "\n",
              "function _uploadFiles(inputId, outputId) {\n",
              "  const steps = uploadFilesStep(inputId, outputId);\n",
              "  const outputElement = document.getElementById(outputId);\n",
              "  // Cache steps on the outputElement to make it available for the next call\n",
              "  // to uploadFilesContinue from Python.\n",
              "  outputElement.steps = steps;\n",
              "\n",
              "  return _uploadFilesContinue(outputId);\n",
              "}\n",
              "\n",
              "// This is roughly an async generator (not supported in the browser yet),\n",
              "// where there are multiple asynchronous steps and the Python side is going\n",
              "// to poll for completion of each step.\n",
              "// This uses a Promise to block the python side on completion of each step,\n",
              "// then passes the result of the previous step as the input to the next step.\n",
              "function _uploadFilesContinue(outputId) {\n",
              "  const outputElement = document.getElementById(outputId);\n",
              "  const steps = outputElement.steps;\n",
              "\n",
              "  const next = steps.next(outputElement.lastPromiseValue);\n",
              "  return Promise.resolve(next.value.promise).then((value) => {\n",
              "    // Cache the last promise value to make it available to the next\n",
              "    // step of the generator.\n",
              "    outputElement.lastPromiseValue = value;\n",
              "    return next.value.response;\n",
              "  });\n",
              "}\n",
              "\n",
              "/**\n",
              " * Generator function which is called between each async step of the upload\n",
              " * process.\n",
              " * @param {string} inputId Element ID of the input file picker element.\n",
              " * @param {string} outputId Element ID of the output display.\n",
              " * @return {!Iterable<!Object>} Iterable of next steps.\n",
              " */\n",
              "function* uploadFilesStep(inputId, outputId) {\n",
              "  const inputElement = document.getElementById(inputId);\n",
              "  inputElement.disabled = false;\n",
              "\n",
              "  const outputElement = document.getElementById(outputId);\n",
              "  outputElement.innerHTML = '';\n",
              "\n",
              "  const pickedPromise = new Promise((resolve) => {\n",
              "    inputElement.addEventListener('change', (e) => {\n",
              "      resolve(e.target.files);\n",
              "    });\n",
              "  });\n",
              "\n",
              "  const cancel = document.createElement('button');\n",
              "  inputElement.parentElement.appendChild(cancel);\n",
              "  cancel.textContent = 'Cancel upload';\n",
              "  const cancelPromise = new Promise((resolve) => {\n",
              "    cancel.onclick = () => {\n",
              "      resolve(null);\n",
              "    };\n",
              "  });\n",
              "\n",
              "  // Wait for the user to pick the files.\n",
              "  const files = yield {\n",
              "    promise: Promise.race([pickedPromise, cancelPromise]),\n",
              "    response: {\n",
              "      action: 'starting',\n",
              "    }\n",
              "  };\n",
              "\n",
              "  cancel.remove();\n",
              "\n",
              "  // Disable the input element since further picks are not allowed.\n",
              "  inputElement.disabled = true;\n",
              "\n",
              "  if (!files) {\n",
              "    return {\n",
              "      response: {\n",
              "        action: 'complete',\n",
              "      }\n",
              "    };\n",
              "  }\n",
              "\n",
              "  for (const file of files) {\n",
              "    const li = document.createElement('li');\n",
              "    li.append(span(file.name, {fontWeight: 'bold'}));\n",
              "    li.append(span(\n",
              "        `(${file.type || 'n/a'}) - ${file.size} bytes, ` +\n",
              "        `last modified: ${\n",
              "            file.lastModifiedDate ? file.lastModifiedDate.toLocaleDateString() :\n",
              "                                    'n/a'} - `));\n",
              "    const percent = span('0% done');\n",
              "    li.appendChild(percent);\n",
              "\n",
              "    outputElement.appendChild(li);\n",
              "\n",
              "    const fileDataPromise = new Promise((resolve) => {\n",
              "      const reader = new FileReader();\n",
              "      reader.onload = (e) => {\n",
              "        resolve(e.target.result);\n",
              "      };\n",
              "      reader.readAsArrayBuffer(file);\n",
              "    });\n",
              "    // Wait for the data to be ready.\n",
              "    let fileData = yield {\n",
              "      promise: fileDataPromise,\n",
              "      response: {\n",
              "        action: 'continue',\n",
              "      }\n",
              "    };\n",
              "\n",
              "    // Use a chunked sending to avoid message size limits. See b/62115660.\n",
              "    let position = 0;\n",
              "    do {\n",
              "      const length = Math.min(fileData.byteLength - position, MAX_PAYLOAD_SIZE);\n",
              "      const chunk = new Uint8Array(fileData, position, length);\n",
              "      position += length;\n",
              "\n",
              "      const base64 = btoa(String.fromCharCode.apply(null, chunk));\n",
              "      yield {\n",
              "        response: {\n",
              "          action: 'append',\n",
              "          file: file.name,\n",
              "          data: base64,\n",
              "        },\n",
              "      };\n",
              "\n",
              "      let percentDone = fileData.byteLength === 0 ?\n",
              "          100 :\n",
              "          Math.round((position / fileData.byteLength) * 100);\n",
              "      percent.textContent = `${percentDone}% done`;\n",
              "\n",
              "    } while (position < fileData.byteLength);\n",
              "  }\n",
              "\n",
              "  // All done.\n",
              "  yield {\n",
              "    response: {\n",
              "      action: 'complete',\n",
              "    }\n",
              "  };\n",
              "}\n",
              "\n",
              "scope.google = scope.google || {};\n",
              "scope.google.colab = scope.google.colab || {};\n",
              "scope.google.colab._files = {\n",
              "  _uploadFiles,\n",
              "  _uploadFilesContinue,\n",
              "};\n",
              "})(self);\n",
              "</script> "
            ]
          },
          "metadata": {}
        },
        {
          "output_type": "stream",
          "name": "stdout",
          "text": [
            "Saving Available Sizes.txt to Available Sizes.txt\n",
            "Saving Inlet_Drains_Model1.inp to Inlet_Drains_Model1.inp\n",
            "Saving Inlet_Drains_Model1.out to Inlet_Drains_Model1.out\n",
            "Saving Inlet_Drains_Model1.rpt to Inlet_Drains_Model1.rpt\n",
            "Uploaded files: ['.config', 'Inlet_Drains_Model1.inp', 'Inlet_Drains_Model1.out', '.ipynb_checkpoints', 'Inlet_Drains_Model1.rpt', 'Available Sizes.txt', 'sample_data']\n",
            "{'Street1': Conduit(name='Street1', from_node='Aux1', to_node='Aux2', length=377.31, roughness=0.016, offset_upstream=0.0, offset_downstream=0.0, flow_initial=0.0, flow_max=nan), 'Street2': Conduit(name='Street2', from_node='Aux2', to_node='Aux4', length=286.06, roughness=0.016, offset_upstream=0.0, offset_downstream=0.0, flow_initial=0.0, flow_max=nan), 'Street3': Conduit(name='Street3', from_node='Aux4', to_node='Aux5', length=239.41, roughness=0.016, offset_upstream=0.0, offset_downstream=0.0, flow_initial=0.0, flow_max=nan), 'Street4': Conduit(name='Street4', from_node='Aux5', to_node='Aux6', length=157.48, roughness=0.016, offset_upstream=0.0, offset_downstream=0.0, flow_initial=0.0, flow_max=nan), 'Street5': Conduit(name='Street5', from_node='Aux6', to_node='Aux7', length=526.0, roughness=0.016, offset_upstream=0.0, offset_downstream=0.0, flow_initial=0.0, flow_max=nan), 'C3': Conduit(name='C3', from_node='J3', to_node='J4', length=109.0, roughness=0.016, offset_upstream=0.0, offset_downstream=6.0, flow_initial=0.0, flow_max=nan), 'C4': Conduit(name='C4', from_node='J4', to_node='J5', length=133.0, roughness=0.05, offset_upstream=6.0, offset_downstream=4.0, flow_initial=0.0, flow_max=nan), 'C5': Conduit(name='C5', from_node='J5', to_node='J6', length=207.0, roughness=0.05, offset_upstream=4.0, offset_downstream=0.0, flow_initial=0.0, flow_max=nan), 'C6': Conduit(name='C6', from_node='J7', to_node='J6', length=140.0, roughness=0.05, offset_upstream=8.0, offset_downstream=0.0, flow_initial=0.0, flow_max=nan), 'C7': Conduit(name='C7', from_node='J6', to_node='J8', length=95.0, roughness=0.016, offset_upstream=0.0, offset_downstream=0.0, flow_initial=0.0, flow_max=nan), 'C8': Conduit(name='C8', from_node='J8', to_node='J9', length=166.0, roughness=0.05, offset_upstream=0.0, offset_downstream=0.0, flow_initial=0.0, flow_max=nan), 'C9': Conduit(name='C9', from_node='J9', to_node='J10', length=320.0, roughness=0.05, offset_upstream=0.0, offset_downstream=6.0, flow_initial=0.0, flow_max=nan), 'C10': Conduit(name='C10', from_node='J10', to_node='J11', length=145.0, roughness=0.05, offset_upstream=6.0, offset_downstream=6.0, flow_initial=0.0, flow_max=nan), 'C11': Conduit(name='C11', from_node='J11', to_node='O1', length=89.0, roughness=0.016, offset_upstream=0.0, offset_downstream=0.0, flow_initial=0.0, flow_max=nan), 'C_Aux3': Conduit(name='C_Aux3', from_node='Aux3', to_node='J3', length=444.75, roughness=0.05, offset_upstream=6.0, offset_downstream=0.0, flow_initial=0.0, flow_max=nan), 'P1': Conduit(name='P1', from_node='J1', to_node='J5', length=185.39, roughness=0.016, offset_upstream=0.0, offset_downstream=0.0, flow_initial=0.0, flow_max=nan), 'P2': Conduit(name='P2', from_node='J2a', to_node='J2', length=157.48, roughness=0.016, offset_upstream=0.0, offset_downstream=0.0, flow_initial=0.0, flow_max=nan), 'P3': Conduit(name='P3', from_node='J2', to_node='J11', length=529.22, roughness=0.016, offset_upstream=0.0, offset_downstream=0.0, flow_initial=0.0, flow_max=nan), 'P4': Conduit(name='P4', from_node='Aux3', to_node='J4', length=567.19, roughness=0.016, offset_upstream=0.0, offset_downstream=0.0, flow_initial=0.0, flow_max=nan), 'P5': Conduit(name='P5', from_node='J5', to_node='J4', length=125.98, roughness=0.016, offset_upstream=0.0, offset_downstream=0.0, flow_initial=0.0, flow_max=nan), 'P6': Conduit(name='P6', from_node='J4', to_node='J7', length=360.39, roughness=0.016, offset_upstream=0.0, offset_downstream=0.0, flow_initial=0.0, flow_max=nan), 'P7': Conduit(name='P7', from_node='J7', to_node='J10', length=507.76, roughness=0.016, offset_upstream=0.0, offset_downstream=0.0, flow_initial=0.0, flow_max=nan), 'P8': Conduit(name='P8', from_node='J10', to_node='J11', length=144.5, roughness=0.016, offset_upstream=0.0, offset_downstream=0.0, flow_initial=0.0, flow_max=nan)}\n"
          ]
        }
      ]
    },
    {
      "cell_type": "markdown",
      "source": [
        "# Boundary Parameters"
      ],
      "metadata": {
        "id": "aDGt-PtxbcIp"
      }
    },
    {
      "cell_type": "code",
      "source": [
        "peak_flow_dict = {}\n",
        "peak_flow_results =  {}\n",
        "peak_vel = {}\n",
        "adjust_pipe_size = {}\n",
        "pipe_geometry = {}\n",
        "conduit_ids = []\n",
        "link_length = {}\n",
        "in_offset = {}\n",
        "out_offset = {}\n",
        "vel_min = 0.8\n",
        "vel_max = 5\n",
        "geom1 = {}\n",
        "geom2 = {}\n",
        "geom3 = {}\n",
        "geom4 = {}\n",
        "trials = {}\n",
        "velocity = {}"
      ],
      "metadata": {
        "id": "Y4s_HHOGbcdk"
      },
      "execution_count": 25,
      "outputs": []
    },
    {
      "cell_type": "markdown",
      "source": [
        "# Data Frame"
      ],
      "metadata": {
        "id": "uzm6qT-_bopR"
      }
    },
    {
      "cell_type": "code",
      "source": [
        "conduits = inp['CONDUITS']\n",
        "xsections = inp['XSECTIONS']\n",
        "junctions_data = inp['JUNCTIONS']\n",
        "outfalls_data = inp['OUTFALLS']\n",
        "\n",
        "# Store results\n",
        "conduit_info = []"
      ],
      "metadata": {
        "id": "marNgPOObsTW"
      },
      "execution_count": 26,
      "outputs": []
    },
    {
      "cell_type": "markdown",
      "source": [
        "# Accessing Data Dictionary"
      ],
      "metadata": {
        "id": "r659Ig2csIHo"
      }
    },
    {
      "cell_type": "code",
      "source": [
        "for conduit_name, conduit_data in inp[\"CONDUITS\"].items():\n",
        "  conduit_dict = vars(conduit_data) # Access all data in Conduit\n",
        "  print (conduit_dict)\n",
        "\n",
        "print(xsections)  # Print the content of the xsections InpSection object\n",
        "for xsection_name, xsection_data in xsections.items():\n",
        "  print(xsection_data)  # Print the name of each parameter in the xsections section"
      ],
      "metadata": {
        "collapsed": true,
        "id": "LWYD9FfusMFM"
      },
      "execution_count": null,
      "outputs": []
    },
    {
      "cell_type": "markdown",
      "source": [
        "Test 1"
      ],
      "metadata": {
        "id": "7Blx_SJP1Gp9"
      }
    },
    {
      "cell_type": "code",
      "source": [
        "with Simulation(\"Inlet_Drains_Model1.inp\") as sim:\n",
        "    links = Links(sim)  # Create a Links object\n",
        "    for step in sim:\n",
        "      pass\n",
        "    for link in links:\n",
        "      conduit_name = link.linkid  # Get conduit name (link ID)\n",
        "      conduit_data = link.conduit_statistics  # The 'link' object itself holds the conduit data\n",
        "\n",
        "      peak_flow = conduit_data[\"peak_flow\"]\n",
        "\n",
        "      # # If you want to store it in a dictionary:\n",
        "      # peak_flow_dict = {}  # Initialize an empty dictionary if needed\n",
        "      # peak_flow_dict[conduit_name] = peak_flow\n",
        "      print(f\"Conduit Name: {conduit_name}\")\n",
        "      print(f\"Data: {conduit_data}\")\n",
        "      print(f\"Peak Flow: {peak_flow}\")  # Accessing a property of the conduit\n",
        "      # Access other properties like link.roughness, link.inlet_offset, etc."
      ],
      "metadata": {
        "id": "dZObmTaX1HkE"
      },
      "execution_count": null,
      "outputs": []
    },
    {
      "cell_type": "markdown",
      "source": [
        "# Data Gathering"
      ],
      "metadata": {
        "id": "3H5Avu-Dbu6x"
      }
    },
    {
      "cell_type": "code",
      "source": [
        "with Simulation(\"Inlet_Drains_Model1.inp\") as sim:\n",
        "    links = Links(sim)\n",
        "    for step in sim:\n",
        "      pass\n",
        "    for link in links:\n",
        "      conduit_name = link.linkid\n",
        "      conduit_data = link.conduit_statistics\n",
        "      peak_flow = conduit_data[\"peak_flow\"]\n",
        "\n",
        "      print(f\"Conduit Name: {conduit_name}\")\n",
        "      print(f\"Data: {peak_flow}\")\n",
        "\n",
        "for conduit_name, conduit_data in inp[\"CONDUITS\"].items():\n",
        "  # Access individual conduit properties using the appropriate keys\n",
        "  length = conduit_data.length  # Accessing the length property\n",
        "  in_offset = conduit_data.offset_upstream # parameter for inlet offset\n",
        "  out_offset = conduit_data.offset_downstream # parameter for outlet offset\n",
        "\n",
        "  for xsection_name, xsection_data in xsections.items():\n",
        "    name = xsection_name\n",
        "    shape = xsection_data.shape\n",
        "    geom1 = xsection_data.height # height is geom1 for most shapes\n",
        "    geom2 = xsection_data.parameter_2 # parameter_2 is geom2 for most shapes\n",
        "    geom3 = xsection_data.parameter_3 # parameter_3 is geom3 for most shapes\n",
        "    geom4 = xsection_data.parameter_4 # parameter_4 is geom4 for most shapes\n",
        "    # To get the idea of Geom 1 to Geom 4, see the guide attached in the Code Documentation in Google Docs\n",
        "\n",
        "    print (f\"Name: {name}\")\n",
        "    print (f\"Length: {length} m\")\n",
        "    print (f\"Shape: {shape}\")\n",
        "    print (f\"Geometry Parameters: {geom1} m, {geom2} m, {geom3} m, {geom4} m\")\n",
        "    print (f\"Inlet Offset: {in_offset} m\")\n",
        "    print (f\"Outlet Offset: {out_offset} m\")\n",
        "    print (f\"\")"
      ],
      "metadata": {
        "id": "3e_9tT7obxg7",
        "collapsed": true
      },
      "execution_count": null,
      "outputs": []
    },
    {
      "cell_type": "markdown",
      "source": [
        "# Arrange Conduits based on Pipe Flow\n"
      ],
      "metadata": {
        "id": "41iNAWpA5_Gv"
      }
    },
    {
      "cell_type": "code",
      "source": [
        "# Get network topology\n",
        "conduit_connections = {}\n",
        "for conduit_name, conduit_data in inp['CONDUITS'].items():\n",
        "    conduit_connections[conduit_name] = {\n",
        "        'upstream': conduit_data.from_node,\n",
        "        'downstream': conduit_data.to_node\n",
        "    }\n",
        "\n",
        "# Get all outfall node names from the SWMM input file\n",
        "outfall_node_names = list(inp['OUTFALLS'].keys())\n",
        "\n",
        "def is_outfall_node(node):\n",
        "    \"\"\"Checks if a node is an outfall node.\"\"\"\n",
        "    return node in outfall_node_names  # Direct comparison with outfall node names\n",
        "\n",
        "def trace_upstream_flow(start_node, path=None):\n",
        "    \"\"\"Traces the flow path upstream from a given node, including junctions.\"\"\"\n",
        "    if path is None:\n",
        "        path = []\n",
        "\n",
        "    path.append(start_node)  # Add the current node (junction or outfall) to the path\n",
        "\n",
        "    # Find conduits connected to the current node as the downstream\n",
        "    connected_conduits = [\n",
        "        conduit_name\n",
        "        for conduit_name, data in conduit_connections.items()\n",
        "        if data['downstream'] == start_node\n",
        "    ]\n",
        "\n",
        "    # If no upstream conduits are found, it's the outermost junction\n",
        "    if not connected_conduits:\n",
        "        return path  # Return the path including the outermost junction\n",
        "\n",
        "    # Trace upstream for each connected conduit\n",
        "    for conduit_name in connected_conduits:\n",
        "        upstream_node = conduit_connections[conduit_name]['upstream']\n",
        "        new_path = trace_upstream_flow(upstream_node, path + [conduit_name])  # Include conduit in the path\n",
        "        if new_path:\n",
        "            return new_path\n",
        "\n",
        "    return None  # Return None if no path is found (should not happen in a well-defined network)\n",
        "\n",
        "\n",
        "flow_paths = {}\n",
        "for outfall_node_name in outfall_node_names:\n",
        "    flow_path = trace_upstream_flow(outfall_node_name)\n",
        "    flow_paths[outfall_node_name] = flow_path\n",
        "\n",
        "# Show results\n",
        "for outfall_node, flow_path in flow_paths.items():\n",
        "    flow_path.reverse() # Reverse the flow path list\n",
        "    print(f\"Flow Path for {outfall_node}: {flow_path}\")\n",
        "\n",
        "    # Separate conduits and junctions for clearer output (optional)\n",
        "    conduits = [item for item in flow_path if item in conduit_connections]\n",
        "    junctions = [item for item in flow_path if item not in conduit_connections]\n",
        "    print(f\"Sorted Conduits for {outfall_node}: {conduits}\")\n",
        "    print(f\"Junctions in Path: {junctions}\")"
      ],
      "metadata": {
        "collapsed": true,
        "id": "fmjRANRJ5-y1",
        "colab": {
          "base_uri": "https://localhost:8080/"
        },
        "outputId": "f815f552-a4e6-41fa-f5a1-d19063950d11"
      },
      "execution_count": 29,
      "outputs": [
        {
          "output_type": "stream",
          "name": "stdout",
          "text": [
            "Flow Path for O1: ['Aux3', 'C_Aux3', 'J3', 'C3', 'J4', 'C4', 'J5', 'C5', 'J6', 'C7', 'J8', 'C8', 'J9', 'C9', 'J10', 'C10', 'J11', 'C11', 'O1']\n",
            "Sorted Conduits for O1: ['C_Aux3', 'C3', 'C4', 'C5', 'C7', 'C8', 'C9', 'C10', 'C11']\n",
            "Junctions in Path: ['Aux3', 'J3', 'J4', 'J5', 'J6', 'J8', 'J9', 'J10', 'J11', 'O1']\n"
          ]
        }
      ]
    },
    {
      "cell_type": "markdown",
      "source": [
        "# Identify the Invert Elevations of the Conduits"
      ],
      "metadata": {
        "id": "2Ls3loFLBELR"
      }
    },
    {
      "cell_type": "code",
      "source": [
        "conduit_info = []\n",
        "for conduit_name, conduit_data in inp['CONDUITS'].items():\n",
        "    upstream_junction = conduit_data.from_node\n",
        "    downstream_junction = conduit_data.to_node\n",
        "\n",
        "    upstream_invert = junctions_data[upstream_junction].elevation\n",
        "\n",
        "    # Check if downstream node is an outfall\n",
        "    if downstream_junction in outfalls_data:\n",
        "        downstream_invert = outfalls_data[downstream_junction].elevation  # Get elevation from outfalls_data\n",
        "    elif downstream_junction in junctions_data:\n",
        "        downstream_invert = junctions_data[downstream_junction].elevation  # Get elevation from junctions_data if it's a junction\n",
        "    else:\n",
        "        print(f\"Warning: Downstream node '{downstream_junction}' not found in junctions or outfalls data.\")\n",
        "        downstream_invert = None  # or some default value\n",
        "\n",
        "    length = conduit_data.length\n",
        "\n",
        "    if downstream_invert is not None:\n",
        "        slope = (upstream_invert - downstream_invert) / length\n",
        "    else:\n",
        "        slope = None\n",
        "    # Input all data gathered and solve in a DataFrame\n",
        "    conduit_info.append([conduit_name, upstream_junction, upstream_invert, downstream_junction, downstream_invert, length, slope])\n",
        "\n",
        "    print(f\"Conduit: {conduit_name}; From: {upstream_junction} To: {downstream_junction}\")\n",
        "    print(f\"Upstream Invert Elevation: {upstream_invert} m\")\n",
        "    print(f\"Downstream Invert Elevation: {downstream_invert} m\")\n",
        "    print(f\"Slope: {slope}\")\n",
        "\n",
        "# Exporting DataFrame as an .xlsx File\n",
        "conduit_df = pd.DataFrame(conduit_info, columns=['Conduit', 'From Node', 'Upstream Invert', 'To Node', 'Downstream Invert', 'Length', 'Slope'])\n",
        "\n",
        "conduit_df.to_excel(\"conduit_analysis_data.xlsx\", index=False)\n",
        "\n"
      ],
      "metadata": {
        "collapsed": true,
        "id": "xkmxUOlj9bpT",
        "colab": {
          "base_uri": "https://localhost:8080/"
        },
        "outputId": "6743dbaa-b543-4e1d-dea0-9251e89ad3b5"
      },
      "execution_count": 30,
      "outputs": [
        {
          "output_type": "stream",
          "name": "stdout",
          "text": [
            "Conduit: Street1; From: Aux1 To: Aux2\n",
            "Upstream Invert Elevation: 4975.0 m\n",
            "Downstream Invert Elevation: 4973.0 m\n",
            "Slope: 0.005300681137526172\n",
            "Conduit: Street2; From: Aux2 To: Aux4\n",
            "Upstream Invert Elevation: 4973.0 m\n",
            "Downstream Invert Elevation: 4971.8 m\n",
            "Slope: 0.0041949241417878\n",
            "Conduit: Street3; From: Aux4 To: Aux5\n",
            "Upstream Invert Elevation: 4971.8 m\n",
            "Downstream Invert Elevation: 4970.7 m\n",
            "Slope: 0.004594628461636372\n",
            "Conduit: Street4; From: Aux5 To: Aux6\n",
            "Upstream Invert Elevation: 4970.7 m\n",
            "Downstream Invert Elevation: 4969.0 m\n",
            "Slope: 0.010795021590042026\n",
            "Conduit: Street5; From: Aux6 To: Aux7\n",
            "Upstream Invert Elevation: 4969.0 m\n",
            "Downstream Invert Elevation: 4963.0 m\n",
            "Slope: 0.011406844106463879\n",
            "Conduit: C3; From: J3 To: J4\n",
            "Upstream Invert Elevation: 4973.0 m\n",
            "Downstream Invert Elevation: 4965.0 m\n",
            "Slope: 0.07339449541284404\n",
            "Conduit: C4; From: J4 To: J5\n",
            "Upstream Invert Elevation: 4965.0 m\n",
            "Downstream Invert Elevation: 4965.8 m\n",
            "Slope: -0.00601503759398633\n",
            "Conduit: C5; From: J5 To: J6\n",
            "Upstream Invert Elevation: 4965.8 m\n",
            "Downstream Invert Elevation: 4969.0 m\n",
            "Slope: -0.015458937198066755\n",
            "Conduit: C6; From: J7 To: J6\n",
            "Upstream Invert Elevation: 4963.5 m\n",
            "Downstream Invert Elevation: 4969.0 m\n",
            "Slope: -0.039285714285714285\n",
            "Conduit: C7; From: J6 To: J8\n",
            "Upstream Invert Elevation: 4969.0 m\n",
            "Downstream Invert Elevation: 4966.5 m\n",
            "Slope: 0.02631578947368421\n",
            "Conduit: C8; From: J8 To: J9\n",
            "Upstream Invert Elevation: 4966.5 m\n",
            "Downstream Invert Elevation: 4964.8 m\n",
            "Slope: 0.01024096385542059\n",
            "Conduit: C9; From: J9 To: J10\n",
            "Upstream Invert Elevation: 4964.8 m\n",
            "Downstream Invert Elevation: 4957.8 m\n",
            "Slope: 0.021875\n",
            "Conduit: C10; From: J10 To: J11\n",
            "Upstream Invert Elevation: 4957.8 m\n",
            "Downstream Invert Elevation: 4957.0 m\n",
            "Slope: 0.0055172413793115995\n",
            "Conduit: C11; From: J11 To: O1\n",
            "Upstream Invert Elevation: 4957.0 m\n",
            "Downstream Invert Elevation: 4956.0 m\n",
            "Slope: 0.011235955056179775\n",
            "Conduit: C_Aux3; From: Aux3 To: J3\n",
            "Upstream Invert Elevation: 4968.5 m\n",
            "Downstream Invert Elevation: 4973.0 m\n",
            "Slope: -0.01011804384485666\n",
            "Conduit: P1; From: J1 To: J5\n",
            "Upstream Invert Elevation: 4969.0 m\n",
            "Downstream Invert Elevation: 4965.8 m\n",
            "Slope: 0.017260909434164834\n",
            "Conduit: P2; From: J2a To: J2\n",
            "Upstream Invert Elevation: 4966.7 m\n",
            "Downstream Invert Elevation: 4965.0 m\n",
            "Slope: 0.010795021590042026\n",
            "Conduit: P3; From: J2 To: J11\n",
            "Upstream Invert Elevation: 4965.0 m\n",
            "Downstream Invert Elevation: 4957.0 m\n",
            "Slope: 0.015116586674728845\n",
            "Conduit: P4; From: Aux3 To: J4\n",
            "Upstream Invert Elevation: 4968.5 m\n",
            "Downstream Invert Elevation: 4965.0 m\n",
            "Slope: 0.0061707716990779095\n",
            "Conduit: P5; From: J5 To: J4\n",
            "Upstream Invert Elevation: 4965.8 m\n",
            "Downstream Invert Elevation: 4965.0 m\n",
            "Slope: 0.006350214319734735\n",
            "Conduit: P6; From: J4 To: J7\n",
            "Upstream Invert Elevation: 4965.0 m\n",
            "Downstream Invert Elevation: 4963.5 m\n",
            "Slope: 0.004162157662532257\n",
            "Conduit: P7; From: J7 To: J10\n",
            "Upstream Invert Elevation: 4963.5 m\n",
            "Downstream Invert Elevation: 4957.8 m\n",
            "Slope: 0.01122577595714475\n",
            "Conduit: P8; From: J10 To: J11\n",
            "Upstream Invert Elevation: 4957.8 m\n",
            "Downstream Invert Elevation: 4957.0 m\n",
            "Slope: 0.005536332179932055\n"
          ]
        }
      ]
    },
    {
      "cell_type": "markdown",
      "source": [
        "Continuity Equation"
      ],
      "metadata": {
        "id": "KcdHEuAr6TGn"
      }
    },
    {
      "cell_type": "code",
      "source": [
        "# Function for adjusting Pipe Sizes\n",
        "def adjust_pipe_size (peak_flow, peak_vel):\n",
        "    Area = peak_flow / peak_vel\n",
        "    new_diameter = math.sqrt( Area / (0.25 * math.pi))\n",
        "\n",
        "    pass"
      ],
      "metadata": {
        "id": "9XYKajux6YlC"
      },
      "execution_count": null,
      "outputs": []
    },
    {
      "cell_type": "markdown",
      "source": [
        "# Function: Identifying Peak Flow Rates"
      ],
      "metadata": {
        "id": "k8fzO78NBKXH"
      }
    },
    {
      "cell_type": "code",
      "source": [
        "def peak_flow_solve(inp, conduit_name):\n",
        "  with Simulation(inp) as sim:\n",
        "      links = Links(sim)\n",
        "      for step in sim:\n",
        "          pass\n",
        "\n",
        "      # Iterate through links to find the specific conduit\n",
        "      for link in links:\n",
        "          if link.linkid == conduit_name:\n",
        "              conduit_data = link.conduit_statistics\n",
        "              peak_flow = conduit_data.get(\"peak_flow\")  # Use get() to handle missing keys\n",
        "              if peak_flow is not None and peak_flow != 0.0:\n",
        "                  return float(peak_flow)  # Convert to float if found\n",
        "              else:\n",
        "                  return 0.0  # Or handle the missing peak_flow case differently\n",
        "\n",
        "      # If the conduit is not found\n",
        "      return 0.0  # Or handle the missing conduit case differently"
      ],
      "metadata": {
        "id": "ZDNnieVBAdj2"
      },
      "execution_count": 75,
      "outputs": []
    },
    {
      "cell_type": "markdown",
      "source": [
        "Test 1"
      ],
      "metadata": {
        "id": "6pRty0NnAbw4"
      }
    },
    {
      "cell_type": "code",
      "source": [
        "def peak_flow(inp_file_or_object):\n",
        "    if isinstance(inp_file_or_object, str):\n",
        "        inp_file = inp_file_or_object  # Use the file path directly\n",
        "    elif isinstance(inp_file_or_object, SwmmInput):\n",
        "        # If it's a SwmmInput object, write it to a temporary file\n",
        "        temp_file_name = \"temp_input.inp\"\n",
        "        inp_file_or_object.write_file(temp_file_name)\n",
        "        inp_file = temp_file_name  # Use the temporary file path\n",
        "    else:\n",
        "        raise ValueError(\"Input must be a file path string or a SwmmInput object\")\n",
        "\n",
        "    with Simulation(inp_file) as sim:\n",
        "        for step in sim:\n",
        "            pass\n",
        "\n",
        "        peak_flow_results = {}\n",
        "        # Assuming 'inp_file_or_object' has an attribute to access CONDUITS data\n",
        "        # If not, adjust this part to access the conduit data correctly\n",
        "        for conduit_name, conduit_data in inp_file_or_object[\"CONDUITS\"].items():\n",
        "            peak_flow_results[conduit_name] = conduit_data.flow_max\n",
        "\n",
        "    # If a temporary file was created, delete it along with its outputs\n",
        "    if isinstance(inp_file_or_object, SwmmInput):\n",
        "        os.remove(temp_file_name)\n",
        "        os.remove(\"temp_input.out\") # Delete temporary output file\n",
        "        os.remove(\"temp_input.rpt\") # Delete temporary report file\n",
        "\n",
        "    return peak_flow"
      ],
      "metadata": {
        "id": "BbSmwJdlWPux"
      },
      "execution_count": 31,
      "outputs": []
    },
    {
      "cell_type": "markdown",
      "source": [
        "# Function: Identifying Suitable Pipe Sizes"
      ],
      "metadata": {
        "id": "xPA-o0E4BPBM"
      }
    },
    {
      "cell_type": "code",
      "source": [
        "def find_suitable_sizes(conduit_name, available_sizes, peak_flow):\n",
        "  if inp[\"XSECTIONS\"][conduit_name].shape == \"CIRCULAR\":\n",
        "    original_size = inp[\"XSECTIONS\"][conduit_name].height  # Adjust based on your inp structure\n",
        "\n",
        "    if peak_flow == 0:\n",
        "      return [original_size]  # Return original size as the only suitable size\n",
        "\n",
        "    suitable_sizes = []\n",
        "    with open(available_sizes) as file:\n",
        "      for line in file:\n",
        "        size = float(line.strip())\n",
        "        # Changed '^' to '**' for exponentiation\n",
        "        if peak_flow != 0:  # Add a check for peak_flow\n",
        "            velocity = peak_flow / (math.pi * size**2 * 0.25)\n",
        "            if vel_min <= velocity <= vel_max:\n",
        "                suitable_sizes.append(size)\n",
        "\n",
        "    return suitable_sizes\n",
        "\n",
        "  else:\n",
        "    original_size = inp[\"XSECTIONS\"][conduit_name].height\n",
        "    return [original_size]"
      ],
      "metadata": {
        "id": "X4qjv3q_QjVb"
      },
      "execution_count": 87,
      "outputs": []
    },
    {
      "cell_type": "markdown",
      "source": [
        "# Function: Construction Cost"
      ],
      "metadata": {
        "id": "Fdlg-EGYBShP"
      }
    },
    {
      "cell_type": "code",
      "source": [
        "# Function for the Computation of Construction Costs\n",
        "def construction_costs (unit_cost, length, size):\n",
        "  pass"
      ],
      "metadata": {
        "id": "6L2XHSEYBFe2"
      },
      "execution_count": null,
      "outputs": []
    },
    {
      "cell_type": "markdown",
      "source": [
        "# Function: Identifying the Largest Pipe Size and Minimum Slope"
      ],
      "metadata": {
        "id": "KCFwCMVWBYm4"
      }
    },
    {
      "cell_type": "code",
      "source": [
        "# Identify the largest pipe size available and the minimum slope possible\n",
        "def largest_size_available(available_sizes):\n",
        "  largest_size = 0.0\n",
        "  with open(available_sizes) as file:\n",
        "    for line in file:\n",
        "      try:\n",
        "        size = float(line.strip())\n",
        "        if size > largest_size:\n",
        "          largest_size = size\n",
        "      except ValueError:\n",
        "        print (f\"Skipping Invalid Line: {line.strip()}\")\n",
        "  return largest_size\n",
        "\n",
        "available_sizes = \"Available Sizes.txt\"\n",
        "largest_size = largest_size_available(available_sizes)\n",
        "print(f\"Largest Pipe Size: {largest_size} m\")"
      ],
      "metadata": {
        "id": "tk2GjwjS6jX3",
        "colab": {
          "base_uri": "https://localhost:8080/"
        },
        "collapsed": true,
        "outputId": "404e9cc5-7dec-401c-b4bc-bf777534be68"
      },
      "execution_count": 34,
      "outputs": [
        {
          "output_type": "stream",
          "name": "stdout",
          "text": [
            "Largest Pipe Size: 5.90551 m\n"
          ]
        }
      ]
    },
    {
      "cell_type": "markdown",
      "source": [
        "# Function: Solving for the Max Hydraulic Radius"
      ],
      "metadata": {
        "id": "ERxTYwJO9zJ3"
      }
    },
    {
      "cell_type": "code",
      "source": [
        "def get_max_hydraulic_radius(inp, conduit_name):\n",
        "\n",
        "    with Simulation(inp) as sim:\n",
        "        links = Links(sim)\n",
        "        max_hydraulic_radius = 0.0  # Initialize max hydraulic radius\n",
        "\n",
        "        for step in sim:\n",
        "            # Iterate through links to find the specific conduit\n",
        "            for link in links:\n",
        "                if link.linkid == conduit_name:\n",
        "                    # Get the flow and depth for the current link and timestep\n",
        "                    flow = link.flow\n",
        "                    depth = link.depth\n",
        "\n",
        "                    # Calculate the hydraulic radius (R = A/P)\n",
        "                    # Assume circular pipe for this example\n",
        "                    if inp[\"XSECTIONS\"][conduit_name].shape == \"CIRCULAR\":\n",
        "                        diameter = inp[\"XSECTIONS\"][conduit_name].height\n",
        "\n",
        "                        # Calculate area and wetted perimeter based on depth\n",
        "                        if depth >= diameter:  # Full flow\n",
        "                            area = math.pi * (diameter / 2)**2\n",
        "                            wetted_perimeter = math.pi * diameter\n",
        "                        else:  # Partial flow\n",
        "                            theta = 2 * math.acos(1 - (2 * depth / diameter))\n",
        "                            area = (diameter**2 / 8) * (theta - math.sin(theta))\n",
        "                            wetted_perimeter = diameter * theta / 2\n",
        "\n",
        "                        hydraulic_radius = area / wetted_perimeter\n",
        "\n",
        "                        # Update max_hydraulic_radius if current value is larger\n",
        "                        max_hydraulic_radius = max(max_hydraulic_radius, hydraulic_radius)\n",
        "\n",
        "                    else:\n",
        "                        # Handle other cross-section shapes if needed\n",
        "                        pass\n",
        "                    break  # Exit the inner loop once the conduit is found\n",
        "\n",
        "    return max_hydraulic_radius"
      ],
      "metadata": {
        "id": "V0nfs7yu94hq"
      },
      "execution_count": 97,
      "outputs": []
    },
    {
      "cell_type": "markdown",
      "source": [
        "# Function: Manning's Equation"
      ],
      "metadata": {
        "id": "1DPR_wdb_D_1"
      }
    },
    {
      "cell_type": "code",
      "source": [
        "def adjust_slope_with_mannings(input, conduit_name, new_diameter):\n",
        "    \"\"\"\n",
        "    Adjusts the slope of a conduit in a SWMM input file based on a new diameter\n",
        "    using Manning's equation.\n",
        "\n",
        "    Args:\n",
        "        input_file (str): Path to the SWMM input file (.inp).\n",
        "        conduit_name (str): Name of the conduit to adjust the slope for.\n",
        "        new_diameter (float): The new diameter of the conduit.\n",
        "        mannings_n (float, optional): Manning's roughness coefficient. Defaults to 0.013.\n",
        "\n",
        "    Returns:\n",
        "        SwmmInput: The modified SwmmInput object with the adjusted slope.\n",
        "    \"\"\"\n",
        "\n",
        "    # Load the input file using SwmmInput\n",
        "    modified_inp = SwmmInput(input_file)\n",
        "\n",
        "    # Get peak flow rate (Q) for the conduit - you'll need to adapt this part\n",
        "    # based on how you are getting peak flow rates in your code\n",
        "    # peak_flow = peak_flow_solve(input_file, conduit_name) # or use your similar function\n",
        "    # peak_flow = get_peak_flow(modified_inp, conduit_name)\n",
        "    # peak_flow = current_peak_flows[conduit_name]\n",
        "\n",
        "    # Calculate cross-sectional area and hydraulic radius for the new diameter\n",
        "    area = math.pi * (new_diameter / 2)**2\n",
        "    hydraulic_radius = (new_diameter / 2) / 2  # Assuming full flow for now\n",
        "\n",
        "    # Calculate the new slope (S) using Manning's equation\n",
        "    new_slope = (peak_flow * mannings_n / (area * hydraulic_radius**(2/3)))**2\n",
        "\n",
        "    # Return the modified SwmmInput object\n",
        "    return new_slope"
      ],
      "metadata": {
        "id": "T9GTXrqE_Hvf"
      },
      "execution_count": null,
      "outputs": []
    },
    {
      "cell_type": "markdown",
      "source": [
        "# Function: Identifying Slopes"
      ],
      "metadata": {
        "id": "kdnW-H9E2ku0"
      }
    },
    {
      "cell_type": "code",
      "source": [
        "def adjusting_slopes(inp, conduit_name, pipe_size)\n",
        "  new_upstream_invert = {}\n",
        "  new_downstream_invert = {}\n",
        "\n",
        "  if inp[\"XSECTIONS\"][conduit_name].shape == \"CIRCULAR\"\n",
        "    for conduit_name, conduit_data in inp[\"CONDUITS\"].items():\n",
        "      upstream_junction = conduit_data.from_node\n",
        "      downstream_junction = conduit_data.to_node\n",
        "\n",
        "      upstream_invert = junctions_data[upstream_junction].elevation\n",
        "\n",
        "      # Check if downstream node is an outfall\n",
        "      if downstream_junction in outfalls_data:\n",
        "          downstream_invert = outfalls_data[downstream_junction].elevation  # Get elevation from outfalls_data\n",
        "      elif downstream_junction in junctions_data:\n",
        "          downstream_invert = junctions_data[downstream_junction].elevation  # Get elevation from junctions_data if it's a junction\n",
        "      else:\n",
        "          print(f\"Warning: Downstream node '{downstream_junction}' not found in junctions or outfalls data.\")\n",
        "          downstream_invert = None  # or some default value"
      ],
      "metadata": {
        "id": "KqbCF2bz2tmS"
      },
      "execution_count": null,
      "outputs": []
    },
    {
      "cell_type": "markdown",
      "source": [
        "Optimization of Pipe Sizes and Slopes"
      ],
      "metadata": {
        "id": "aI4uCS5FBOKb"
      }
    },
    {
      "cell_type": "markdown",
      "source": [
        "Optimization Test 1"
      ],
      "metadata": {
        "id": "7AqQil7bH-uP"
      }
    },
    {
      "cell_type": "code",
      "source": [
        "# Get initial peak flow rates (using your peak_flow_rates function or similar)\n",
        "initial_peak_flows = peak_flow(rpt)  # Replace with your actual function call\n",
        "\n",
        "# Define velocity constraints\n",
        "vel_min = 0.8\n",
        "vel_max = 5\n",
        "\n",
        "# Function to find suitable sizes for a given conduit and peak flow\n",
        "def find_suitable_sizes(conduit_name, peak_flow):\n",
        "    suitable_sizes = []\n",
        "    with open(\"Available Sizes.txt\") as file:  # Assuming your available sizes are in this file\n",
        "        for line in file:\n",
        "            size = float(line.strip())\n",
        "            velocity = peak_flow / (math.pi * size**2 * 0.25)\n",
        "            if vel_min <= velocity <= vel_max:\n",
        "                suitable_sizes.append(size)\n",
        "    return suitable_sizes\n",
        "\n",
        "# Optimization loop\n",
        "for outfall_node, flow_path in flow_paths.items():\n",
        "    conduits_in_path = [item for item in flow_path if item in conduit_connections]\n",
        "\n",
        "    # Optimize starting pipes simultaneously\n",
        "    starting_pipes = [conduits_in_path[0]]  # Get the first conduit in the path\n",
        "\n",
        "    suitable_sizes_per_pipe = {pipe: find_suitable_sizes(pipe, initial_peak_flows[pipe]) for pipe in starting_pipes}\n",
        "    all_size_combinations = list(itertools.product(*[suitable_sizes_per_pipe[pipe] for pipe in starting_pipes]))\n",
        "\n",
        "    for size_combination in all_size_combinations:\n",
        "        modified_inp = inp.copy()\n",
        "\n",
        "        # Modify pipe sizes for all starting pipes\n",
        "        for i, pipe in enumerate(starting_pipes):\n",
        "            modified_inp[\"CONDUITS\"][pipe].height = size_combination[i]\n",
        "\n",
        "        # Write modified input file and run simulation\n",
        "        modified_inp.write_file(\"modified_input.inp\")\n",
        "        with Simulation(\"modified_input.inp\") as sim:\n",
        "            for step in sim:\n",
        "                pass\n",
        "\n",
        "        # Get updated peak flow rates for next conduits in the series\n",
        "        # ... (use rpt object to get peak flow rates for downstream conduits) ...\n",
        "\n",
        "        # Iterate downstream and optimize remaining conduits\n",
        "        # ... (use similar logic as for starting pipes, but with updated peak flow rates) ..."
      ],
      "metadata": {
        "id": "H5dnPXkmIAts"
      },
      "execution_count": null,
      "outputs": []
    },
    {
      "cell_type": "markdown",
      "source": [
        "Optimization Test 2"
      ],
      "metadata": {
        "id": "KDTvzr8HS1v4"
      }
    },
    {
      "cell_type": "code",
      "source": [
        "# suitable_sizes = find_suitable_sizes(conduit_name, available_sizes, peak_flow)\n",
        "\n",
        "# Optimization loop\n",
        "# Get all starting pipes from all flow paths\n",
        "all_starting_pipes = []\n",
        "for outfall_node, flow_path in flow_paths.items():\n",
        "    conduits_in_path = [item for item in flow_path if item in conduit_connections]\n",
        "    all_starting_pipes.append(conduits_in_path[0])\n",
        "\n",
        "# Run initial simulation to get initial peak flows\n",
        "initial_peak_flows = peak_flow(\"Inlet_Drains_Model1.inp\")\n",
        "\n",
        "# Get suitable sizes for all starting pipes\n",
        "suitable_sizes_per_pipe = {\n",
        "    pipe: find_suitable_sizes(pipe, initial_peak_flows[pipe])\n",
        "    for pipe in all_starting_pipes\n",
        "}\n",
        "\n",
        "# Generate all size combinations for all starting pipes\n",
        "all_size_combinations = list(itertools.product(*[suitable_sizes_per_pipe[pipe] for pipe in all_starting_pipes]))\n",
        "\n",
        "# Optimization for all starting pipes simultaneously\n",
        "for size_combination in all_size_combinations:\n",
        "    modified_inp = copy.deepcopy(inp)\n",
        "\n",
        "    # Modify pipe sizes for all starting pipes\n",
        "    for i, pipe in enumerate(all_starting_pipes):\n",
        "        modified_inp[\"CONDUITS\"][pipe].height = size_combination[i]\n",
        "\n",
        "    # Save modified inp to a separate file\n",
        "    file_name = f\"modified_input_{'_'.join(map(str, size_combination))}.inp\"\n",
        "    modified_inp.write_file(file_name)\n",
        "\n",
        "    # Run simulation for the saved inp file\n",
        "    updated_peak_flows = peak_flow(file_name)\n",
        "\n",
        "    # ... (use updated_peak_flows to get peak flow rates for downstream conduits) ...\n",
        "\n",
        "    # Iterate downstream and optimize remaining conduits\n",
        "    # ... (use similar logic as for starting pipes, but with updated peak flow rates) ...\n"
      ],
      "metadata": {
        "id": "UCDviX21S3TT"
      },
      "execution_count": null,
      "outputs": []
    },
    {
      "cell_type": "markdown",
      "source": [
        "Optimization Test 3"
      ],
      "metadata": {
        "id": "E6Bo1bQgYmph"
      }
    },
    {
      "cell_type": "code",
      "source": [
        "# Optimization loop\n",
        "for outfall_node, flow_path in flow_paths.items():\n",
        "    conduits_in_path = [item for item in flow_path if item in conduit_connections]\n",
        "\n",
        "    # --- Start with initial simulation ---\n",
        "    current_peak_flows = peak_flow(inp)  # Assuming initial input file name\n",
        "    modified_inp = copy.deepcopy(inp)\n",
        "\n",
        "    # --- Iterate through conduits in the path ---\n",
        "    for i, conduit_name in enumerate(conduits_in_path):\n",
        "        suitable_sizes = find_suitable_sizes(conduit_name, available_sizes, current_peak_flows[conduit_name])\n",
        "\n",
        "        # --- Try each suitable size for the current conduit ---\n",
        "        for size in suitable_sizes:\n",
        "            modified_inp[\"CONDUITS\"][conduit_name].height = size\n",
        "\n",
        "            # Save modified inp to a separate file\n",
        "            file_name = f\"modified_input_{conduit_name}_{size}.inp\"\n",
        "            modified_inp.write_file(file_name)\n",
        "\n",
        "            # Run simulation for the saved inp file\n",
        "            # current_peak_flows = peak_flow(file_name)  # Update peak flows for next conduit\n",
        "            # Use the SwmmInput object created from the modified file\n",
        "            updated_inp = SwmmInput(file_name)  # Create SwmmInput object for the modified file\n",
        "            current_peak_flows = peak_flow(updated_inp)  # Update peak flows\n",
        "\n",
        "            # ... (You can add logic here to compare results or store data) ...\n",
        "\n",
        "        # --- After trying all sizes for current conduit, move to the next ---\n",
        "\n",
        "    # --- After processing all conduits in the path, move to the next flow path ---"
      ],
      "metadata": {
        "id": "3XZmtH-hYoG0",
        "colab": {
          "base_uri": "https://localhost:8080/",
          "height": 211
        },
        "outputId": "6a742e7a-59b7-4682-c3cf-2523cecffeeb"
      },
      "execution_count": null,
      "outputs": [
        {
          "output_type": "error",
          "ename": "TypeError",
          "evalue": "'float' object is not callable",
          "traceback": [
            "\u001b[0;31m---------------------------------------------------------------------------\u001b[0m",
            "\u001b[0;31mTypeError\u001b[0m                                 Traceback (most recent call last)",
            "\u001b[0;32m<ipython-input-37-618019fd3e63>\u001b[0m in \u001b[0;36m<cell line: 0>\u001b[0;34m()\u001b[0m\n\u001b[1;32m      1\u001b[0m \u001b[0;31m# Set all pipe sizes to largest_size\u001b[0m\u001b[0;34m\u001b[0m\u001b[0;34m\u001b[0m\u001b[0m\n\u001b[0;32m----> 2\u001b[0;31m \u001b[0mlargest_size\u001b[0m \u001b[0;34m=\u001b[0m \u001b[0mlargest_size\u001b[0m\u001b[0;34m(\u001b[0m\u001b[0mavailable_sizes\u001b[0m\u001b[0;34m)\u001b[0m  \u001b[0;31m# Calculate largest_size\u001b[0m\u001b[0;34m\u001b[0m\u001b[0;34m\u001b[0m\u001b[0m\n\u001b[0m\u001b[1;32m      3\u001b[0m \u001b[0;32mfor\u001b[0m \u001b[0mconduit_name\u001b[0m\u001b[0;34m,\u001b[0m \u001b[0mconduit_data\u001b[0m \u001b[0;32min\u001b[0m \u001b[0minp\u001b[0m\u001b[0;34m[\u001b[0m\u001b[0;34m\"CONDUITS\"\u001b[0m\u001b[0;34m]\u001b[0m\u001b[0;34m.\u001b[0m\u001b[0mitems\u001b[0m\u001b[0;34m(\u001b[0m\u001b[0;34m)\u001b[0m\u001b[0;34m:\u001b[0m\u001b[0;34m\u001b[0m\u001b[0;34m\u001b[0m\u001b[0m\n\u001b[1;32m      4\u001b[0m     \u001b[0mconduit_data\u001b[0m\u001b[0;34m.\u001b[0m\u001b[0mheight\u001b[0m \u001b[0;34m=\u001b[0m \u001b[0mlargest_size\u001b[0m\u001b[0;34m\u001b[0m\u001b[0;34m\u001b[0m\u001b[0m\n\u001b[1;32m      5\u001b[0m \u001b[0;34m\u001b[0m\u001b[0m\n",
            "\u001b[0;31mTypeError\u001b[0m: 'float' object is not callable"
          ]
        }
      ]
    },
    {
      "cell_type": "markdown",
      "source": [
        "Optimization Test 4"
      ],
      "metadata": {
        "id": "du76TZw0bx1e"
      }
    },
    {
      "cell_type": "code",
      "source": [
        "for conduit_name, conduit_data in inp[\"CONDUITS\"].items():\n",
        "    conduit_data.height = largest_size\n",
        "\n",
        "# Saving data before Simulation\n",
        "inp.write_file(\"Modified_Inlet_Drains_Model1.inp\")\n",
        "\n",
        "# Get all starting pipes from all flow paths\n",
        "all_starting_pipes = []\n",
        "for outfall_node, flow_path in flow_paths.items():\n",
        "    conduits_in_path = [item for item in flow_path if item in conduit_connections]\n",
        "    all_starting_pipes.append(conduits_in_path[0])\n",
        "\n",
        "# Run initial simulation to get initial peak flows\n",
        "# Changed 'peak_flow' to its original function name\n",
        "initial_peak_flows = peak_flow(inp) # or use whatever name you originally called your peak flow rates function\n",
        "\n",
        "# Get suitable sizes for all starting pipes\n",
        "suitable_sizes_per_pipe = {\n",
        "    pipe: find_suitable_sizes(pipe, available_sizes, initial_peak_flows[pipe])\n",
        "    for pipe in all_starting_pipes\n",
        "}\n",
        "\n",
        "# Generate all size combinations for all starting pipes\n",
        "all_size_combinations = list(itertools.product(*[suitable_sizes_per_pipe[pipe] for pipe in all_starting_pipes]))\n",
        "print(\"All size combinations:\", all_size_combinations)\n",
        "\n",
        "# Optimization loop for each size combination\n",
        "for size_combination in all_size_combinations:\n",
        "    modified_inp = copy.deepcopy(inp)\n",
        "\n",
        "    # Modify pipe sizes for all starting pipes\n",
        "    for i, pipe in enumerate(all_starting_pipes):\n",
        "        modified_inp[\"CONDUITS\"][pipe].height = size_combination[i]\n",
        "\n",
        "    # --- Iterate downstream and optimize remaining conduits ---\n",
        "    current_peak_flows = peak_flow(modified_inp)  # Get peak flows for the modified input\n",
        "\n",
        "    for outfall_node, flow_path in flow_paths.items():\n",
        "        conduits_in_path = [item for item in flow_path if item in conduit_connections]\n",
        "\n",
        "        for i, conduit_name in enumerate(conduits_in_path):\n",
        "            # Skip starting pipes as they are already set\n",
        "            if conduit_name in all_starting_pipes:\n",
        "                continue\n",
        "\n",
        "            suitable_sizes = find_suitable_sizes(conduit_name, current_peak_flows[conduit_name])\n",
        "\n",
        "            # Find best size for current conduit based on cost (or other criteria)\n",
        "            best_size_for_conduit = suitable_sizes[0]  # You might need a more sophisticated cost function here\n",
        "\n",
        "            # Update the modified input with the best size\n",
        "            modified_inp[\"CONDUITS\"][conduit_name].height = best_size_for_conduit\n",
        "\n",
        "            current_peak_flows = peak_flow(modified_inp)  # Update peak flows for next conduit\n",
        "\n",
        "    # Save the fully optimized input to a separate file\n",
        "    file_name = f\"optimized_input_{'_'.join(map(str, size_combination))}.inp\"\n",
        "    modified_inp.write_file(file_name)\n",
        "    print(f\"Optimized input file saved as {file_name}\")"
      ],
      "metadata": {
        "colab": {
          "base_uri": "https://localhost:8080/",
          "height": 367
        },
        "id": "RFA3FZ0xb0xE",
        "outputId": "50f1959b-e0f2-413a-cd0e-4b08427d754b"
      },
      "execution_count": null,
      "outputs": [
        {
          "output_type": "error",
          "ename": "TypeError",
          "evalue": "'function' object is not subscriptable",
          "traceback": [
            "\u001b[0;31m---------------------------------------------------------------------------\u001b[0m",
            "\u001b[0;31mTypeError\u001b[0m                                 Traceback (most recent call last)",
            "\u001b[0;32m<ipython-input-12-02c5aea5aff8>\u001b[0m in \u001b[0;36m<cell line: 0>\u001b[0;34m()\u001b[0m\n\u001b[1;32m     16\u001b[0m \u001b[0;34m\u001b[0m\u001b[0m\n\u001b[1;32m     17\u001b[0m \u001b[0;31m# Get suitable sizes for all starting pipes\u001b[0m\u001b[0;34m\u001b[0m\u001b[0;34m\u001b[0m\u001b[0m\n\u001b[0;32m---> 18\u001b[0;31m suitable_sizes_per_pipe = {\n\u001b[0m\u001b[1;32m     19\u001b[0m     \u001b[0mpipe\u001b[0m\u001b[0;34m:\u001b[0m \u001b[0mfind_suitable_sizes\u001b[0m\u001b[0;34m(\u001b[0m\u001b[0mpipe\u001b[0m\u001b[0;34m,\u001b[0m \u001b[0mavailable_sizes\u001b[0m\u001b[0;34m,\u001b[0m \u001b[0minitial_peak_flows\u001b[0m\u001b[0;34m[\u001b[0m\u001b[0mpipe\u001b[0m\u001b[0;34m]\u001b[0m\u001b[0;34m)\u001b[0m\u001b[0;34m\u001b[0m\u001b[0;34m\u001b[0m\u001b[0m\n\u001b[1;32m     20\u001b[0m     \u001b[0;32mfor\u001b[0m \u001b[0mpipe\u001b[0m \u001b[0;32min\u001b[0m \u001b[0mall_starting_pipes\u001b[0m\u001b[0;34m\u001b[0m\u001b[0;34m\u001b[0m\u001b[0m\n",
            "\u001b[0;32m<ipython-input-12-02c5aea5aff8>\u001b[0m in \u001b[0;36m<dictcomp>\u001b[0;34m(.0)\u001b[0m\n\u001b[1;32m     17\u001b[0m \u001b[0;31m# Get suitable sizes for all starting pipes\u001b[0m\u001b[0;34m\u001b[0m\u001b[0;34m\u001b[0m\u001b[0m\n\u001b[1;32m     18\u001b[0m suitable_sizes_per_pipe = {\n\u001b[0;32m---> 19\u001b[0;31m     \u001b[0mpipe\u001b[0m\u001b[0;34m:\u001b[0m \u001b[0mfind_suitable_sizes\u001b[0m\u001b[0;34m(\u001b[0m\u001b[0mpipe\u001b[0m\u001b[0;34m,\u001b[0m \u001b[0mavailable_sizes\u001b[0m\u001b[0;34m,\u001b[0m \u001b[0minitial_peak_flows\u001b[0m\u001b[0;34m[\u001b[0m\u001b[0mpipe\u001b[0m\u001b[0;34m]\u001b[0m\u001b[0;34m)\u001b[0m\u001b[0;34m\u001b[0m\u001b[0;34m\u001b[0m\u001b[0m\n\u001b[0m\u001b[1;32m     20\u001b[0m     \u001b[0;32mfor\u001b[0m \u001b[0mpipe\u001b[0m \u001b[0;32min\u001b[0m \u001b[0mall_starting_pipes\u001b[0m\u001b[0;34m\u001b[0m\u001b[0;34m\u001b[0m\u001b[0m\n\u001b[1;32m     21\u001b[0m }\n",
            "\u001b[0;31mTypeError\u001b[0m: 'function' object is not subscriptable"
          ]
        }
      ]
    },
    {
      "cell_type": "markdown",
      "source": [
        "# Step 1: Initialize All Pipe Sizes and Slopes"
      ],
      "metadata": {
        "id": "TiTw81UCBgdJ"
      }
    },
    {
      "cell_type": "code",
      "source": [
        "for conduit_name, conduit_data in inp[\"CONDUITS\"].items():\n",
        "    modified_inp = copy.deepcopy(inp)\n",
        "    for xsection_name, xsection_data in xsections.items():\n",
        "      # Get the xsection name associated with the current conduit\n",
        "      # The attribute is called 'xsection' and not 'xsection_name'\n",
        "      conduit_id = xsection_name\n",
        "\n",
        "      # Modify the xsection data in the 'XSECTIONS' section\n",
        "      xsection_data = modified_inp[\"XSECTIONS\"][xsection_name]\n",
        "      if callable(largest_size_available):\n",
        "        conduit_size = largest_size_available(available_sizes)\n",
        "      else:\n",
        "        conduit_size = largest_size_available\n",
        "\n",
        "      if xsection_data.shape == \"CIRCULAR\":\n",
        "        xsection_data.height = conduit_size\n",
        "      else:\n",
        "        pass\n",
        "\n",
        "      print(f\"Name: {conduit_id}\")\n",
        "      print(f\"Shape: {xsection_data.shape}\")\n",
        "      print(f\"Conduit Height: {xsection_data.height}\")\n",
        "      print(f\"\")\n",
        "      # Create a unique filename to avoid overwriting\n",
        "\n",
        "file_name = f\"Modified_Model1.inp\"\n",
        "modified_inp.write_file(file_name)\n"
      ],
      "metadata": {
        "id": "W7FUVSR9CI43",
        "collapsed": true
      },
      "execution_count": null,
      "outputs": []
    },
    {
      "cell_type": "markdown",
      "source": [
        "# Step 2: Optimize Pipe Sizes"
      ],
      "metadata": {
        "id": "cdwJRMvhBkdi"
      }
    },
    {
      "cell_type": "markdown",
      "source": [
        "Starting Pipe Size Optimization"
      ],
      "metadata": {
        "id": "t2IgzvzeYjyS"
      }
    },
    {
      "cell_type": "code",
      "source": [
        "# Get all starting pipes from all flow paths\n",
        "all_starting_pipes = []\n",
        "for outfall_node, flow_path in flow_paths.items():\n",
        "    conduits_in_path = [item for item in flow_path if item in conduit_connections]\n",
        "    all_starting_pipes.append(conduits_in_path[0])\n",
        "\n",
        "# Create a dictionary to store initial peak flows for each conduit\n",
        "initial_peak_flows = {}\n",
        "for conduit_name in all_starting_pipes:  # or inp['CONDUITS'] to check all\n",
        "    peak_flow_value = peak_flow_solve(\"Modified_Model1.inp\", conduit_name)\n",
        "    initial_peak_flows[conduit_name] = peak_flow_value\n",
        "    print(initial_peak_flows)\n",
        "\n",
        "# Get suitable sizes for all starting pipes\n",
        "suitable_sizes_per_pipe = {\n",
        "    conduit_name: find_suitable_sizes(conduit_name, available_sizes, initial_peak_flows[conduit_name])\n",
        "    for conduit_name in all_starting_pipes\n",
        "}\n",
        "print(suitable_sizes_per_pipe)\n",
        "\n",
        "# Generate all size combinations for all starting pipes\n",
        "all_size_combinations = list(itertools.product(*[suitable_sizes_per_pipe[pipe] for pipe in all_starting_pipes]))\n",
        "\n",
        "# Optimization loop for each size combination\n",
        "for size_combination in all_size_combinations:\n",
        "    modified_inp = copy.deepcopy(inp)\n",
        "\n",
        "    # Modify pipe sizes for all starting pipes\n",
        "    for i, pipe in enumerate(all_starting_pipes):\n",
        "        # Find the xsection name associated with the pipe\n",
        "        xsection_name = None\n",
        "        for xs_name, xs_data in xsections.items():\n",
        "            if xs_data.link == pipe:\n",
        "                xsection_name = xs_name\n",
        "                break\n",
        "\n",
        "    if xsection_name is not None:\n",
        "        modified_inp[\"XSECTIONS\"][xsection_name].height = size_combination[i]\n",
        "\n",
        "    # *** Add this section to save the modified input file ***\n",
        "    file_name = f\"modified_input_starting_pipes_{'_'.join(map(str, size_combination))}.inp\"\n",
        "    modified_inp.write_file(file_name)\n",
        "    print(f\"Modified input file saved as {file_name}\")\n",
        "\n",
        "\n",
        "# #Iterate through all conduits, not just starting pipes\n",
        "# for xsection_name, xsection_data in xsections.items():\n",
        "#     pipe_name = xsection_name\n",
        "#     flow = peak_flow_solve(\"Modified_Model1.inp\", pipe_name)\n",
        "#     print(f\"Pipe Name: {pipe_name}\")\n",
        "#     print(f\"Flow: {flow}\")\n",
        "#     print(f\"\")\n",
        "\n",
        "    # # Check if flow is not None before proceeding\n",
        "    # if flow is not None:\n",
        "    #     suitable_sizes = find_suitable_sizes(pipe_name, available_sizes, flow)\n",
        "    #     # ... (Rest of your logic to use suitable_sizes) ...\n",
        "    # else:\n",
        "    #     print(f\"Warning: Could not get peak flow for conduit {conduit_name}. Skipping.\")"
      ],
      "metadata": {
        "id": "-MtbVb-w7FuL",
        "collapsed": true
      },
      "execution_count": null,
      "outputs": []
    },
    {
      "cell_type": "markdown",
      "source": [
        "Downstream Optimization"
      ],
      "metadata": {
        "id": "pp_5p5Z9WcmB"
      }
    },
    {
      "cell_type": "code",
      "source": [
        "# Optimization loop for each size combination\n",
        "for size_combination in all_size_combinations:\n",
        "    modified_inp = copy.deepcopy(inp)\n",
        "\n",
        "    # Modify pipe sizes for all starting pipes\n",
        "    for i, pipe in enumerate(all_starting_pipes):\n",
        "        # Find the xsection name associated with the pipe\n",
        "        xsection_name = None\n",
        "        for xs_name, xs_data in xsections.items():\n",
        "            if xs_data.link == pipe:\n",
        "                xsection_name = xs_name\n",
        "                break\n",
        "\n",
        "        if xsection_name is not None:\n",
        "            modified_inp[\"XSECTIONS\"][xsection_name].height = size_combination[i]\n",
        "\n",
        "    # --- Iterate downstream and optimize remaining conduits ---\n",
        "    # Get initial peak flows for this combination using the original peak_flow_solve function\n",
        "    current_peak_flows = {}\n",
        "    for conduit_name, _ in modified_inp[\"CONDUITS\"].items():\n",
        "        # Create a temporary input file\n",
        "        temp_file_name = f\"temp_input_{conduit_name}.inp\"\n",
        "        modified_inp.write_file(temp_file_name)\n",
        "\n",
        "        # Call peak_flow_solve with the temporary file\n",
        "        peak_flow_value = peak_flow_solve(temp_file_name, conduit_name)\n",
        "\n",
        "        # Remove the temporary file\n",
        "        os.remove(temp_file_name)\n",
        "        os.remove(temp_file_name.replace(\".inp\", \".out\"))\n",
        "        os.remove(temp_file_name.replace(\".inp\", \".rpt\"))\n",
        "\n",
        "        current_peak_flows[conduit_name] = peak_flow_value\n",
        "\n",
        "\n",
        "    for outfall_node, flow_path in flow_paths.items():\n",
        "        conduits_in_path = [item for item in flow_path if item in conduit_connections]\n",
        "\n",
        "        for i, conduit_name in enumerate(conduits_in_path):\n",
        "            # Skip starting pipes as they are already set\n",
        "            if conduit_name in all_starting_pipes:\n",
        "                continue\n",
        "\n",
        "            suitable_sizes = find_suitable_sizes(conduit_name, available_sizes, current_peak_flows[conduit_name])\n",
        "\n",
        "            # Find best size for current conduit (consider cost or other criteria)\n",
        "            best_size_for_conduit = suitable_sizes[0]  # Placeholder, replace with your logic\n",
        "\n",
        "            # Find the xsection name associated with the conduit\n",
        "            xsection_name = None\n",
        "            for xs_name, xs_data in xsections.items():\n",
        "                if xs_data.link == conduit_name:\n",
        "                    xsection_name = xs_name\n",
        "                    break\n",
        "\n",
        "            # Update the modified input with the best size\n",
        "            if xsection_name is not None:\n",
        "                modified_inp[\"XSECTIONS\"][xsection_name].height = best_size_for_conduit\n",
        "\n",
        "            # Update peak flows for the next conduit in the path\n",
        "            # Get updated peak flows using the original peak_flow_solve function\n",
        "            current_peak_flows = {}\n",
        "            for conduit_name, _ in modified_inp[\"CONDUITS\"].items():\n",
        "                # Create a temporary input file\n",
        "                temp_file_name = f\"temp_input_{conduit_name}.inp\"\n",
        "                modified_inp.write_file(temp_file_name)\n",
        "\n",
        "                # Call peak_flow_solve with the temporary file\n",
        "                peak_flow_value = peak_flow_solve(temp_file_name, conduit_name)\n",
        "\n",
        "                # Remove the temporary file\n",
        "                os.remove(temp_file_name)\n",
        "                os.remove(temp_file_name.replace(\".inp\", \".out\"))\n",
        "                os.remove(temp_file_name.replace(\".inp\", \".rpt\"))\n",
        "\n",
        "                current_peak_flows[conduit_name] = peak_flow_value\n",
        "\n",
        "    # Save the fully optimized input to a separate file with a unique name\n",
        "    file_name = f\"optimized_input_starting_pipes_{'_'.join(map(str, size_combination))}_downstream.inp\"\n",
        "    modified_inp.write_file(file_name)\n",
        "    print(f\"Optimized input file saved as {file_name}\")"
      ],
      "metadata": {
        "colab": {
          "base_uri": "https://localhost:8080/"
        },
        "id": "KSLtFRo4Wfy5",
        "outputId": "6bbb829c-a788-4b7b-ffdb-d200deac8136"
      },
      "execution_count": 94,
      "outputs": [
        {
          "output_type": "stream",
          "name": "stdout",
          "text": [
            "Optimized input file saved as optimized_input_starting_pipes_3.0_downstream.inp\n"
          ]
        }
      ]
    },
    {
      "cell_type": "markdown",
      "source": [
        "# Step 3: Adjust Pipe Slopes Based on Adjusted Pipe Sizes"
      ],
      "metadata": {
        "id": "40pM9YyyolCJ"
      }
    },
    {
      "cell_type": "code",
      "source": [
        "# Get a list of all optimized input files from Step 2\n",
        "optimized_input_files = [f for f in os.listdir() if f.startswith(\"optimized_input_starting_pipes_\")]\n",
        "\n",
        "# Iterate through each optimized input file\n",
        "for input_file in optimized_input_files:\n",
        "    # Load the input file using SwmmInput\n",
        "    modified_inp = SwmmInput(input_file)\n",
        "\n",
        "    # --- Modify conduit slopes/inverts here ---\n",
        "    for outfall_node, flow_path in flow_paths.items():\n",
        "        conduits_in_path = [item for item in flow_path if item in conduit_connections]\n",
        "\n",
        "        # Process conduits in reverse order (from last to first)\n",
        "        for conduit_name in reversed(conduits_in_path):\n",
        "            conduit_data = modified_inp[\"CONDUITS\"][conduit_name]\n",
        "\n",
        "            # Get optimized size\n",
        "            optimized_size = conduit_data.height\n",
        "\n",
        "            # Get upstream and downstream node names\n",
        "            upstream_node = conduit_data.from_node\n",
        "            downstream_node = conduit_data.to_node\n",
        "\n",
        "            # Calculate new invert elevations based on optimized size and other factors\n",
        "            # ... (Your logic to calculate new upstream and downstream inverts) ...\n",
        "            # You might need to consider the slope, length, and existing inverts\n",
        "            # of connected conduits to maintain continuity.\n",
        "\n",
        "            # Update the invert elevations in the JUNCTIONS section\n",
        "            modified_inp[\"JUNCTIONS\"][upstream_node].elevation = new_upstream_invert\n",
        "\n",
        "            # Check if downstream node is an outfall, if not, update its invert elevation\n",
        "            if downstream_node not in modified_inp[\"OUTFALLS\"]:\n",
        "              modified_inp[\"JUNCTIONS\"][downstream_node].elevation = new_downstream_invert\n",
        "\n",
        "    # Save the modified input file with a new name\n",
        "    modified_inp.write_file(f\"adjusted_{input_file}\")\n",
        "\n",
        "    print(f\"Adjusted slopes/inverts for {input_file} and saved as adjusted_{input_file}\")"
      ],
      "metadata": {
        "id": "kRIQFWUHoumL"
      },
      "execution_count": null,
      "outputs": []
    }
  ]
}